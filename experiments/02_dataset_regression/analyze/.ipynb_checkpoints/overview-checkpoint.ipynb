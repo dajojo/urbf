{
 "cells": [
  {
   "cell_type": "markdown",
   "metadata": {},
   "source": [
    "# Loading the Data"
   ]
  },
  {
   "cell_type": "markdown",
   "metadata": {},
   "source": [
    "Loading the data with help of the `ExperimentDataLoaderWidget`. \n",
    "\n",
    "You can select which experiments to load, define a different name (the 'name' field, not the 'short name' field) and resort the data. The name and the order of the experiments influence the legends of the plots.\n",
    "\n",
    "Here we also compute an extra statistic, the total reward of each experiment / repetition, using the custom `cal_total_reward` function.\n",
    "\n",
    "You have to press the 'Load Data' button to load the data.\n",
    "\n",
    "If you don't see a table with the experiments, then you might not have installed the required qgrid widget. Please see the installation instructions on the main page of the exputils. "
   ]
  },
  {
   "cell_type": "code",
   "execution_count": 1,
   "metadata": {
    "code_folding": []
   },
   "outputs": [
    {
     "data": {
      "application/vnd.jupyter.widget-view+json": {
       "model_id": "6ccb4c785b4a4d9db42735b621270222",
       "version_major": 2,
       "version_minor": 0
      },
      "text/plain": [
       "ExperimentDataLoaderWidget(children=(Box(children=(Button(description='Update Descriptions', layout=Layout(hei…"
      ]
     },
     "metadata": {},
     "output_type": "display_data"
    },
    {
     "name": "stderr",
     "output_type": "stream",
     "text": [
      "/opt/homebrew/lib/python3.11/site-packages/exputils/data/loading.py:185: UserWarning: Could not find data for repetition 0 of experiment '000007' ('../experiments/experiment_000007'). Skipped ...\n",
      "  warnings.warn('Could not find data for repetition {} of experiment {!r} ({!r}). Skipped ...'.format(rep_id, exp_id, exp_descr['directory']))\n",
      "/opt/homebrew/lib/python3.11/site-packages/exputils/data/loading.py:185: UserWarning: Could not find data for repetition 1 of experiment '000007' ('../experiments/experiment_000007'). Skipped ...\n",
      "  warnings.warn('Could not find data for repetition {} of experiment {!r} ({!r}). Skipped ...'.format(rep_id, exp_id, exp_descr['directory']))\n",
      "/opt/homebrew/lib/python3.11/site-packages/exputils/data/loading.py:185: UserWarning: Could not find data for repetition 2 of experiment '000007' ('../experiments/experiment_000007'). Skipped ...\n",
      "  warnings.warn('Could not find data for repetition {} of experiment {!r} ({!r}). Skipped ...'.format(rep_id, exp_id, exp_descr['directory']))\n",
      "/opt/homebrew/lib/python3.11/site-packages/exputils/data/loading.py:185: UserWarning: Could not find data for repetition 3 of experiment '000007' ('../experiments/experiment_000007'). Skipped ...\n",
      "  warnings.warn('Could not find data for repetition {} of experiment {!r} ({!r}). Skipped ...'.format(rep_id, exp_id, exp_descr['directory']))\n",
      "/opt/homebrew/lib/python3.11/site-packages/exputils/data/loading.py:185: UserWarning: Could not find data for repetition 0 of experiment '000008' ('../experiments/experiment_000008'). Skipped ...\n",
      "  warnings.warn('Could not find data for repetition {} of experiment {!r} ({!r}). Skipped ...'.format(rep_id, exp_id, exp_descr['directory']))\n",
      "/opt/homebrew/lib/python3.11/site-packages/exputils/data/loading.py:185: UserWarning: Could not find data for repetition 1 of experiment '000008' ('../experiments/experiment_000008'). Skipped ...\n",
      "  warnings.warn('Could not find data for repetition {} of experiment {!r} ({!r}). Skipped ...'.format(rep_id, exp_id, exp_descr['directory']))\n",
      "/opt/homebrew/lib/python3.11/site-packages/exputils/data/loading.py:185: UserWarning: Could not find data for repetition 2 of experiment '000008' ('../experiments/experiment_000008'). Skipped ...\n",
      "  warnings.warn('Could not find data for repetition {} of experiment {!r} ({!r}). Skipped ...'.format(rep_id, exp_id, exp_descr['directory']))\n",
      "/opt/homebrew/lib/python3.11/site-packages/exputils/data/loading.py:185: UserWarning: Could not find data for repetition 3 of experiment '000008' ('../experiments/experiment_000008'). Skipped ...\n",
      "  warnings.warn('Could not find data for repetition {} of experiment {!r} ({!r}). Skipped ...'.format(rep_id, exp_id, exp_descr['directory']))\n",
      "/opt/homebrew/lib/python3.11/site-packages/exputils/data/loading.py:185: UserWarning: Could not find data for repetition 0 of experiment '000009' ('../experiments/experiment_000009'). Skipped ...\n",
      "  warnings.warn('Could not find data for repetition {} of experiment {!r} ({!r}). Skipped ...'.format(rep_id, exp_id, exp_descr['directory']))\n",
      "/opt/homebrew/lib/python3.11/site-packages/exputils/data/loading.py:185: UserWarning: Could not find data for repetition 1 of experiment '000009' ('../experiments/experiment_000009'). Skipped ...\n",
      "  warnings.warn('Could not find data for repetition {} of experiment {!r} ({!r}). Skipped ...'.format(rep_id, exp_id, exp_descr['directory']))\n",
      "/opt/homebrew/lib/python3.11/site-packages/exputils/data/loading.py:185: UserWarning: Could not find data for repetition 2 of experiment '000009' ('../experiments/experiment_000009'). Skipped ...\n",
      "  warnings.warn('Could not find data for repetition {} of experiment {!r} ({!r}). Skipped ...'.format(rep_id, exp_id, exp_descr['directory']))\n",
      "/opt/homebrew/lib/python3.11/site-packages/exputils/data/loading.py:185: UserWarning: Could not find data for repetition 3 of experiment '000009' ('../experiments/experiment_000009'). Skipped ...\n",
      "  warnings.warn('Could not find data for repetition {} of experiment {!r} ({!r}). Skipped ...'.format(rep_id, exp_id, exp_descr['directory']))\n",
      "/opt/homebrew/lib/python3.11/site-packages/exputils/data/loading.py:185: UserWarning: Could not find data for repetition 0 of experiment '000010' ('../experiments/experiment_000010'). Skipped ...\n",
      "  warnings.warn('Could not find data for repetition {} of experiment {!r} ({!r}). Skipped ...'.format(rep_id, exp_id, exp_descr['directory']))\n",
      "/opt/homebrew/lib/python3.11/site-packages/exputils/data/loading.py:185: UserWarning: Could not find data for repetition 1 of experiment '000010' ('../experiments/experiment_000010'). Skipped ...\n",
      "  warnings.warn('Could not find data for repetition {} of experiment {!r} ({!r}). Skipped ...'.format(rep_id, exp_id, exp_descr['directory']))\n",
      "/opt/homebrew/lib/python3.11/site-packages/exputils/data/loading.py:185: UserWarning: Could not find data for repetition 2 of experiment '000010' ('../experiments/experiment_000010'). Skipped ...\n",
      "  warnings.warn('Could not find data for repetition {} of experiment {!r} ({!r}). Skipped ...'.format(rep_id, exp_id, exp_descr['directory']))\n",
      "/opt/homebrew/lib/python3.11/site-packages/exputils/data/loading.py:185: UserWarning: Could not find data for repetition 3 of experiment '000010' ('../experiments/experiment_000010'). Skipped ...\n",
      "  warnings.warn('Could not find data for repetition {} of experiment {!r} ({!r}). Skipped ...'.format(rep_id, exp_id, exp_descr['directory']))\n"
     ]
    },
    {
     "data": {
      "application/vnd.jupyter.widget-view+json": {
       "model_id": "5f315700ac05435f9d21a4dd10aa82c9",
       "version_major": 2,
       "version_minor": 0
      },
      "text/plain": [
       "Output()"
      ]
     },
     "metadata": {},
     "output_type": "display_data"
    }
   ],
   "source": [
    "# load data\n",
    "\n",
    "# import the experiment utilities package\n",
    "import exputils as eu\n",
    "import numpy as np\n",
    "\n",
    "def cal_total_reward(event_descr):\n",
    "    \n",
    "    experiment_data = event_descr['owner'].experiment_data\n",
    "    \n",
    "    for single_exp_data in experiment_data.values():\n",
    "        for single_rep_data in single_exp_data.repetition_data.values():\n",
    "            \n",
    "            single_rep_data.total_reward = np.nansum(single_rep_data.reward_per_episode)     \n",
    "\n",
    "\n",
    "\n",
    "# create an experiment data loader, by default it will load data from '../experiments'\n",
    "experiment_data_loader = eu.gui.jupyter.ExperimentDataLoaderWidget()\n",
    "\n",
    "# add calculatation of extra statistics \n",
    "#experiment_data_loader.on_experiment_data_loaded(cal_total_reward)\n",
    "\n",
    "display(experiment_data_loader)\n",
    "experiment_data_loader.load_data()"
   ]
  },
  {
   "cell_type": "markdown",
   "metadata": {},
   "source": [
    "We can access the data via the `experiment_data` property of the `ExperimentDataLoaderWidget`.\n",
    "\n",
    "The data is composed of dictionaries that hold the individual data for each repetition."
   ]
  },
  {
   "cell_type": "code",
   "execution_count": 4,
   "metadata": {},
   "outputs": [
    {
     "name": "stdout",
     "output_type": "stream",
     "text": [
      "odict_keys(['000001', '000002', '000003', '000004', '000005', '000006', '000007', '000008', '000009', '000010'])\n",
      "(500,)\n"
     ]
    }
   ],
   "source": [
    "print(experiment_data_loader.experiment_data.keys())\n",
    "\n",
    "\n",
    "\n",
    "data = np.load('../experiments/experiment_000010/repetition_000000/data/test_loss.npy')\n",
    "\n",
    "print(data.shape)"
   ]
  },
  {
   "cell_type": "markdown",
   "metadata": {},
   "source": [
    "# Plotting the Data"
   ]
  },
  {
   "cell_type": "markdown",
   "metadata": {},
   "source": [
    "The exputils have several builtin plotting functions. These can be accessed via the `ExperimentDataPlotSelectionWidget`.\n",
    "\n",
    "Write in the 'Data Sources' field which data you would like to plot. Then you can select a plotting function and change its configuration.\n",
    "\n",
    "Examples: \n",
    " * plotting the 'reward_per_episode' with the 'plotly_meanstd_scatter' plotter shows the performance of each experiment in a line graph\n",
    " * plotting the 'total_reward' with the 'plotly_box' or 'plotly_meanstd_bar' compares the total reward that was collected during each reward\n",
    " \n",
    "If you want to 'save' a plot, to use it later again, then use the code production to generate a cell below the `ExperimentDataPlotSelectionWidget` that has the code to plot the figure again. The cells in the subchapters 'Total Reward' and 'Reward per Episode' at the end of this notebook were generated by this method. After saving the jupyter notebook all your configurations will be saved."
   ]
  },
  {
   "cell_type": "code",
   "execution_count": 5,
   "metadata": {
    "code_folding": [],
    "scrolled": false
   },
   "outputs": [
    {
     "name": "stderr",
     "output_type": "stream",
     "text": [
      "/opt/homebrew/lib/python3.11/site-packages/ipywidgets/widgets/widget.py:412: DeprecationWarning:\n",
      "\n",
      "Passing unrecognized arguments to super(CodeProducerWidget).__init__(cildren=[]).\n",
      "object.__init__() takes exactly one argument (the instance to initialize)\n",
      "This is deprecated in traitlets 4.2.This error will be raised in a future release of traitlets.\n",
      "\n"
     ]
    },
    {
     "data": {
      "application/vnd.jupyter.widget-view+json": {
       "model_id": "22bf4bdfed3c4f69a97f3aa802399299",
       "version_major": 2,
       "version_minor": 0
      },
      "text/plain": [
       "ExperimentDataPlotSelectionWidget(children=(HBox(children=(Label(value='Data Sources:', layout=Layout(min_widt…"
      ]
     },
     "metadata": {},
     "output_type": "display_data"
    },
    {
     "data": {
      "application/vnd.jupyter.widget-view+json": {
       "model_id": "3555a6c720d44acfb8f53856e27c2673",
       "version_major": 2,
       "version_minor": 0
      },
      "text/plain": [
       "Output()"
      ]
     },
     "metadata": {},
     "output_type": "display_data"
    }
   ],
   "source": [
    "# experiment data selection plotter that takes as input the data loader to plot its loaded data\n",
    "experiment_data_plotter = eu.gui.jupyter.ExperimentDataPlotSelectionWidget(experiment_data_loader)\n",
    "display(experiment_data_plotter)"
   ]
  },
  {
   "cell_type": "markdown",
   "metadata": {},
   "source": [
    "## Mean value"
   ]
  },
  {
   "cell_type": "code",
   "execution_count": 6,
   "metadata": {},
   "outputs": [
    {
     "name": "stdout",
     "output_type": "stream",
     "text": [
      "odict_keys(['000001', '000002', '000003', '000004', '000005', '000006', '000007', '000008', '000009', '000010'])\n"
     ]
    },
    {
     "data": {
      "image/png": "[encoded data removed]",
      "text/plain": [
       "<Figure size 640x480 with 1 Axes>"
      ]
     },
     "metadata": {},
     "output_type": "display_data"
    }
   ],
   "source": [
    "import matplotlib.pyplot as plt\n",
    "\n",
    "in_features = 2\n",
    "\n",
    "print(experiment_data_loader.experiment_data.keys())\n",
    "\n",
    "means = experiment_data_loader.experiment_data['000005']['repetition_data'][1]['means']\n",
    "\n",
    "print(means.shape)\n",
    "print(means)\n",
    "\n",
    "x = range(means.shape[0])\n",
    "\n",
    "for y in range(means.shape[1]):\n",
    "    mean = means[:,y]\n",
    "    #print(mean)\n",
    "    plt.plot(x, mean)\n",
    "    \n",
    "    if means.shape[1]/in_features == y+1:\n",
    "        plt.show()\n",
    "\n"
   ]
  },
  {
   "cell_type": "code",
   "execution_count": null,
   "metadata": {},
   "outputs": [],
   "source": []
  },
  {
   "cell_type": "code",
   "execution_count": null,
   "metadata": {},
   "outputs": [],
   "source": []
  },
  {
   "cell_type": "code",
   "execution_count": null,
   "metadata": {},
   "outputs": [],
   "source": []
  }
 ],
 "metadata": {
  "kernelspec": {
   "display_name": "Python 3 (ipykernel)",
   "language": "python",
   "name": "python3"
  },
  "language_info": {
   "codemirror_mode": {
    "name": "ipython",
    "version": 3
   },
   "file_extension": ".py",
   "mimetype": "text/x-python",
   "name": "python",
   "nbconvert_exporter": "python",
   "pygments_lexer": "ipython3",
   "version": "3.11.6"
  }
 },
 "nbformat": 4,
 "nbformat_minor": 4
}
