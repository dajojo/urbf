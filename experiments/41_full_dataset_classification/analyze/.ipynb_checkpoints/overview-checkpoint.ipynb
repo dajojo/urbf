{
 "cells": [
  {
   "cell_type": "markdown",
   "metadata": {},
   "source": [
    "# Loading the Data"
   ]
  },
  {
   "cell_type": "code",
   "execution_count": 1,
   "metadata": {
    "code_folding": [],
    "scrolled": false
   },
   "outputs": [
    {
     "data": {
      "application/vnd.jupyter.widget-view+json": {
       "model_id": "ba1db39d028b44fe8885b17596a4c632",
       "version_major": 2,
       "version_minor": 0
      },
      "text/plain": [
       "ExperimentDataLoaderWidget(children=(Box(children=(Button(description='Update Descriptions', layout=Layout(hei…"
      ]
     },
     "metadata": {},
     "output_type": "display_data"
    },
    {
     "name": "stderr",
     "output_type": "stream",
     "text": [
      "/Users/dajo/miniconda3/envs/urbf/lib/python3.11/site-packages/exputils/data/loading.py:185: UserWarning: Could not find data for repetition 0 of experiment '000016' ('../experiments/experiment_000016'). Skipped ...\n",
      "  warnings.warn('Could not find data for repetition {} of experiment {!r} ({!r}). Skipped ...'.format(rep_id, exp_id, exp_descr['directory']))\n",
      "/Users/dajo/miniconda3/envs/urbf/lib/python3.11/site-packages/exputils/data/loading.py:185: UserWarning: Could not find data for repetition 1 of experiment '000016' ('../experiments/experiment_000016'). Skipped ...\n",
      "  warnings.warn('Could not find data for repetition {} of experiment {!r} ({!r}). Skipped ...'.format(rep_id, exp_id, exp_descr['directory']))\n",
      "/Users/dajo/miniconda3/envs/urbf/lib/python3.11/site-packages/exputils/data/loading.py:185: UserWarning: Could not find data for repetition 2 of experiment '000016' ('../experiments/experiment_000016'). Skipped ...\n",
      "  warnings.warn('Could not find data for repetition {} of experiment {!r} ({!r}). Skipped ...'.format(rep_id, exp_id, exp_descr['directory']))\n",
      "/Users/dajo/miniconda3/envs/urbf/lib/python3.11/site-packages/exputils/data/loading.py:185: UserWarning: Could not find data for repetition 3 of experiment '000016' ('../experiments/experiment_000016'). Skipped ...\n",
      "  warnings.warn('Could not find data for repetition {} of experiment {!r} ({!r}). Skipped ...'.format(rep_id, exp_id, exp_descr['directory']))\n",
      "/Users/dajo/miniconda3/envs/urbf/lib/python3.11/site-packages/exputils/data/loading.py:185: UserWarning: Could not find data for repetition 0 of experiment '000017' ('../experiments/experiment_000017'). Skipped ...\n",
      "  warnings.warn('Could not find data for repetition {} of experiment {!r} ({!r}). Skipped ...'.format(rep_id, exp_id, exp_descr['directory']))\n",
      "/Users/dajo/miniconda3/envs/urbf/lib/python3.11/site-packages/exputils/data/loading.py:185: UserWarning: Could not find data for repetition 1 of experiment '000017' ('../experiments/experiment_000017'). Skipped ...\n",
      "  warnings.warn('Could not find data for repetition {} of experiment {!r} ({!r}). Skipped ...'.format(rep_id, exp_id, exp_descr['directory']))\n",
      "/Users/dajo/miniconda3/envs/urbf/lib/python3.11/site-packages/exputils/data/loading.py:185: UserWarning: Could not find data for repetition 2 of experiment '000017' ('../experiments/experiment_000017'). Skipped ...\n",
      "  warnings.warn('Could not find data for repetition {} of experiment {!r} ({!r}). Skipped ...'.format(rep_id, exp_id, exp_descr['directory']))\n",
      "/Users/dajo/miniconda3/envs/urbf/lib/python3.11/site-packages/exputils/data/loading.py:185: UserWarning: Could not find data for repetition 3 of experiment '000017' ('../experiments/experiment_000017'). Skipped ...\n",
      "  warnings.warn('Could not find data for repetition {} of experiment {!r} ({!r}). Skipped ...'.format(rep_id, exp_id, exp_descr['directory']))\n",
      "/Users/dajo/miniconda3/envs/urbf/lib/python3.11/site-packages/exputils/data/loading.py:185: UserWarning: Could not find data for repetition 0 of experiment '000018' ('../experiments/experiment_000018'). Skipped ...\n",
      "  warnings.warn('Could not find data for repetition {} of experiment {!r} ({!r}). Skipped ...'.format(rep_id, exp_id, exp_descr['directory']))\n",
      "/Users/dajo/miniconda3/envs/urbf/lib/python3.11/site-packages/exputils/data/loading.py:185: UserWarning: Could not find data for repetition 1 of experiment '000018' ('../experiments/experiment_000018'). Skipped ...\n",
      "  warnings.warn('Could not find data for repetition {} of experiment {!r} ({!r}). Skipped ...'.format(rep_id, exp_id, exp_descr['directory']))\n",
      "/Users/dajo/miniconda3/envs/urbf/lib/python3.11/site-packages/exputils/data/loading.py:185: UserWarning: Could not find data for repetition 2 of experiment '000018' ('../experiments/experiment_000018'). Skipped ...\n",
      "  warnings.warn('Could not find data for repetition {} of experiment {!r} ({!r}). Skipped ...'.format(rep_id, exp_id, exp_descr['directory']))\n",
      "/Users/dajo/miniconda3/envs/urbf/lib/python3.11/site-packages/exputils/data/loading.py:185: UserWarning: Could not find data for repetition 3 of experiment '000018' ('../experiments/experiment_000018'). Skipped ...\n",
      "  warnings.warn('Could not find data for repetition {} of experiment {!r} ({!r}). Skipped ...'.format(rep_id, exp_id, exp_descr['directory']))\n",
      "/Users/dajo/miniconda3/envs/urbf/lib/python3.11/site-packages/exputils/data/loading.py:185: UserWarning: Could not find data for repetition 0 of experiment '000019' ('../experiments/experiment_000019'). Skipped ...\n",
      "  warnings.warn('Could not find data for repetition {} of experiment {!r} ({!r}). Skipped ...'.format(rep_id, exp_id, exp_descr['directory']))\n",
      "/Users/dajo/miniconda3/envs/urbf/lib/python3.11/site-packages/exputils/data/loading.py:185: UserWarning: Could not find data for repetition 1 of experiment '000019' ('../experiments/experiment_000019'). Skipped ...\n",
      "  warnings.warn('Could not find data for repetition {} of experiment {!r} ({!r}). Skipped ...'.format(rep_id, exp_id, exp_descr['directory']))\n",
      "/Users/dajo/miniconda3/envs/urbf/lib/python3.11/site-packages/exputils/data/loading.py:185: UserWarning: Could not find data for repetition 2 of experiment '000019' ('../experiments/experiment_000019'). Skipped ...\n",
      "  warnings.warn('Could not find data for repetition {} of experiment {!r} ({!r}). Skipped ...'.format(rep_id, exp_id, exp_descr['directory']))\n",
      "/Users/dajo/miniconda3/envs/urbf/lib/python3.11/site-packages/exputils/data/loading.py:185: UserWarning: Could not find data for repetition 3 of experiment '000019' ('../experiments/experiment_000019'). Skipped ...\n",
      "  warnings.warn('Could not find data for repetition {} of experiment {!r} ({!r}). Skipped ...'.format(rep_id, exp_id, exp_descr['directory']))\n",
      "/Users/dajo/miniconda3/envs/urbf/lib/python3.11/site-packages/exputils/data/loading.py:185: UserWarning: Could not find data for repetition 0 of experiment '000020' ('../experiments/experiment_000020'). Skipped ...\n",
      "  warnings.warn('Could not find data for repetition {} of experiment {!r} ({!r}). Skipped ...'.format(rep_id, exp_id, exp_descr['directory']))\n",
      "/Users/dajo/miniconda3/envs/urbf/lib/python3.11/site-packages/exputils/data/loading.py:185: UserWarning: Could not find data for repetition 1 of experiment '000020' ('../experiments/experiment_000020'). Skipped ...\n",
      "  warnings.warn('Could not find data for repetition {} of experiment {!r} ({!r}). Skipped ...'.format(rep_id, exp_id, exp_descr['directory']))\n",
      "/Users/dajo/miniconda3/envs/urbf/lib/python3.11/site-packages/exputils/data/loading.py:185: UserWarning: Could not find data for repetition 3 of experiment '000020' ('../experiments/experiment_000020'). Skipped ...\n",
      "  warnings.warn('Could not find data for repetition {} of experiment {!r} ({!r}). Skipped ...'.format(rep_id, exp_id, exp_descr['directory']))\n",
      "/Users/dajo/miniconda3/envs/urbf/lib/python3.11/site-packages/exputils/data/loading.py:185: UserWarning: Could not find data for repetition 0 of experiment '000021' ('../experiments/experiment_000021'). Skipped ...\n",
      "  warnings.warn('Could not find data for repetition {} of experiment {!r} ({!r}). Skipped ...'.format(rep_id, exp_id, exp_descr['directory']))\n",
      "/Users/dajo/miniconda3/envs/urbf/lib/python3.11/site-packages/exputils/data/loading.py:185: UserWarning: Could not find data for repetition 1 of experiment '000021' ('../experiments/experiment_000021'). Skipped ...\n",
      "  warnings.warn('Could not find data for repetition {} of experiment {!r} ({!r}). Skipped ...'.format(rep_id, exp_id, exp_descr['directory']))\n"
     ]
    },
    {
     "data": {
      "application/vnd.jupyter.widget-view+json": {
       "model_id": "f91c0a1a3a14458c864354b35c7f9e6a",
       "version_major": 2,
       "version_minor": 0
      },
      "text/plain": [
       "Output()"
      ]
     },
     "metadata": {},
     "output_type": "display_data"
    }
   ],
   "source": [
    "# load data\n",
    "\n",
    "# import the experiment utilities package\n",
    "import exputils as eu\n",
    "import numpy as np\n",
    "\n",
    "# create an experiment data loader, by default it will load data from '../experiments'\n",
    "experiment_data_loader = eu.gui.jupyter.ExperimentDataLoaderWidget()\n",
    "\n",
    "display(experiment_data_loader)\n",
    "experiment_data_loader.load_data()"
   ]
  },
  {
   "cell_type": "markdown",
   "metadata": {},
   "source": [
    "# Check for Data Completeness"
   ]
  },
  {
   "cell_type": "code",
   "execution_count": 5,
   "metadata": {},
   "outputs": [
    {
     "name": "stdout",
     "output_type": "stream",
     "text": [
      "['1027_ESL', '1029_LEV', '1030_ERA', '1096_FacultySalaries', '192_vineyard', '210_cloud', '228_elusage', '485_analcatdata_vehicle', '519_vinnie', '523_analcatdata_neavote', '529_pollen', '556_analcatdata_apnea2', '557_analcatdata_apnea1', '579_fri_c0_250_5', '594_fri_c2_100_5', '596_fri_c2_250_5', '597_fri_c2_500_5', '599_fri_c2_1000_5', '601_fri_c1_250_5', '609_fri_c0_1000_5', '611_fri_c3_100_5', '612_fri_c1_1000_5', '613_fri_c3_250_5', '617_fri_c3_500_5', '624_fri_c0_100_5', '628_fri_c3_1000_5', '631_fri_c1_500_5', '649_fri_c0_500_5', '656_fri_c1_100_5', '663_rabe_266', '678_visualizing_environmental', '687_sleuth_ex1605', '690_visualizing_galaxy', '712_chscase_geyser1', 'banana']\n",
      "1027_ESL: x -> (488, 4)\n",
      "1029_LEV: x -> (1000, 4)\n",
      "1030_ERA: x -> (1000, 4)\n",
      "1096_FacultySalaries: x -> (50, 4)\n",
      "192_vineyard: x -> (52, 2)\n",
      "210_cloud: x -> (108, 5)\n",
      "228_elusage: x -> (55, 2)\n",
      "485_analcatdata_vehicle: x -> (48, 4)\n",
      "519_vinnie: x -> (380, 2)\n",
      "523_analcatdata_neavote: x -> (100, 2)\n",
      "529_pollen: x -> (3848, 4)\n",
      "556_analcatdata_apnea2: x -> (475, 3)\n",
      "557_analcatdata_apnea1: x -> (475, 3)\n",
      "579_fri_c0_250_5: x -> (250, 5)\n",
      "594_fri_c2_100_5: x -> (100, 5)\n",
      "596_fri_c2_250_5: x -> (250, 5)\n",
      "597_fri_c2_500_5: x -> (500, 5)\n",
      "599_fri_c2_1000_5: x -> (1000, 5)\n",
      "601_fri_c1_250_5: x -> (250, 5)\n",
      "609_fri_c0_1000_5: x -> (1000, 5)\n",
      "611_fri_c3_100_5: x -> (100, 5)\n",
      "612_fri_c1_1000_5: x -> (1000, 5)\n",
      "613_fri_c3_250_5: x -> (250, 5)\n",
      "617_fri_c3_500_5: x -> (500, 5)\n",
      "624_fri_c0_100_5: x -> (100, 5)\n",
      "628_fri_c3_1000_5: x -> (1000, 5)\n",
      "631_fri_c1_500_5: x -> (500, 5)\n",
      "649_fri_c0_500_5: x -> (500, 5)\n",
      "656_fri_c1_100_5: x -> (100, 5)\n",
      "663_rabe_266: x -> (120, 2)\n",
      "678_visualizing_environmental: x -> (111, 3)\n",
      "687_sleuth_ex1605: x -> (62, 5)\n",
      "690_visualizing_galaxy: x -> (323, 4)\n",
      "712_chscase_geyser1: x -> (222, 2)\n",
      "banana: x -> (5300, 2)\n"
     ]
    }
   ],
   "source": [
    "import dill\n",
    "from pmlb import fetch_data\n",
    "\n",
    "experiment_data_loader.experiment_data[\"000001\"][\"repetition_data\"][0].keys()\n",
    "\n",
    "data_dir = \"../experiments/experiment_000001/repetition_000000/data/\"\n",
    "\n",
    "with open(data_dir+\"dataset.dill\", 'rb') as data:\n",
    "    dataset_names = dill.load(data)\n",
    "\n",
    "print(dataset_names)\n",
    "\n",
    "for dataset_name in dataset_names:\n",
    "    X,Y = fetch_data(dataset_name, return_X_y=True)\n",
    "    print(f\"{dataset_name}: x -> {X.shape}\")"
   ]
  },
  {
   "cell_type": "markdown",
   "metadata": {},
   "source": [
    "# Plotting the Data"
   ]
  },
  {
   "cell_type": "code",
   "execution_count": 2,
   "metadata": {
    "code_folding": []
   },
   "outputs": [
    {
     "name": "stderr",
     "output_type": "stream",
     "text": [
      "/Users/dajo/miniconda3/envs/urbf/lib/python3.11/site-packages/ipywidgets/widgets/widget.py:438: DeprecationWarning: The `ipykernel.comm.Comm` class has been deprecated. Please use the `comm` module instead.For creating comms, use the function `from comm import create_comm`.\n",
      "  self.comm = Comm(**args)\n",
      "/Users/dajo/miniconda3/envs/urbf/lib/python3.11/site-packages/traitlets/traitlets.py:1387: DeprecationWarning: Passing unrecognized arguments to super(CodeProducerWidget).__init__(cildren=[]).\n",
      "object.__init__() takes exactly one argument (the instance to initialize)\n",
      "This is deprecated in traitlets 4.2.This error will be raised in a future release of traitlets.\n",
      "  warn(\n"
     ]
    },
    {
     "data": {
      "application/vnd.jupyter.widget-view+json": {
       "model_id": "f2afb738ef2247498dafbd7571d5b96b",
       "version_major": 2,
       "version_minor": 0
      },
      "text/plain": [
       "ExperimentDataPlotSelectionWidget(children=(HBox(children=(Label(value='Data Sources:', layout=Layout(min_widt…"
      ]
     },
     "metadata": {},
     "output_type": "display_data"
    }
   ],
   "source": [
    "## experiment data selection plotter that takes as input the data loader to plot its loaded data\n",
    "experiment_data_plotter = eu.gui.jupyter.ExperimentDataPlotSelectionWidget(experiment_data_loader)\n",
    "display(experiment_data_plotter)"
   ]
  },
  {
   "cell_type": "code",
   "execution_count": 7,
   "metadata": {},
   "outputs": [],
   "source": [
    "### Execution time\n"
   ]
  },
  {
   "cell_type": "code",
   "execution_count": 3,
   "metadata": {
    "code_folding": []
   },
   "outputs": [
    {
     "name": "stdout",
     "output_type": "stream",
     "text": [
      "Loading ../experiments/experiment_000015/repetition_000000/data/\n"
     ]
    }
   ],
   "source": [
    "import os\n",
    "import dill\n",
    "\n",
    "def load_experiment_data(experiment_num):\n",
    "    num_str = \"%06d\" % experiment_num\n",
    "    #repetition_str = \"%06d\" % repetition_num\n",
    "\n",
    "\n",
    "    base_dir = \"../experiments/experiment_\"+num_str+\"/\"\n",
    "    data_dir = \"../experiments/experiment_\"+num_str+\"/repetition_000000/data/\"\n",
    "\n",
    "    means = {}\n",
    "    stds = {}\n",
    "\n",
    "    train_loss = {}\n",
    "    test_loss = {}\n",
    "    val_loss = {}\n",
    "    \n",
    "    print(f\"Loading {data_dir}\")\n",
    "    \n",
    "    dataset_file = data_dir+\"dataset.dill\"\n",
    "    \n",
    "    if not os.path.isfile(dataset_file):\n",
    "        return means, stds, train_loss, test_loss, val_loss\n",
    "    \n",
    "    with open(dataset_file, 'rb') as data:\n",
    "        datasets = dill.load(data)\n",
    "        \n",
    "        \n",
    "    # Iterate over each entry in the given path\n",
    "    for repetition_entry in os.listdir(base_dir):\n",
    "        # Create full path\n",
    "        repetition_path = os.path.join(base_dir, repetition_entry)\n",
    "\n",
    "        if not os.path.isdir(repetition_path):\n",
    "            continue\n",
    "\n",
    "\n",
    "        for dataset_entry in os.listdir(repetition_path):\n",
    "            dataset_path = os.path.join(repetition_path, dataset_entry)\n",
    "            if os.path.isdir(dataset_path) and \"data\" in dataset_entry and dataset_entry != \"data\":\n",
    "                dataset_name = dataset_entry[4:]\n",
    "\n",
    "                if dataset_name not in means:\n",
    "                    means[dataset_name] = []\n",
    "                    stds[dataset_name] = []\n",
    "                    train_loss[dataset_name] = []\n",
    "                    test_loss[dataset_name] = []\n",
    "                    val_loss[dataset_name] = []\n",
    "\n",
    "                _rep_dataset_means = []\n",
    "                _rep_dataset_stds = []\n",
    "\n",
    "                _test_loss = None\n",
    "                _train_loss = None\n",
    "                _val_loss = None\n",
    "\n",
    "                for data_entry in os.listdir(dataset_path):\n",
    "                \n",
    "                    try:\n",
    "                        data_path = os.path.join(dataset_path, data_entry)\n",
    "\n",
    "                        if \"mean\" in data_entry and data_entry[0] != \".\":\n",
    "                            mean = np.load(data_path)\n",
    "                            _rep_dataset_means.append(mean)\n",
    "\n",
    "                        if \"std\" in data_entry and data_entry[0] != \".\":\n",
    "                            std = np.load(data_path)\n",
    "                            _rep_dataset_stds.append(std)\n",
    "\n",
    "                        if \"train_loss\" in data_entry and data_entry[0] != \".\":\n",
    "                            _train_loss = np.load(data_path)\n",
    "\n",
    "                        if \"test_loss\" in data_entry and data_entry[0] != \".\":\n",
    "                            _test_loss = np.load(data_path)\n",
    "\n",
    "                        if \"val_loss\" in data_entry and data_entry[0] != \".\":\n",
    "                            _val_loss = np.load(data_path)\n",
    "                    except:\n",
    "                        print(f\"Error at retrieving data for: {data_entry}\")\n",
    "\n",
    "                if len(_rep_dataset_means) > 0:\n",
    "                    _rep_dataset_means = np.stack(_rep_dataset_means)\n",
    "\n",
    "                if len(_rep_dataset_stds) > 0:\n",
    "                    _rep_dataset_stds = np.stack(_rep_dataset_stds)\n",
    "\n",
    "                means[dataset_name].append(_rep_dataset_means)\n",
    "                stds[dataset_name].append(_rep_dataset_stds)\n",
    "                train_loss[dataset_name].append(_train_loss)\n",
    "                test_loss[dataset_name].append(_test_loss)\n",
    "                val_loss[dataset_name].append(_val_loss)\n",
    "\n",
    "\n",
    "    for key,val in means.items():\n",
    "        try:\n",
    "            means[key] = np.stack(val).transpose((0,2,1))\n",
    "            #print(f\"loaded means {means[key].shape}\")\n",
    "        except:\n",
    "            pass\n",
    "            #print(\"Not present\")\n",
    "\n",
    "    for key,val in stds.items():\n",
    "        try:\n",
    "            stds[key] = np.stack(val).transpose((0,2,1))\n",
    "            #print(f\"loaded stds {stds[key].shape}\")\n",
    "        except:\n",
    "            pass\n",
    "            #print(\"Not present\")\n",
    "\n",
    "    for key,val in train_loss.items():\n",
    "        try:\n",
    "            train_loss[key] = np.stack(val).transpose((1,0))\n",
    "            #print(f\"loaded train {train_loss[key].shape}\")\n",
    "        except:\n",
    "            pass\n",
    "            #print(\"Not present\")\n",
    "    for key,val in test_loss.items():\n",
    "        try:\n",
    "            test_loss[key] = np.stack(val).transpose((1,0))\n",
    "            #print(f\"loaded test {test_loss[key].shape}\")\n",
    "        except:\n",
    "            pass\n",
    "            #print(\"Not present\")\n",
    "    for key,val in val_loss.items():\n",
    "        try:\n",
    "            val_loss[key] = np.stack(val).transpose((1,0))\n",
    "            #print(f\"loaded val {val_loss[key].shape}\")\n",
    "        except:\n",
    "            pass\n",
    "            #print(\"Not present\")\n",
    "\n",
    "            \n",
    "    return means, stds, train_loss, test_loss, val_loss\n",
    "    \n",
    "means, stds, train_loss, test_loss, val_loss = load_experiment_data(15)   \n",
    "\n"
   ]
  },
  {
   "cell_type": "code",
   "execution_count": 4,
   "metadata": {},
   "outputs": [],
   "source": [
    "dataset_name = \"1096_FacultySalaries\""
   ]
  },
  {
   "cell_type": "markdown",
   "metadata": {},
   "source": [
    "## Mean value"
   ]
  },
  {
   "cell_type": "code",
   "execution_count": 5,
   "metadata": {
    "code_folding": [],
    "scrolled": false
   },
   "outputs": [
    {
     "ename": "KeyError",
     "evalue": "'1096_FacultySalaries'",
     "output_type": "error",
     "traceback": [
      "\u001b[0;31m---------------------------------------------------------------------------\u001b[0m",
      "\u001b[0;31mKeyError\u001b[0m                                  Traceback (most recent call last)",
      "Cell \u001b[0;32mIn[5], line 8\u001b[0m\n\u001b[1;32m      2\u001b[0m \u001b[38;5;28;01mimport\u001b[39;00m \u001b[38;5;21;01mnumpy\u001b[39;00m \u001b[38;5;28;01mas\u001b[39;00m \u001b[38;5;21;01mnp\u001b[39;00m\n\u001b[1;32m      3\u001b[0m \u001b[38;5;28;01mimport\u001b[39;00m \u001b[38;5;21;01mplotly\u001b[39;00m\u001b[38;5;21;01m.\u001b[39;00m\u001b[38;5;21;01mgraph_objects\u001b[39;00m \u001b[38;5;28;01mas\u001b[39;00m \u001b[38;5;21;01mgo\u001b[39;00m\n\u001b[0;32m----> 8\u001b[0m data \u001b[38;5;241m=\u001b[39m \u001b[43mmeans\u001b[49m\u001b[43m[\u001b[49m\u001b[43mdataset_name\u001b[49m\u001b[43m]\u001b[49m[\u001b[38;5;241m0\u001b[39m]\n\u001b[1;32m     10\u001b[0m \u001b[38;5;28mprint\u001b[39m(data\u001b[38;5;241m.\u001b[39mshape)\n\u001b[1;32m     12\u001b[0m \u001b[38;5;66;03m# Preparing data for plotting\u001b[39;00m\n",
      "\u001b[0;31mKeyError\u001b[0m: '1096_FacultySalaries'"
     ]
    }
   ],
   "source": [
    "## plotting\n",
    "import numpy as np\n",
    "import plotly.graph_objects as go\n",
    "\n",
    "\n",
    "\n",
    "\n",
    "data = means[dataset_name][0]\n",
    "\n",
    "print(data.shape)\n",
    "\n",
    "# Preparing data for plotting\n",
    "epochs = np.arange(1, data.shape[0])\n",
    "traces = []\n",
    "for i in range(data.shape[1]):\n",
    "    traces.append(go.Scatter(x=epochs, y=data[:, i], mode='lines', name=f'Value {i+1}'))\n",
    "\n",
    "# Plotting with Plotly\n",
    "layout = go.Layout(title='Change of 16 Values over 500 Steps',\n",
    "                   xaxis=dict(title='Epoch'),\n",
    "                   yaxis=dict(title='Value'),\n",
    "                   template='plotly_dark')\n",
    "\n",
    "fig = go.Figure(data=traces, layout=layout)\n",
    "fig.show()\n",
    "\n"
   ]
  },
  {
   "cell_type": "markdown",
   "metadata": {},
   "source": [
    "## StandardDeviation Values"
   ]
  },
  {
   "cell_type": "code",
   "execution_count": null,
   "metadata": {
    "code_folding": []
   },
   "outputs": [],
   "source": [
    "### plot\n",
    "import numpy as np\n",
    "import plotly.graph_objects as go\n",
    "\n",
    "\n",
    "data = stds[dataset_name][0]\n",
    "    \n",
    "# Preparing data for plotting\n",
    "epochs = np.arange(1, data.shape[0])\n",
    "traces = []\n",
    "for i in range(data.shape[1]):\n",
    "    traces.append(go.Scatter(x=epochs, y=data[:, i], mode='lines', name=f'Value {i+1}'))\n",
    "\n",
    "# Plotting with Plotly\n",
    "layout = go.Layout(title='Change of 16 Values over 500 Steps',\n",
    "                   xaxis=dict(title='Epoch'),\n",
    "                   yaxis=dict(title='Value'),\n",
    "                   template='plotly_dark')\n",
    "\n",
    "fig = go.Figure(data=traces, layout=layout)\n",
    "fig.show()"
   ]
  },
  {
   "cell_type": "code",
   "execution_count": null,
   "metadata": {},
   "outputs": [],
   "source": [
    "### plot\n",
    "import numpy as np\n",
    "import plotly.graph_objects as go\n",
    "\n",
    "\n",
    "data = test_loss[dataset_name]\n",
    "    \n",
    "# Preparing data for plotting\n",
    "epochs = np.arange(1, data.shape[0])\n",
    "traces = []\n",
    "\n",
    "\n",
    "data = np.expand_dims(data.mean(axis = 1), axis = 1)\n",
    "\n",
    "for i in range(data.shape[1]):\n",
    "    traces.append(go.Scatter(x=epochs, y=data[:, i], mode='lines', name=f'Value {i+1}'))\n",
    "    \n",
    "\n",
    "\n",
    "# Plotting with Plotly\n",
    "layout = go.Layout(title='Change of 16 Values over 500 Steps',\n",
    "                   xaxis=dict(title='Epoch'),\n",
    "                   yaxis=dict(title='Value'),\n",
    "                   template='plotly_dark')\n",
    "\n",
    "fig = go.Figure(data=traces, layout=layout)\n",
    "fig.show()"
   ]
  },
  {
   "cell_type": "code",
   "execution_count": null,
   "metadata": {},
   "outputs": [],
   "source": [
    "### plot\n",
    "import numpy as np\n",
    "import plotly.graph_objects as go\n",
    "\n",
    "\n",
    "data = val_loss[dataset_name]\n",
    "    \n",
    "# Preparing data for plotting\n",
    "epochs = np.arange(1, data.shape[0])\n",
    "traces = []\n",
    "\n",
    "\n",
    "data = np.expand_dims(data.mean(axis = 1), axis = 1)\n",
    "\n",
    "for i in range(data.shape[1]):\n",
    "    traces.append(go.Scatter(x=epochs, y=data[:, i], mode='lines', name=f'Value {i+1}'))\n",
    "    \n",
    "\n",
    "\n",
    "# Plotting with Plotly\n",
    "layout = go.Layout(title='Change of 16 Values over 500 Steps',\n",
    "                   xaxis=dict(title='Epoch'),\n",
    "                   yaxis=dict(title='Value'),\n",
    "                   template='plotly_dark')\n",
    "\n",
    "fig = go.Figure(data=traces, layout=layout)\n",
    "fig.show()"
   ]
  },
  {
   "cell_type": "code",
   "execution_count": 6,
   "metadata": {
    "scrolled": true
   },
   "outputs": [
    {
     "name": "stdout",
     "output_type": "stream",
     "text": [
      "Loading ../experiments/experiment_000001/repetition_000000/data/\n",
      "Analyzing: analcatdata_aids 1\n",
      "0.4233747625189651\n",
      "Analyzing: bupa 1\n",
      "0.2635780909513112\n",
      "Analyzing: phoneme 1\n",
      "0.11610104508537504\n",
      "Analyzing: confidence 1\n",
      "2.4610753926393114\n",
      "Analyzing: balance_scale 1\n",
      "0.20503163786795806\n",
      "Analyzing: analcatdata_boxing1 1\n",
      "0.2623111552851547\n",
      "Analyzing: analcatdata_lawsuit 1\n",
      "0.025587715100045164\n",
      "Analyzing: irish 1\n",
      "0.17894636719101437\n",
      "Analyzing: parity5 1\n",
      "0.6634173695027418\n",
      "Analyzing: haberman 1\n",
      "0.20773786161273797\n",
      "Analyzing: hayes_roth 1\n",
      "0.3006848949857972\n",
      "Analyzing: new_thyroid 1\n",
      "0.28554057151791123\n",
      "Analyzing: prnn_synth 1\n",
      "0.08497409764528752\n",
      "Analyzing: analcatdata_happiness 1\n",
      "0.565857390765886\n",
      "Analyzing: analcatdata_germangss 1\n",
      "1.4829361128123708\n",
      "Analyzing: analcatdata_boxing2 1\n",
      "0.29193997594652665\n",
      "Analyzing: iris 1\n",
      "0.04066142155844446\n",
      "Analyzing: analcatdata_asbestos 1\n",
      "0.3152686826801793\n",
      "Analyzing: tae 1\n",
      "0.8631106372072019\n",
      "Analyzing: lupus 1\n",
      "0.19210994153739394\n",
      "Analyzing: analcatdata_dmft 1\n",
      "2.9990336265858777\n",
      "Loading ../experiments/experiment_000002/repetition_000000/data/\n",
      "Analyzing: analcatdata_aids 2\n",
      "0.3922912525489645\n",
      "Analyzing: bupa 2\n",
      "0.2910189417529309\n",
      "Analyzing: phoneme 2\n",
      "0.2586184179504323\n",
      "Analyzing: confidence 2\n",
      "3.7528599384126435\n",
      "Analyzing: balance_scale 2\n",
      "0.5673839912495667\n",
      "Analyzing: analcatdata_boxing1 2\n",
      "0.2571660707368851\n",
      "Analyzing: analcatdata_lawsuit 2\n",
      "0.08249587785898144\n",
      "Analyzing: irish 2\n",
      "0.3323032714704382\n",
      "Analyzing: parity5 2\n",
      "0.42084201095027596\n",
      "Analyzing: haberman 2\n",
      "0.21169247096330077\n",
      "Analyzing: hayes_roth 2\n",
      "0.798262043058515\n",
      "Analyzing: new_thyroid 2\n",
      "1.2520535393204955\n",
      "Analyzing: prnn_synth 2\n",
      "0.3754062585107518\n",
      "Analyzing: analcatdata_happiness 2\n",
      "0.7674774310254421\n",
      "Analyzing: analcatdata_germangss 2\n",
      "1.350324174538796\n",
      "Analyzing: analcatdata_boxing2 2\n",
      "0.29424889057719456\n",
      "Analyzing: iris 2\n",
      "1.3218365306799271\n",
      "Analyzing: analcatdata_asbestos 2\n",
      "0.33763059249710714\n",
      "Analyzing: tae 2\n",
      "0.8640215752088697\n",
      "Analyzing: lupus 2\n",
      "0.34939289470729473\n",
      "Analyzing: analcatdata_dmft 2\n",
      "2.877616403004007\n",
      "Loading ../experiments/experiment_000003/repetition_000000/data/\n",
      "Analyzing: analcatdata_aids 3\n",
      "0.34219536976154347\n",
      "Analyzing: bupa 3\n",
      "0.27823222456413443\n",
      "Analyzing: phoneme 3\n",
      "0.10616917775408019\n",
      "Analyzing: confidence 3\n",
      "1.559292102140835\n",
      "Analyzing: balance_scale 3\n",
      "0.266802896195979\n",
      "Analyzing: analcatdata_boxing1 3\n",
      "0.17671958511694988\n",
      "Analyzing: analcatdata_lawsuit 3\n",
      "0.0228189178473181\n",
      "Analyzing: irish 3\n",
      "1.740292039696049e-10\n",
      "Analyzing: parity5 3\n",
      "1.1364379762961696\n",
      "Analyzing: haberman 3\n",
      "0.20584343863622753\n",
      "Analyzing: hayes_roth 3\n",
      "0.1304581182746682\n",
      "Analyzing: new_thyroid 3\n",
      "0.10676512313990617\n",
      "Analyzing: prnn_synth 3\n",
      "0.11234020414298543\n",
      "Analyzing: analcatdata_happiness 3\n",
      "0.5845405894635253\n",
      "Analyzing: analcatdata_germangss 3\n",
      "1.4273689861298946\n",
      "Analyzing: analcatdata_boxing2 3\n",
      "0.2341696990833141\n",
      "Analyzing: iris 3\n",
      "0.04581808998340573\n",
      "Analyzing: analcatdata_asbestos 3\n",
      "0.1941963821321227\n",
      "Analyzing: tae 3\n",
      "0.8174586752590042\n",
      "Analyzing: lupus 3\n",
      "0.30449824520581803\n",
      "Analyzing: analcatdata_dmft 3\n",
      "2.956842512196576\n",
      "Loading ../experiments/experiment_000004/repetition_000000/data/\n",
      "Analyzing: analcatdata_aids 4\n",
      "0.7300651669502258\n",
      "Analyzing: bupa 4\n",
      "0.7061864733695984\n",
      "Analyzing: confidence 4\n",
      "1.4752660989761353\n",
      "Analyzing: balance_scale 4\n",
      "0.08519872929900885\n",
      "Analyzing: analcatdata_boxing1 4\n",
      "0.694853737950325\n",
      "Analyzing: analcatdata_lawsuit 4\n",
      "0.13561254180967808\n",
      "Analyzing: analcatdata_happiness 4\n",
      "1.1923447251319885\n",
      "Analyzing: analcatdata_germangss 4\n",
      "1.4016366302967072\n",
      "Analyzing: analcatdata_boxing2 4\n",
      "0.6999798864126205\n",
      "Analyzing: analcatdata_asbestos 4\n",
      "0.5441873222589493\n",
      "Analyzing: analcatdata_dmft 4\n",
      "3.568199247121811\n",
      "Loading ../experiments/experiment_000005/repetition_000000/data/\n",
      "Analyzing: analcatdata_aids 5\n",
      "3.248331367969513\n",
      "Analyzing: bupa 5\n",
      "0.6915123462677002\n",
      "Analyzing: confidence 5\n",
      "0.5306416898965836\n",
      "Analyzing: balance_scale 5\n",
      "0.07637504115700722\n",
      "Analyzing: analcatdata_boxing1 5\n",
      "0.6571966856718063\n",
      "Analyzing: analcatdata_lawsuit 5\n",
      "0.13738853856921196\n",
      "Analyzing: analcatdata_happiness 5\n",
      "1.0929433703422546\n",
      "Analyzing: analcatdata_germangss 5\n",
      "1.3344149589538574\n",
      "Analyzing: analcatdata_boxing2 5\n",
      "0.6936749666929245\n",
      "Analyzing: analcatdata_asbestos 5\n",
      "0.6672268360853195\n",
      "Analyzing: analcatdata_dmft 5\n",
      "3.564501017332077\n",
      "Loading ../experiments/experiment_000006/repetition_000000/data/\n",
      "Analyzing: analcatdata_aids 6\n",
      "16.677531093358994\n",
      "Analyzing: bupa 6\n",
      "0.7026381939649582\n",
      "Analyzing: confidence 6\n",
      "0.583737201988697\n",
      "Analyzing: balance_scale 6\n",
      "0.09526241198182106\n",
      "Analyzing: analcatdata_boxing1 6\n",
      "0.6711387634277344\n",
      "Analyzing: analcatdata_lawsuit 6\n",
      "0.13927080482244492\n",
      "Analyzing: analcatdata_happiness 6\n",
      "1.07413250207901\n",
      "Analyzing: analcatdata_germangss 6\n",
      "1.2696321308612823\n",
      "Analyzing: analcatdata_boxing2 6\n",
      "0.6971976161003113\n",
      "Analyzing: analcatdata_asbestos 6\n",
      "0.6328252479434013\n",
      "Analyzing: analcatdata_dmft 6\n",
      "3.5231484174728394\n",
      "Loading ../experiments/experiment_000007/repetition_000000/data/\n",
      "Analyzing: analcatdata_aids 7\n",
      "0.7066313326358795\n",
      "Analyzing: bupa 7\n",
      "0.6976969540119171\n",
      "Analyzing: confidence 7\n",
      "1.8264389038085938\n",
      "Analyzing: balance_scale 7\n",
      "0.16585760656744242\n",
      "Analyzing: analcatdata_boxing1 7\n",
      "0.6827583760023117\n",
      "Analyzing: analcatdata_lawsuit 7\n",
      "0.110570864751935\n",
      "Analyzing: analcatdata_happiness 7\n",
      "1.1510018110275269\n",
      "Analyzing: analcatdata_germangss 7\n",
      "1.4024253189563751\n",
      "Analyzing: analcatdata_boxing2 7\n",
      "0.7612507194280624\n",
      "Analyzing: analcatdata_asbestos 7\n",
      "0.7344364672899246\n",
      "Analyzing: analcatdata_dmft 7\n",
      "3.587811380624771\n",
      "Loading ../experiments/experiment_000008/repetition_000000/data/\n",
      "Analyzing: analcatdata_aids 8\n",
      "0.7079821974039078\n",
      "Analyzing: bupa 8\n",
      "0.6974025368690491\n",
      "Analyzing: confidence 8\n",
      "1.8259881138801575\n",
      "Analyzing: balance_scale 8\n",
      "0.2767661176621914\n",
      "Analyzing: analcatdata_boxing1 8\n",
      "0.669110894203186\n",
      "Analyzing: analcatdata_lawsuit 8\n",
      "0.10068592894822359\n",
      "Analyzing: analcatdata_happiness 8\n",
      "1.1454629004001617\n",
      "Analyzing: analcatdata_germangss 8\n",
      "1.401760071516037\n",
      "Analyzing: analcatdata_boxing2 8\n",
      "0.7592973411083221\n",
      "Analyzing: analcatdata_asbestos 8\n",
      "0.7225361168384552\n",
      "Analyzing: analcatdata_dmft 8\n",
      "3.6086458563804626\n",
      "Loading ../experiments/experiment_000009/repetition_000000/data/\n",
      "Analyzing: analcatdata_aids 9\n",
      "0.7088906913995743\n",
      "Analyzing: bupa 9\n",
      "0.697444960474968\n",
      "Analyzing: confidence 9\n",
      "1.8245472311973572\n",
      "Analyzing: balance_scale 9\n",
      "0.34913086146116257\n",
      "Analyzing: analcatdata_boxing1 9\n",
      "0.6744329333305359\n",
      "Analyzing: analcatdata_lawsuit 9\n",
      "0.261129405349493\n",
      "Analyzing: analcatdata_happiness 9\n",
      "1.1379607319831848\n",
      "Analyzing: analcatdata_germangss 9\n",
      "1.4025242924690247\n",
      "Analyzing: analcatdata_boxing2 9\n",
      "0.7753176689147949\n",
      "Analyzing: analcatdata_asbestos 9\n",
      "0.7220921367406845\n",
      "Analyzing: analcatdata_dmft 9\n",
      "3.608839064836502\n",
      "Loading ../experiments/experiment_000010/repetition_000000/data/\n",
      "Analyzing: analcatdata_aids 10\n",
      "0.7066313326358795\n",
      "Analyzing: bupa 10\n",
      "0.6976969540119171\n",
      "Analyzing: confidence 10\n",
      "1.8264389038085938\n",
      "Analyzing: balance_scale 10\n",
      "0.15904352255165577\n",
      "Analyzing: analcatdata_boxing1 10\n",
      "nan\n",
      "Analyzing: analcatdata_lawsuit 10\n",
      "nan\n",
      "Analyzing: analcatdata_happiness 10\n",
      "nan\n",
      "Analyzing: analcatdata_germangss 10\n",
      "1.4024253189563751\n",
      "Analyzing: analcatdata_boxing2 10\n",
      "nan\n",
      "Analyzing: analcatdata_asbestos 10\n",
      "0.7344364672899246\n",
      "Analyzing: analcatdata_dmft 10\n",
      "nan\n",
      "Loading ../experiments/experiment_000011/repetition_000000/data/\n",
      "Analyzing: analcatdata_aids 11\n",
      "0.7079821974039078\n",
      "Analyzing: bupa 11\n",
      "0.6974025368690491\n",
      "Analyzing: confidence 11\n",
      "1.8259881138801575\n",
      "Analyzing: balance_scale 11\n",
      "0.20119025744497776\n",
      "Analyzing: analcatdata_boxing1 11\n",
      "0.6748427301645279\n",
      "Analyzing: analcatdata_lawsuit 11\n",
      "nan\n",
      "Analyzing: analcatdata_happiness 11\n",
      "1.1675910949707031\n",
      "Analyzing: analcatdata_germangss 11\n",
      "1.401760071516037\n",
      "Analyzing: analcatdata_boxing2 11\n",
      "0.7049504667520523\n",
      "Analyzing: analcatdata_asbestos 11\n",
      "0.7225361168384552\n",
      "Analyzing: analcatdata_dmft 11\n",
      "3.563959449529648\n",
      "Loading ../experiments/experiment_000012/repetition_000000/data/\n",
      "Analyzing: analcatdata_aids 12\n",
      "0.7088906913995743\n",
      "Analyzing: analcatdata_boxing1 12\n",
      "0.6393260359764099\n",
      "Analyzing: analcatdata_happiness 12\n",
      "1.1354857981204987\n",
      "Analyzing: analcatdata_germangss 12\n",
      "1.4025242924690247\n",
      "Analyzing: analcatdata_boxing2 12\n",
      "0.6967561841011047\n",
      "Analyzing: analcatdata_asbestos 12\n",
      "0.7220921367406845\n",
      "Analyzing: analcatdata_dmft 12\n",
      "3.5587565898895264\n",
      "Loading ../experiments/experiment_000013/repetition_000000/data/\n",
      "Analyzing: analcatdata_aids 13\n",
      "0.707576259970665\n",
      "Analyzing: bupa 13\n",
      "0.6911524832248688\n",
      "Analyzing: confidence 13\n",
      "1.0953006893396378\n",
      "Analyzing: balance_scale 13\n",
      "0.051396658876910806\n",
      "Analyzing: analcatdata_boxing1 13\n",
      "0.5756938084959984\n",
      "Analyzing: analcatdata_lawsuit 13\n",
      "0.09213755838572979\n",
      "Analyzing: analcatdata_happiness 13\n",
      "1.1554313898086548\n",
      "Analyzing: analcatdata_germangss 13\n",
      "1.196158230304718\n",
      "Analyzing: analcatdata_boxing2 13\n",
      "0.6817142963409424\n",
      "Analyzing: analcatdata_asbestos 13\n",
      "0.7283410578966141\n",
      "Analyzing: analcatdata_dmft 13\n",
      "3.556443989276886\n",
      "Loading ../experiments/experiment_000014/repetition_000000/data/\n",
      "Analyzing: analcatdata_aids 14\n",
      "0.7090437412261963\n",
      "Analyzing: balance_scale 14\n",
      "0.042346421629190445\n",
      "Analyzing: analcatdata_boxing1 14\n",
      "0.5438656657934189\n",
      "Analyzing: analcatdata_lawsuit 14\n",
      "0.06221693055704236\n",
      "Analyzing: analcatdata_happiness 14\n",
      "1.1116713136434555\n",
      "Analyzing: analcatdata_germangss 14\n",
      "1.1775074899196625\n",
      "Analyzing: analcatdata_boxing2 14\n",
      "0.6852906942367554\n",
      "Analyzing: analcatdata_asbestos 14\n",
      "0.6953005343675613\n",
      "Analyzing: analcatdata_dmft 14\n",
      "3.598228842020035\n",
      "Loading ../experiments/experiment_000015/repetition_000000/data/\n",
      "Analyzing: analcatdata_aids 15\n",
      "0.7102196216583252\n",
      "Analyzing: bupa 15\n",
      "0.6768147349357605\n",
      "Analyzing: confidence 15\n",
      "1.0540897697210312\n",
      "Analyzing: balance_scale 15\n",
      "0.07058417052030563\n",
      "Analyzing: analcatdata_boxing1 15\n",
      "0.5268571227788925\n",
      "Analyzing: analcatdata_lawsuit 15\n",
      "0.05411573266610503\n",
      "Analyzing: analcatdata_happiness 15\n",
      "1.0866465419530869\n",
      "Analyzing: analcatdata_germangss 15\n",
      "1.302894949913025\n",
      "Analyzing: analcatdata_boxing2 15\n",
      "0.678803026676178\n",
      "Analyzing: analcatdata_asbestos 15\n",
      "0.6805587708950043\n",
      "Analyzing: analcatdata_dmft 15\n",
      "3.5958103835582733\n",
      "Loading ../experiments/experiment_000016/repetition_000000/data/\n"
     ]
    },
    {
     "ename": "FileNotFoundError",
     "evalue": "[Errno 2] No such file or directory: '../experiments/experiment_000016/repetition_000000/data/dataset.dill'",
     "output_type": "error",
     "traceback": [
      "\u001b[0;31m---------------------------------------------------------------------------\u001b[0m",
      "\u001b[0;31mFileNotFoundError\u001b[0m                         Traceback (most recent call last)",
      "Cell \u001b[0;32mIn[6], line 11\u001b[0m\n\u001b[1;32m      8\u001b[0m min_val_test_loss \u001b[38;5;241m=\u001b[39m {}\n\u001b[1;32m     10\u001b[0m \u001b[38;5;28;01mfor\u001b[39;00m i \u001b[38;5;129;01min\u001b[39;00m \u001b[38;5;28mrange\u001b[39m(\u001b[38;5;241m1\u001b[39m,max_method_num):\n\u001b[0;32m---> 11\u001b[0m     means, stds, train_loss, test_loss, val_loss \u001b[38;5;241m=\u001b[39m \u001b[43mload_experiment_data\u001b[49m\u001b[43m(\u001b[49m\u001b[43mi\u001b[49m\u001b[43m)\u001b[49m    \n\u001b[1;32m     12\u001b[0m     \u001b[38;5;28;01mfor\u001b[39;00m dataset \u001b[38;5;129;01min\u001b[39;00m \u001b[38;5;28mlist\u001b[39m(train_loss\u001b[38;5;241m.\u001b[39mkeys()):\n\u001b[1;32m     13\u001b[0m         \u001b[38;5;28mprint\u001b[39m(\u001b[38;5;124mf\u001b[39m\u001b[38;5;124m\"\u001b[39m\u001b[38;5;124mAnalyzing: \u001b[39m\u001b[38;5;132;01m{\u001b[39;00mdataset\u001b[38;5;132;01m}\u001b[39;00m\u001b[38;5;124m \u001b[39m\u001b[38;5;132;01m{\u001b[39;00mi\u001b[38;5;132;01m}\u001b[39;00m\u001b[38;5;124m\"\u001b[39m)\n",
      "Cell \u001b[0;32mIn[3], line 14\u001b[0m, in \u001b[0;36mload_experiment_data\u001b[0;34m(experiment_num)\u001b[0m\n\u001b[1;32m     10\u001b[0m data_dir \u001b[38;5;241m=\u001b[39m \u001b[38;5;124m\"\u001b[39m\u001b[38;5;124m../experiments/experiment_\u001b[39m\u001b[38;5;124m\"\u001b[39m\u001b[38;5;241m+\u001b[39mnum_str\u001b[38;5;241m+\u001b[39m\u001b[38;5;124m\"\u001b[39m\u001b[38;5;124m/repetition_000000/data/\u001b[39m\u001b[38;5;124m\"\u001b[39m\n\u001b[1;32m     12\u001b[0m \u001b[38;5;28mprint\u001b[39m(\u001b[38;5;124mf\u001b[39m\u001b[38;5;124m\"\u001b[39m\u001b[38;5;124mLoading \u001b[39m\u001b[38;5;132;01m{\u001b[39;00mdata_dir\u001b[38;5;132;01m}\u001b[39;00m\u001b[38;5;124m\"\u001b[39m)\n\u001b[0;32m---> 14\u001b[0m \u001b[38;5;28;01mwith\u001b[39;00m \u001b[38;5;28;43mopen\u001b[39;49m\u001b[43m(\u001b[49m\u001b[43mdata_dir\u001b[49m\u001b[38;5;241;43m+\u001b[39;49m\u001b[38;5;124;43m\"\u001b[39;49m\u001b[38;5;124;43mdataset.dill\u001b[39;49m\u001b[38;5;124;43m\"\u001b[39;49m\u001b[43m,\u001b[49m\u001b[43m \u001b[49m\u001b[38;5;124;43m'\u001b[39;49m\u001b[38;5;124;43mrb\u001b[39;49m\u001b[38;5;124;43m'\u001b[39;49m\u001b[43m)\u001b[49m \u001b[38;5;28;01mas\u001b[39;00m data:\n\u001b[1;32m     15\u001b[0m     datasets \u001b[38;5;241m=\u001b[39m dill\u001b[38;5;241m.\u001b[39mload(data)\n\u001b[1;32m     18\u001b[0m means \u001b[38;5;241m=\u001b[39m {}\n",
      "File \u001b[0;32m~/miniconda3/envs/urbf/lib/python3.11/site-packages/IPython/core/interactiveshell.py:308\u001b[0m, in \u001b[0;36m_modified_open\u001b[0;34m(file, *args, **kwargs)\u001b[0m\n\u001b[1;32m    301\u001b[0m \u001b[38;5;28;01mif\u001b[39;00m file \u001b[38;5;129;01min\u001b[39;00m {\u001b[38;5;241m0\u001b[39m, \u001b[38;5;241m1\u001b[39m, \u001b[38;5;241m2\u001b[39m}:\n\u001b[1;32m    302\u001b[0m     \u001b[38;5;28;01mraise\u001b[39;00m \u001b[38;5;167;01mValueError\u001b[39;00m(\n\u001b[1;32m    303\u001b[0m         \u001b[38;5;124mf\u001b[39m\u001b[38;5;124m\"\u001b[39m\u001b[38;5;124mIPython won\u001b[39m\u001b[38;5;124m'\u001b[39m\u001b[38;5;124mt let you open fd=\u001b[39m\u001b[38;5;132;01m{\u001b[39;00mfile\u001b[38;5;132;01m}\u001b[39;00m\u001b[38;5;124m by default \u001b[39m\u001b[38;5;124m\"\u001b[39m\n\u001b[1;32m    304\u001b[0m         \u001b[38;5;124m\"\u001b[39m\u001b[38;5;124mas it is likely to crash IPython. If you know what you are doing, \u001b[39m\u001b[38;5;124m\"\u001b[39m\n\u001b[1;32m    305\u001b[0m         \u001b[38;5;124m\"\u001b[39m\u001b[38;5;124myou can use builtins\u001b[39m\u001b[38;5;124m'\u001b[39m\u001b[38;5;124m open.\u001b[39m\u001b[38;5;124m\"\u001b[39m\n\u001b[1;32m    306\u001b[0m     )\n\u001b[0;32m--> 308\u001b[0m \u001b[38;5;28;01mreturn\u001b[39;00m \u001b[43mio_open\u001b[49m\u001b[43m(\u001b[49m\u001b[43mfile\u001b[49m\u001b[43m,\u001b[49m\u001b[43m \u001b[49m\u001b[38;5;241;43m*\u001b[39;49m\u001b[43margs\u001b[49m\u001b[43m,\u001b[49m\u001b[43m \u001b[49m\u001b[38;5;241;43m*\u001b[39;49m\u001b[38;5;241;43m*\u001b[39;49m\u001b[43mkwargs\u001b[49m\u001b[43m)\u001b[49m\n",
      "\u001b[0;31mFileNotFoundError\u001b[0m: [Errno 2] No such file or directory: '../experiments/experiment_000016/repetition_000000/data/dataset.dill'"
     ]
    }
   ],
   "source": [
    "import numpy as np\n",
    "import matplotlib.pyplot as plt\n",
    "import traceback \n",
    "\n",
    "max_method_num = 36\n",
    "\n",
    "min_test_loss = {}\n",
    "min_val_test_loss = {}\n",
    "\n",
    "for i in range(1,max_method_num):\n",
    "    means, stds, train_loss, test_loss, val_loss = load_experiment_data(i)    \n",
    "    for dataset in list(train_loss.keys()):\n",
    "        print(f\"Analyzing: {dataset} {i}\")\n",
    "        \n",
    "        try:\n",
    "            rep_min_test_loss = np.min(np.mean(test_loss[dataset],axis = 1),axis=0)\n",
    "            idx_min_val_loss = np.argmin(np.mean(val_loss[dataset],axis = 1),axis=0)\n",
    "            \n",
    "            if dataset not in min_test_loss:\n",
    "                min_test_loss[dataset] = {}\n",
    "                \n",
    "            if dataset not in min_val_test_loss:\n",
    "                min_val_test_loss[dataset] = {}\n",
    "\n",
    "            min_test_loss[dataset][i] = rep_min_test_loss\n",
    "            min_val_test_loss[dataset][i] = np.mean(test_loss[dataset],axis = 1)[idx_min_val_loss]\n",
    "            \n",
    "            print(np.mean(test_loss[dataset],axis = 1)[idx_min_val_loss])\n",
    "        except: \n",
    "            traceback.print_exc() \n",
    "\n",
    "### remove all inclompete datasets...\n",
    "to_delete = []\n",
    "for key, val in min_test_loss.items():\n",
    "    if len(val.keys()) < max_method_num - 1:\n",
    "        print(f\"For {key} not all datasets present {len(val.keys())}\")\n",
    "        to_delete.append(key)\n",
    "\n",
    "\n",
    "#for key in to_delete:\n",
    "#    del min_test_loss[key]\n",
    "#    del min_val_test_loss[key]\n",
    "        \n",
    "### Calculate with reference to specific method\n",
    "reference_method = 3\n",
    "\n",
    "# Calculate relative min test loss\n",
    "relative_min_test_loss = {}\n",
    "relative_min_val_test_loss = {}\n",
    "\n",
    "for dataset_name, dataset_vals in min_test_loss.items():\n",
    "    relative_min_test_loss[dataset_name] = {method: val / dataset_vals[reference_method] for method, val in dataset_vals.items()}\n",
    "\n",
    "for dataset_name, dataset_vals in min_val_test_loss.items():    \n",
    "    relative_min_val_test_loss[dataset_name] = {method: val / dataset_vals[reference_method] for method, val in dataset_vals.items()}    \n",
    "\n",
    "\n",
    "#full_relative_min_test_loss = {}\n",
    "        "
   ]
  },
  {
   "cell_type": "code",
   "execution_count": 7,
   "metadata": {
    "scrolled": true
   },
   "outputs": [
    {
     "ename": "NameError",
     "evalue": "name 'relative_min_test_loss' is not defined",
     "output_type": "error",
     "traceback": [
      "\u001b[0;31m---------------------------------------------------------------------------\u001b[0m",
      "\u001b[0;31mNameError\u001b[0m                                 Traceback (most recent call last)",
      "Cell \u001b[0;32mIn[7], line 12\u001b[0m\n\u001b[1;32m      8\u001b[0m dataset_names \u001b[38;5;241m=\u001b[39m \u001b[38;5;28mlist\u001b[39m(min_test_loss\u001b[38;5;241m.\u001b[39mkeys())\n\u001b[1;32m     10\u001b[0m \u001b[38;5;28;01mfor\u001b[39;00m dataset_name \u001b[38;5;129;01min\u001b[39;00m dataset_names:\n\u001b[1;32m     11\u001b[0m     \u001b[38;5;66;03m# Extract methods and corresponding test losses for the current dataset\u001b[39;00m\n\u001b[0;32m---> 12\u001b[0m     methods \u001b[38;5;241m=\u001b[39m \u001b[38;5;28mlist\u001b[39m(\u001b[43mrelative_min_test_loss\u001b[49m[dataset_name]\u001b[38;5;241m.\u001b[39mkeys())\n\u001b[1;32m     13\u001b[0m     test_losses \u001b[38;5;241m=\u001b[39m [relative_min_test_loss[dataset_name][method] \u001b[38;5;28;01mfor\u001b[39;00m method \u001b[38;5;129;01min\u001b[39;00m methods]\n\u001b[1;32m     15\u001b[0m     \u001b[38;5;66;03m# Create a bar chart for the current dataset\u001b[39;00m\n",
      "\u001b[0;31mNameError\u001b[0m: name 'relative_min_test_loss' is not defined"
     ]
    }
   ],
   "source": [
    "import plotly.graph_objects as go\n",
    "import plotly.express as px\n",
    "\n",
    "colors = px.colors.qualitative.Plotly\n",
    "\n",
    "colors = [*colors,*colors,*colors,*colors]\n",
    "\n",
    "dataset_names = list(min_test_loss.keys())\n",
    "\n",
    "for dataset_name in dataset_names:\n",
    "    # Extract methods and corresponding test losses for the current dataset\n",
    "    methods = list(relative_min_test_loss[dataset_name].keys())\n",
    "    test_losses = [relative_min_test_loss[dataset_name][method] for method in methods]\n",
    "\n",
    "    # Create a bar chart for the current dataset\n",
    "    fig = go.Figure(data=[\n",
    "        go.Bar(\n",
    "            x=methods,\n",
    "            y=test_losses,\n",
    "            name=dataset_name,\n",
    "            marker_color=colors[:len(methods)]  # Assign different colors to each bar\n",
    "        )\n",
    "    ])\n",
    "\n",
    "    print(methods)\n",
    "    \n",
    "    # Customize the layout\n",
    "    fig.update_layout(\n",
    "        title=f'Relative Min Test Loss by Method for {dataset_name}',\n",
    "        xaxis=dict(\n",
    "            title='Method',\n",
    "            #tickmode='array',\n",
    "            #tickvals=list(range(len(methods))),\n",
    "            #ticktext=methods\n",
    "        ),\n",
    "        yaxis=dict(\n",
    "            title='Relative Min Test Loss'\n",
    "        ),\n",
    "        legend_title=dataset_name\n",
    "        # Additional customizations can be added here\n",
    "    )\n",
    "\n",
    "    # Show the plot\n",
    "    fig.show()"
   ]
  },
  {
   "cell_type": "code",
   "execution_count": 8,
   "metadata": {
    "scrolled": true
   },
   "outputs": [
    {
     "ename": "NameError",
     "evalue": "name 'relative_min_val_test_loss' is not defined",
     "output_type": "error",
     "traceback": [
      "\u001b[0;31m---------------------------------------------------------------------------\u001b[0m",
      "\u001b[0;31mNameError\u001b[0m                                 Traceback (most recent call last)",
      "Cell \u001b[0;32mIn[8], line 5\u001b[0m\n\u001b[1;32m      1\u001b[0m dataset_names \u001b[38;5;241m=\u001b[39m \u001b[38;5;28mlist\u001b[39m(min_val_test_loss\u001b[38;5;241m.\u001b[39mkeys())\n\u001b[1;32m      3\u001b[0m \u001b[38;5;28;01mfor\u001b[39;00m dataset_name \u001b[38;5;129;01min\u001b[39;00m dataset_names:\n\u001b[1;32m      4\u001b[0m     \u001b[38;5;66;03m# Preparing data for bar chart\u001b[39;00m\n\u001b[0;32m----> 5\u001b[0m     methods \u001b[38;5;241m=\u001b[39m \u001b[38;5;28mlist\u001b[39m(\u001b[43mrelative_min_val_test_loss\u001b[49m[dataset_name]\u001b[38;5;241m.\u001b[39mkeys())\n\u001b[1;32m      6\u001b[0m     test_losses \u001b[38;5;241m=\u001b[39m [relative_min_val_test_loss[dataset_name][method] \u001b[38;5;28;01mfor\u001b[39;00m method \u001b[38;5;129;01min\u001b[39;00m methods]\n\u001b[1;32m      9\u001b[0m     \u001b[38;5;66;03m# Create a bar chart for the current dataset\u001b[39;00m\n",
      "\u001b[0;31mNameError\u001b[0m: name 'relative_min_val_test_loss' is not defined"
     ]
    }
   ],
   "source": [
    "\n",
    "dataset_names = list(min_val_test_loss.keys())\n",
    "\n",
    "for dataset_name in dataset_names:\n",
    "    # Preparing data for bar chart\n",
    "    methods = list(relative_min_val_test_loss[dataset_name].keys())\n",
    "    test_losses = [relative_min_val_test_loss[dataset_name][method] for method in methods]\n",
    "\n",
    "\n",
    "    # Create a bar chart for the current dataset\n",
    "    fig = go.Figure(data=[\n",
    "        go.Bar(\n",
    "            x=methods,\n",
    "            y=test_losses,\n",
    "            name=dataset_name,\n",
    "            marker_color=colors[:len(methods)]  # Assign different colors to each bar\n",
    "        )\n",
    "    ])\n",
    "\n",
    "    # Customize the layout\n",
    "    fig.update_layout(\n",
    "        title=f'Relative Min Test Loss by Method for {dataset_name}',\n",
    "        xaxis=dict(\n",
    "            title='Method',\n",
    "        ),\n",
    "        yaxis=dict(\n",
    "            title='Relative Min Test Loss'\n",
    "        ),\n",
    "        legend_title=dataset_name\n",
    "        # Additional customizations can be added here\n",
    "    )\n",
    "\n",
    "    # Show the plot\n",
    "    fig.show()\n",
    "    "
   ]
  },
  {
   "cell_type": "code",
   "execution_count": 29,
   "metadata": {},
   "outputs": [
    {
     "data": {
      "application/vnd.plotly.v1+json": {
       "config": {
        "plotlyServerURL": "https://plot.ly"
       },
       "data": [
        {
         "marker": {
          "color": [
           "#636EFA",
           "#EF553B",
           "#00CC96",
           "#AB63FA",
           "#FFA15A",
           "#19D3F3",
           "#FF6692",
           "#B6E880",
           "#FF97FF",
           "#FECB52",
           "#636EFA",
           "#EF553B",
           "#00CC96",
           "#AB63FA",
           "#FFA15A",
           "#19D3F3",
           "#FF6692",
           "#B6E880",
           "#FF97FF",
           "#FECB52",
           "#636EFA",
           "#EF553B",
           "#00CC96",
           "#AB63FA",
           "#FFA15A",
           "#19D3F3"
          ]
         },
         "name": "summary",
         "type": "bar",
         "x": [
          1,
          2,
          3,
          4,
          5,
          6,
          7,
          8,
          9,
          10,
          11,
          12,
          13,
          14,
          15,
          16,
          17,
          18,
          19,
          20,
          21,
          22,
          23,
          24,
          25,
          26
         ],
         "y": [
          6.659424769052595,
          23.602929376168234,
          1,
          1.3426689784471237,
          4.692913167960162,
          29.403830521190386,
          11.449795392248895,
          10.589879139554252,
          301.6577858528859,
          null,
          null,
          423.22039630226084,
          1.273960420706714,
          1.1975817883666973,
          145.37361256970752,
          1.2342641005833017,
          1.2249931097670996,
          103.35989772004596,
          13.273642043226317,
          13.294200811695314,
          74.83702993906742,
          19.439353645136986,
          19.08002503594111,
          82.00339544634275,
          20.81147654841911,
          20.55563425834754
         ]
        }
       ],
       "layout": {
        "legend": {
         "title": {
          "text": "summary"
         }
        },
        "template": {
         "data": {
          "bar": [
           {
            "error_x": {
             "color": "#2a3f5f"
            },
            "error_y": {
             "color": "#2a3f5f"
            },
            "marker": {
             "line": {
              "color": "#E5ECF6",
              "width": 0.5
             },
             "pattern": {
              "fillmode": "overlay",
              "size": 10,
              "solidity": 0.2
             }
            },
            "type": "bar"
           }
          ],
          "barpolar": [
           {
            "marker": {
             "line": {
              "color": "#E5ECF6",
              "width": 0.5
             },
             "pattern": {
              "fillmode": "overlay",
              "size": 10,
              "solidity": 0.2
             }
            },
            "type": "barpolar"
           }
          ],
          "carpet": [
           {
            "aaxis": {
             "endlinecolor": "#2a3f5f",
             "gridcolor": "white",
             "linecolor": "white",
             "minorgridcolor": "white",
             "startlinecolor": "#2a3f5f"
            },
            "baxis": {
             "endlinecolor": "#2a3f5f",
             "gridcolor": "white",
             "linecolor": "white",
             "minorgridcolor": "white",
             "startlinecolor": "#2a3f5f"
            },
            "type": "carpet"
           }
          ],
          "choropleth": [
           {
            "colorbar": {
             "outlinewidth": 0,
             "ticks": ""
            },
            "type": "choropleth"
           }
          ],
          "contour": [
           {
            "colorbar": {
             "outlinewidth": 0,
             "ticks": ""
            },
            "colorscale": [
             [
              0,
              "#0d0887"
             ],
             [
              0.1111111111111111,
              "#46039f"
             ],
             [
              0.2222222222222222,
              "#7201a8"
             ],
             [
              0.3333333333333333,
              "#9c179e"
             ],
             [
              0.4444444444444444,
              "#bd3786"
             ],
             [
              0.5555555555555556,
              "#d8576b"
             ],
             [
              0.6666666666666666,
              "#ed7953"
             ],
             [
              0.7777777777777778,
              "#fb9f3a"
             ],
             [
              0.8888888888888888,
              "#fdca26"
             ],
             [
              1,
              "#f0f921"
             ]
            ],
            "type": "contour"
           }
          ],
          "contourcarpet": [
           {
            "colorbar": {
             "outlinewidth": 0,
             "ticks": ""
            },
            "type": "contourcarpet"
           }
          ],
          "heatmap": [
           {
            "colorbar": {
             "outlinewidth": 0,
             "ticks": ""
            },
            "colorscale": [
             [
              0,
              "#0d0887"
             ],
             [
              0.1111111111111111,
              "#46039f"
             ],
             [
              0.2222222222222222,
              "#7201a8"
             ],
             [
              0.3333333333333333,
              "#9c179e"
             ],
             [
              0.4444444444444444,
              "#bd3786"
             ],
             [
              0.5555555555555556,
              "#d8576b"
             ],
             [
              0.6666666666666666,
              "#ed7953"
             ],
             [
              0.7777777777777778,
              "#fb9f3a"
             ],
             [
              0.8888888888888888,
              "#fdca26"
             ],
             [
              1,
              "#f0f921"
             ]
            ],
            "type": "heatmap"
           }
          ],
          "heatmapgl": [
           {
            "colorbar": {
             "outlinewidth": 0,
             "ticks": ""
            },
            "colorscale": [
             [
              0,
              "#0d0887"
             ],
             [
              0.1111111111111111,
              "#46039f"
             ],
             [
              0.2222222222222222,
              "#7201a8"
             ],
             [
              0.3333333333333333,
              "#9c179e"
             ],
             [
              0.4444444444444444,
              "#bd3786"
             ],
             [
              0.5555555555555556,
              "#d8576b"
             ],
             [
              0.6666666666666666,
              "#ed7953"
             ],
             [
              0.7777777777777778,
              "#fb9f3a"
             ],
             [
              0.8888888888888888,
              "#fdca26"
             ],
             [
              1,
              "#f0f921"
             ]
            ],
            "type": "heatmapgl"
           }
          ],
          "histogram": [
           {
            "marker": {
             "pattern": {
              "fillmode": "overlay",
              "size": 10,
              "solidity": 0.2
             }
            },
            "type": "histogram"
           }
          ],
          "histogram2d": [
           {
            "colorbar": {
             "outlinewidth": 0,
             "ticks": ""
            },
            "colorscale": [
             [
              0,
              "#0d0887"
             ],
             [
              0.1111111111111111,
              "#46039f"
             ],
             [
              0.2222222222222222,
              "#7201a8"
             ],
             [
              0.3333333333333333,
              "#9c179e"
             ],
             [
              0.4444444444444444,
              "#bd3786"
             ],
             [
              0.5555555555555556,
              "#d8576b"
             ],
             [
              0.6666666666666666,
              "#ed7953"
             ],
             [
              0.7777777777777778,
              "#fb9f3a"
             ],
             [
              0.8888888888888888,
              "#fdca26"
             ],
             [
              1,
              "#f0f921"
             ]
            ],
            "type": "histogram2d"
           }
          ],
          "histogram2dcontour": [
           {
            "colorbar": {
             "outlinewidth": 0,
             "ticks": ""
            },
            "colorscale": [
             [
              0,
              "#0d0887"
             ],
             [
              0.1111111111111111,
              "#46039f"
             ],
             [
              0.2222222222222222,
              "#7201a8"
             ],
             [
              0.3333333333333333,
              "#9c179e"
             ],
             [
              0.4444444444444444,
              "#bd3786"
             ],
             [
              0.5555555555555556,
              "#d8576b"
             ],
             [
              0.6666666666666666,
              "#ed7953"
             ],
             [
              0.7777777777777778,
              "#fb9f3a"
             ],
             [
              0.8888888888888888,
              "#fdca26"
             ],
             [
              1,
              "#f0f921"
             ]
            ],
            "type": "histogram2dcontour"
           }
          ],
          "mesh3d": [
           {
            "colorbar": {
             "outlinewidth": 0,
             "ticks": ""
            },
            "type": "mesh3d"
           }
          ],
          "parcoords": [
           {
            "line": {
             "colorbar": {
              "outlinewidth": 0,
              "ticks": ""
             }
            },
            "type": "parcoords"
           }
          ],
          "pie": [
           {
            "automargin": true,
            "type": "pie"
           }
          ],
          "scatter": [
           {
            "fillpattern": {
             "fillmode": "overlay",
             "size": 10,
             "solidity": 0.2
            },
            "type": "scatter"
           }
          ],
          "scatter3d": [
           {
            "line": {
             "colorbar": {
              "outlinewidth": 0,
              "ticks": ""
             }
            },
            "marker": {
             "colorbar": {
              "outlinewidth": 0,
              "ticks": ""
             }
            },
            "type": "scatter3d"
           }
          ],
          "scattercarpet": [
           {
            "marker": {
             "colorbar": {
              "outlinewidth": 0,
              "ticks": ""
             }
            },
            "type": "scattercarpet"
           }
          ],
          "scattergeo": [
           {
            "marker": {
             "colorbar": {
              "outlinewidth": 0,
              "ticks": ""
             }
            },
            "type": "scattergeo"
           }
          ],
          "scattergl": [
           {
            "marker": {
             "colorbar": {
              "outlinewidth": 0,
              "ticks": ""
             }
            },
            "type": "scattergl"
           }
          ],
          "scattermapbox": [
           {
            "marker": {
             "colorbar": {
              "outlinewidth": 0,
              "ticks": ""
             }
            },
            "type": "scattermapbox"
           }
          ],
          "scatterpolar": [
           {
            "marker": {
             "colorbar": {
              "outlinewidth": 0,
              "ticks": ""
             }
            },
            "type": "scatterpolar"
           }
          ],
          "scatterpolargl": [
           {
            "marker": {
             "colorbar": {
              "outlinewidth": 0,
              "ticks": ""
             }
            },
            "type": "scatterpolargl"
           }
          ],
          "scatterternary": [
           {
            "marker": {
             "colorbar": {
              "outlinewidth": 0,
              "ticks": ""
             }
            },
            "type": "scatterternary"
           }
          ],
          "surface": [
           {
            "colorbar": {
             "outlinewidth": 0,
             "ticks": ""
            },
            "colorscale": [
             [
              0,
              "#0d0887"
             ],
             [
              0.1111111111111111,
              "#46039f"
             ],
             [
              0.2222222222222222,
              "#7201a8"
             ],
             [
              0.3333333333333333,
              "#9c179e"
             ],
             [
              0.4444444444444444,
              "#bd3786"
             ],
             [
              0.5555555555555556,
              "#d8576b"
             ],
             [
              0.6666666666666666,
              "#ed7953"
             ],
             [
              0.7777777777777778,
              "#fb9f3a"
             ],
             [
              0.8888888888888888,
              "#fdca26"
             ],
             [
              1,
              "#f0f921"
             ]
            ],
            "type": "surface"
           }
          ],
          "table": [
           {
            "cells": {
             "fill": {
              "color": "#EBF0F8"
             },
             "line": {
              "color": "white"
             }
            },
            "header": {
             "fill": {
              "color": "#C8D4E3"
             },
             "line": {
              "color": "white"
             }
            },
            "type": "table"
           }
          ]
         },
         "layout": {
          "annotationdefaults": {
           "arrowcolor": "#2a3f5f",
           "arrowhead": 0,
           "arrowwidth": 1
          },
          "autotypenumbers": "strict",
          "coloraxis": {
           "colorbar": {
            "outlinewidth": 0,
            "ticks": ""
           }
          },
          "colorscale": {
           "diverging": [
            [
             0,
             "#8e0152"
            ],
            [
             0.1,
             "#c51b7d"
            ],
            [
             0.2,
             "#de77ae"
            ],
            [
             0.3,
             "#f1b6da"
            ],
            [
             0.4,
             "#fde0ef"
            ],
            [
             0.5,
             "#f7f7f7"
            ],
            [
             0.6,
             "#e6f5d0"
            ],
            [
             0.7,
             "#b8e186"
            ],
            [
             0.8,
             "#7fbc41"
            ],
            [
             0.9,
             "#4d9221"
            ],
            [
             1,
             "#276419"
            ]
           ],
           "sequential": [
            [
             0,
             "#0d0887"
            ],
            [
             0.1111111111111111,
             "#46039f"
            ],
            [
             0.2222222222222222,
             "#7201a8"
            ],
            [
             0.3333333333333333,
             "#9c179e"
            ],
            [
             0.4444444444444444,
             "#bd3786"
            ],
            [
             0.5555555555555556,
             "#d8576b"
            ],
            [
             0.6666666666666666,
             "#ed7953"
            ],
            [
             0.7777777777777778,
             "#fb9f3a"
            ],
            [
             0.8888888888888888,
             "#fdca26"
            ],
            [
             1,
             "#f0f921"
            ]
           ],
           "sequentialminus": [
            [
             0,
             "#0d0887"
            ],
            [
             0.1111111111111111,
             "#46039f"
            ],
            [
             0.2222222222222222,
             "#7201a8"
            ],
            [
             0.3333333333333333,
             "#9c179e"
            ],
            [
             0.4444444444444444,
             "#bd3786"
            ],
            [
             0.5555555555555556,
             "#d8576b"
            ],
            [
             0.6666666666666666,
             "#ed7953"
            ],
            [
             0.7777777777777778,
             "#fb9f3a"
            ],
            [
             0.8888888888888888,
             "#fdca26"
            ],
            [
             1,
             "#f0f921"
            ]
           ]
          },
          "colorway": [
           "#636efa",
           "#EF553B",
           "#00cc96",
           "#ab63fa",
           "#FFA15A",
           "#19d3f3",
           "#FF6692",
           "#B6E880",
           "#FF97FF",
           "#FECB52"
          ],
          "font": {
           "color": "#2a3f5f"
          },
          "geo": {
           "bgcolor": "white",
           "lakecolor": "white",
           "landcolor": "#E5ECF6",
           "showlakes": true,
           "showland": true,
           "subunitcolor": "white"
          },
          "hoverlabel": {
           "align": "left"
          },
          "hovermode": "closest",
          "mapbox": {
           "style": "light"
          },
          "paper_bgcolor": "white",
          "plot_bgcolor": "#E5ECF6",
          "polar": {
           "angularaxis": {
            "gridcolor": "white",
            "linecolor": "white",
            "ticks": ""
           },
           "bgcolor": "#E5ECF6",
           "radialaxis": {
            "gridcolor": "white",
            "linecolor": "white",
            "ticks": ""
           }
          },
          "scene": {
           "xaxis": {
            "backgroundcolor": "#E5ECF6",
            "gridcolor": "white",
            "gridwidth": 2,
            "linecolor": "white",
            "showbackground": true,
            "ticks": "",
            "zerolinecolor": "white"
           },
           "yaxis": {
            "backgroundcolor": "#E5ECF6",
            "gridcolor": "white",
            "gridwidth": 2,
            "linecolor": "white",
            "showbackground": true,
            "ticks": "",
            "zerolinecolor": "white"
           },
           "zaxis": {
            "backgroundcolor": "#E5ECF6",
            "gridcolor": "white",
            "gridwidth": 2,
            "linecolor": "white",
            "showbackground": true,
            "ticks": "",
            "zerolinecolor": "white"
           }
          },
          "shapedefaults": {
           "line": {
            "color": "#2a3f5f"
           }
          },
          "ternary": {
           "aaxis": {
            "gridcolor": "white",
            "linecolor": "white",
            "ticks": ""
           },
           "baxis": {
            "gridcolor": "white",
            "linecolor": "white",
            "ticks": ""
           },
           "bgcolor": "#E5ECF6",
           "caxis": {
            "gridcolor": "white",
            "linecolor": "white",
            "ticks": ""
           }
          },
          "title": {
           "x": 0.05
          },
          "xaxis": {
           "automargin": true,
           "gridcolor": "white",
           "linecolor": "white",
           "ticks": "",
           "title": {
            "standoff": 15
           },
           "zerolinecolor": "white",
           "zerolinewidth": 2
          },
          "yaxis": {
           "automargin": true,
           "gridcolor": "white",
           "linecolor": "white",
           "ticks": "",
           "title": {
            "standoff": 15
           },
           "zerolinecolor": "white",
           "zerolinewidth": 2
          }
         }
        },
        "title": {
         "text": "Relative Min Test Loss by Method for summary"
        },
        "xaxis": {
         "ticktext": [
          1,
          2,
          3,
          4,
          5,
          6,
          7,
          8,
          9,
          10,
          11,
          12,
          13,
          14,
          15,
          16,
          17,
          18,
          19,
          20,
          21,
          22,
          23,
          24,
          25,
          26
         ],
         "tickvals": [
          0,
          1,
          2,
          3,
          4,
          5,
          6,
          7,
          8,
          9,
          10,
          11,
          12,
          13,
          14,
          15,
          16,
          17,
          18,
          19,
          20,
          21,
          22,
          23,
          24,
          25
         ],
         "title": {
          "text": "Method"
         }
        },
        "yaxis": {
         "title": {
          "text": "Relative Min Test Loss"
         }
        }
       }
      },
      "text/html": [
       "<div>                            <div id=\"a9968052-f7af-45c0-abf3-24fe56b0df68\" class=\"plotly-graph-div\" style=\"height:525px; width:100%;\"></div>            <script type=\"text/javascript\">                require([\"plotly\"], function(Plotly) {                    window.PLOTLYENV=window.PLOTLYENV || {};                                    if (document.getElementById(\"a9968052-f7af-45c0-abf3-24fe56b0df68\")) {                    Plotly.newPlot(                        \"a9968052-f7af-45c0-abf3-24fe56b0df68\",                        [{\"marker\":{\"color\":[\"#636EFA\",\"#EF553B\",\"#00CC96\",\"#AB63FA\",\"#FFA15A\",\"#19D3F3\",\"#FF6692\",\"#B6E880\",\"#FF97FF\",\"#FECB52\",\"#636EFA\",\"#EF553B\",\"#00CC96\",\"#AB63FA\",\"#FFA15A\",\"#19D3F3\",\"#FF6692\",\"#B6E880\",\"#FF97FF\",\"#FECB52\",\"#636EFA\",\"#EF553B\",\"#00CC96\",\"#AB63FA\",\"#FFA15A\",\"#19D3F3\"]},\"name\":\"summary\",\"x\":[1,2,3,4,5,6,7,8,9,10,11,12,13,14,15,16,17,18,19,20,21,22,23,24,25,26],\"y\":[6.659424769052595,23.602929376168234,1.0,1.3426689784471237,4.692913167960162,29.403830521190386,11.449795392248895,10.589879139554252,301.6577858528859,null,null,423.22039630226084,1.273960420706714,1.1975817883666973,145.37361256970752,1.2342641005833017,1.2249931097670996,103.35989772004596,13.273642043226317,13.294200811695314,74.83702993906742,19.439353645136986,19.08002503594111,82.00339544634275,20.81147654841911,20.55563425834754],\"type\":\"bar\"}],                        {\"template\":{\"data\":{\"histogram2dcontour\":[{\"type\":\"histogram2dcontour\",\"colorbar\":{\"outlinewidth\":0,\"ticks\":\"\"},\"colorscale\":[[0.0,\"#0d0887\"],[0.1111111111111111,\"#46039f\"],[0.2222222222222222,\"#7201a8\"],[0.3333333333333333,\"#9c179e\"],[0.4444444444444444,\"#bd3786\"],[0.5555555555555556,\"#d8576b\"],[0.6666666666666666,\"#ed7953\"],[0.7777777777777778,\"#fb9f3a\"],[0.8888888888888888,\"#fdca26\"],[1.0,\"#f0f921\"]]}],\"choropleth\":[{\"type\":\"choropleth\",\"colorbar\":{\"outlinewidth\":0,\"ticks\":\"\"}}],\"histogram2d\":[{\"type\":\"histogram2d\",\"colorbar\":{\"outlinewidth\":0,\"ticks\":\"\"},\"colorscale\":[[0.0,\"#0d0887\"],[0.1111111111111111,\"#46039f\"],[0.2222222222222222,\"#7201a8\"],[0.3333333333333333,\"#9c179e\"],[0.4444444444444444,\"#bd3786\"],[0.5555555555555556,\"#d8576b\"],[0.6666666666666666,\"#ed7953\"],[0.7777777777777778,\"#fb9f3a\"],[0.8888888888888888,\"#fdca26\"],[1.0,\"#f0f921\"]]}],\"heatmap\":[{\"type\":\"heatmap\",\"colorbar\":{\"outlinewidth\":0,\"ticks\":\"\"},\"colorscale\":[[0.0,\"#0d0887\"],[0.1111111111111111,\"#46039f\"],[0.2222222222222222,\"#7201a8\"],[0.3333333333333333,\"#9c179e\"],[0.4444444444444444,\"#bd3786\"],[0.5555555555555556,\"#d8576b\"],[0.6666666666666666,\"#ed7953\"],[0.7777777777777778,\"#fb9f3a\"],[0.8888888888888888,\"#fdca26\"],[1.0,\"#f0f921\"]]}],\"heatmapgl\":[{\"type\":\"heatmapgl\",\"colorbar\":{\"outlinewidth\":0,\"ticks\":\"\"},\"colorscale\":[[0.0,\"#0d0887\"],[0.1111111111111111,\"#46039f\"],[0.2222222222222222,\"#7201a8\"],[0.3333333333333333,\"#9c179e\"],[0.4444444444444444,\"#bd3786\"],[0.5555555555555556,\"#d8576b\"],[0.6666666666666666,\"#ed7953\"],[0.7777777777777778,\"#fb9f3a\"],[0.8888888888888888,\"#fdca26\"],[1.0,\"#f0f921\"]]}],\"contourcarpet\":[{\"type\":\"contourcarpet\",\"colorbar\":{\"outlinewidth\":0,\"ticks\":\"\"}}],\"contour\":[{\"type\":\"contour\",\"colorbar\":{\"outlinewidth\":0,\"ticks\":\"\"},\"colorscale\":[[0.0,\"#0d0887\"],[0.1111111111111111,\"#46039f\"],[0.2222222222222222,\"#7201a8\"],[0.3333333333333333,\"#9c179e\"],[0.4444444444444444,\"#bd3786\"],[0.5555555555555556,\"#d8576b\"],[0.6666666666666666,\"#ed7953\"],[0.7777777777777778,\"#fb9f3a\"],[0.8888888888888888,\"#fdca26\"],[1.0,\"#f0f921\"]]}],\"surface\":[{\"type\":\"surface\",\"colorbar\":{\"outlinewidth\":0,\"ticks\":\"\"},\"colorscale\":[[0.0,\"#0d0887\"],[0.1111111111111111,\"#46039f\"],[0.2222222222222222,\"#7201a8\"],[0.3333333333333333,\"#9c179e\"],[0.4444444444444444,\"#bd3786\"],[0.5555555555555556,\"#d8576b\"],[0.6666666666666666,\"#ed7953\"],[0.7777777777777778,\"#fb9f3a\"],[0.8888888888888888,\"#fdca26\"],[1.0,\"#f0f921\"]]}],\"mesh3d\":[{\"type\":\"mesh3d\",\"colorbar\":{\"outlinewidth\":0,\"ticks\":\"\"}}],\"scatter\":[{\"fillpattern\":{\"fillmode\":\"overlay\",\"size\":10,\"solidity\":0.2},\"type\":\"scatter\"}],\"parcoords\":[{\"type\":\"parcoords\",\"line\":{\"colorbar\":{\"outlinewidth\":0,\"ticks\":\"\"}}}],\"scatterpolargl\":[{\"type\":\"scatterpolargl\",\"marker\":{\"colorbar\":{\"outlinewidth\":0,\"ticks\":\"\"}}}],\"bar\":[{\"error_x\":{\"color\":\"#2a3f5f\"},\"error_y\":{\"color\":\"#2a3f5f\"},\"marker\":{\"line\":{\"color\":\"#E5ECF6\",\"width\":0.5},\"pattern\":{\"fillmode\":\"overlay\",\"size\":10,\"solidity\":0.2}},\"type\":\"bar\"}],\"scattergeo\":[{\"type\":\"scattergeo\",\"marker\":{\"colorbar\":{\"outlinewidth\":0,\"ticks\":\"\"}}}],\"scatterpolar\":[{\"type\":\"scatterpolar\",\"marker\":{\"colorbar\":{\"outlinewidth\":0,\"ticks\":\"\"}}}],\"histogram\":[{\"marker\":{\"pattern\":{\"fillmode\":\"overlay\",\"size\":10,\"solidity\":0.2}},\"type\":\"histogram\"}],\"scattergl\":[{\"type\":\"scattergl\",\"marker\":{\"colorbar\":{\"outlinewidth\":0,\"ticks\":\"\"}}}],\"scatter3d\":[{\"type\":\"scatter3d\",\"line\":{\"colorbar\":{\"outlinewidth\":0,\"ticks\":\"\"}},\"marker\":{\"colorbar\":{\"outlinewidth\":0,\"ticks\":\"\"}}}],\"scattermapbox\":[{\"type\":\"scattermapbox\",\"marker\":{\"colorbar\":{\"outlinewidth\":0,\"ticks\":\"\"}}}],\"scatterternary\":[{\"type\":\"scatterternary\",\"marker\":{\"colorbar\":{\"outlinewidth\":0,\"ticks\":\"\"}}}],\"scattercarpet\":[{\"type\":\"scattercarpet\",\"marker\":{\"colorbar\":{\"outlinewidth\":0,\"ticks\":\"\"}}}],\"carpet\":[{\"aaxis\":{\"endlinecolor\":\"#2a3f5f\",\"gridcolor\":\"white\",\"linecolor\":\"white\",\"minorgridcolor\":\"white\",\"startlinecolor\":\"#2a3f5f\"},\"baxis\":{\"endlinecolor\":\"#2a3f5f\",\"gridcolor\":\"white\",\"linecolor\":\"white\",\"minorgridcolor\":\"white\",\"startlinecolor\":\"#2a3f5f\"},\"type\":\"carpet\"}],\"table\":[{\"cells\":{\"fill\":{\"color\":\"#EBF0F8\"},\"line\":{\"color\":\"white\"}},\"header\":{\"fill\":{\"color\":\"#C8D4E3\"},\"line\":{\"color\":\"white\"}},\"type\":\"table\"}],\"barpolar\":[{\"marker\":{\"line\":{\"color\":\"#E5ECF6\",\"width\":0.5},\"pattern\":{\"fillmode\":\"overlay\",\"size\":10,\"solidity\":0.2}},\"type\":\"barpolar\"}],\"pie\":[{\"automargin\":true,\"type\":\"pie\"}]},\"layout\":{\"autotypenumbers\":\"strict\",\"colorway\":[\"#636efa\",\"#EF553B\",\"#00cc96\",\"#ab63fa\",\"#FFA15A\",\"#19d3f3\",\"#FF6692\",\"#B6E880\",\"#FF97FF\",\"#FECB52\"],\"font\":{\"color\":\"#2a3f5f\"},\"hovermode\":\"closest\",\"hoverlabel\":{\"align\":\"left\"},\"paper_bgcolor\":\"white\",\"plot_bgcolor\":\"#E5ECF6\",\"polar\":{\"bgcolor\":\"#E5ECF6\",\"angularaxis\":{\"gridcolor\":\"white\",\"linecolor\":\"white\",\"ticks\":\"\"},\"radialaxis\":{\"gridcolor\":\"white\",\"linecolor\":\"white\",\"ticks\":\"\"}},\"ternary\":{\"bgcolor\":\"#E5ECF6\",\"aaxis\":{\"gridcolor\":\"white\",\"linecolor\":\"white\",\"ticks\":\"\"},\"baxis\":{\"gridcolor\":\"white\",\"linecolor\":\"white\",\"ticks\":\"\"},\"caxis\":{\"gridcolor\":\"white\",\"linecolor\":\"white\",\"ticks\":\"\"}},\"coloraxis\":{\"colorbar\":{\"outlinewidth\":0,\"ticks\":\"\"}},\"colorscale\":{\"sequential\":[[0.0,\"#0d0887\"],[0.1111111111111111,\"#46039f\"],[0.2222222222222222,\"#7201a8\"],[0.3333333333333333,\"#9c179e\"],[0.4444444444444444,\"#bd3786\"],[0.5555555555555556,\"#d8576b\"],[0.6666666666666666,\"#ed7953\"],[0.7777777777777778,\"#fb9f3a\"],[0.8888888888888888,\"#fdca26\"],[1.0,\"#f0f921\"]],\"sequentialminus\":[[0.0,\"#0d0887\"],[0.1111111111111111,\"#46039f\"],[0.2222222222222222,\"#7201a8\"],[0.3333333333333333,\"#9c179e\"],[0.4444444444444444,\"#bd3786\"],[0.5555555555555556,\"#d8576b\"],[0.6666666666666666,\"#ed7953\"],[0.7777777777777778,\"#fb9f3a\"],[0.8888888888888888,\"#fdca26\"],[1.0,\"#f0f921\"]],\"diverging\":[[0,\"#8e0152\"],[0.1,\"#c51b7d\"],[0.2,\"#de77ae\"],[0.3,\"#f1b6da\"],[0.4,\"#fde0ef\"],[0.5,\"#f7f7f7\"],[0.6,\"#e6f5d0\"],[0.7,\"#b8e186\"],[0.8,\"#7fbc41\"],[0.9,\"#4d9221\"],[1,\"#276419\"]]},\"xaxis\":{\"gridcolor\":\"white\",\"linecolor\":\"white\",\"ticks\":\"\",\"title\":{\"standoff\":15},\"zerolinecolor\":\"white\",\"automargin\":true,\"zerolinewidth\":2},\"yaxis\":{\"gridcolor\":\"white\",\"linecolor\":\"white\",\"ticks\":\"\",\"title\":{\"standoff\":15},\"zerolinecolor\":\"white\",\"automargin\":true,\"zerolinewidth\":2},\"scene\":{\"xaxis\":{\"backgroundcolor\":\"#E5ECF6\",\"gridcolor\":\"white\",\"linecolor\":\"white\",\"showbackground\":true,\"ticks\":\"\",\"zerolinecolor\":\"white\",\"gridwidth\":2},\"yaxis\":{\"backgroundcolor\":\"#E5ECF6\",\"gridcolor\":\"white\",\"linecolor\":\"white\",\"showbackground\":true,\"ticks\":\"\",\"zerolinecolor\":\"white\",\"gridwidth\":2},\"zaxis\":{\"backgroundcolor\":\"#E5ECF6\",\"gridcolor\":\"white\",\"linecolor\":\"white\",\"showbackground\":true,\"ticks\":\"\",\"zerolinecolor\":\"white\",\"gridwidth\":2}},\"shapedefaults\":{\"line\":{\"color\":\"#2a3f5f\"}},\"annotationdefaults\":{\"arrowcolor\":\"#2a3f5f\",\"arrowhead\":0,\"arrowwidth\":1},\"geo\":{\"bgcolor\":\"white\",\"landcolor\":\"#E5ECF6\",\"subunitcolor\":\"white\",\"showland\":true,\"showlakes\":true,\"lakecolor\":\"white\"},\"title\":{\"x\":0.05},\"mapbox\":{\"style\":\"light\"}}},\"xaxis\":{\"title\":{\"text\":\"Method\"},\"tickvals\":[0,1,2,3,4,5,6,7,8,9,10,11,12,13,14,15,16,17,18,19,20,21,22,23,24,25],\"ticktext\":[1,2,3,4,5,6,7,8,9,10,11,12,13,14,15,16,17,18,19,20,21,22,23,24,25,26]},\"title\":{\"text\":\"Relative Min Test Loss by Method for summary\"},\"yaxis\":{\"title\":{\"text\":\"Relative Min Test Loss\"}},\"legend\":{\"title\":{\"text\":\"summary\"}}},                        {\"responsive\": true}                    ).then(function(){\n",
       "                            \n",
       "var gd = document.getElementById('a9968052-f7af-45c0-abf3-24fe56b0df68');\n",
       "var x = new MutationObserver(function (mutations, observer) {{\n",
       "        var display = window.getComputedStyle(gd).display;\n",
       "        if (!display || display === 'none') {{\n",
       "            console.log([gd, 'removed!']);\n",
       "            Plotly.purge(gd);\n",
       "            observer.disconnect();\n",
       "        }}\n",
       "}});\n",
       "\n",
       "// Listen for the removal of the full notebook cells\n",
       "var notebookContainer = gd.closest('#notebook-container');\n",
       "if (notebookContainer) {{\n",
       "    x.observe(notebookContainer, {childList: true});\n",
       "}}\n",
       "\n",
       "// Listen for the clearing of the current output cell\n",
       "var outputEl = gd.closest('.output');\n",
       "if (outputEl) {{\n",
       "    x.observe(outputEl, {childList: true});\n",
       "}}\n",
       "\n",
       "                        })                };                });            </script>        </div>"
      ]
     },
     "metadata": {},
     "output_type": "display_data"
    }
   ],
   "source": [
    "### The mean over all datasets is not a good indicator!! (Prone to outliers) Every dataset has different properties and therefore different methods perform best.\n",
    "\n",
    "import plotly.express as px\n",
    "\n",
    "dataset_names = list(min_val_test_loss.keys())\n",
    "\n",
    "summary_test_loss = {}\n",
    "\n",
    "\n",
    "for dataset_name, dataset_vals in relative_min_val_test_loss.items():\n",
    "    for method_name, method_val in dataset_vals.items():\n",
    "        if method_name not in summary_test_loss:\n",
    "            summary_test_loss[method_name] = []\n",
    "        \n",
    "        summary_test_loss[method_name].append(method_val)\n",
    "        \n",
    "for method_name, method_vals in summary_test_loss.items():\n",
    "    summary_test_loss[method_name] = np.mean(method_vals)\n",
    "\n",
    "\n",
    "# Adding bars for each dataset\n",
    "methods = list(summary_test_loss.keys())\n",
    "index = np.arange(len(methods))  # the label locations\n",
    "\n",
    "test_losses = [summary_test_loss[method] for method in methods]\n",
    "dataset_name = \"summary\"\n",
    "# Create a bar chart for the current dataset\n",
    "fig = go.Figure(data=[\n",
    "    go.Bar(\n",
    "        x=methods,\n",
    "        y=test_losses,\n",
    "        name=dataset_name,\n",
    "        marker_color = colors[:len(methods)]  # Assign different colors to each bar\n",
    "    )\n",
    "])\n",
    "\n",
    "# Customize the layout\n",
    "fig.update_layout(\n",
    "    title=f'Relative Min Test Loss by Method for {dataset_name}',\n",
    "    xaxis=dict(\n",
    "        title='Method',\n",
    "        #tickmode='array',\n",
    "        tickvals=list(range(len(methods))),\n",
    "        ticktext=methods\n",
    "    ),\n",
    "    yaxis=dict(\n",
    "        title='Relative Min Test Loss'\n",
    "    ),\n",
    "    legend_title=dataset_name\n",
    "    # Additional customizations can be added here\n",
    ")\n",
    "\n",
    "# Show the plot\n",
    "fig.show()\n"
   ]
  },
  {
   "cell_type": "code",
   "execution_count": 30,
   "metadata": {},
   "outputs": [
    {
     "data": {
      "application/vnd.plotly.v1+json": {
       "config": {
        "plotlyServerURL": "https://plot.ly"
       },
       "data": [
        {
         "colorscale": [
          [
           0,
           "#30123b"
          ],
          [
           0.07142857142857142,
           "#4145ab"
          ],
          [
           0.14285714285714285,
           "#4675ed"
          ],
          [
           0.21428571428571427,
           "#39a2fc"
          ],
          [
           0.2857142857142857,
           "#1bcfd4"
          ],
          [
           0.35714285714285715,
           "#24eca6"
          ],
          [
           0.42857142857142855,
           "#61fc6c"
          ],
          [
           0.5,
           "#a4fc3b"
          ],
          [
           0.5714285714285714,
           "#d1e834"
          ],
          [
           0.6428571428571429,
           "#f3c63a"
          ],
          [
           0.7142857142857143,
           "#fe9b2d"
          ],
          [
           0.7857142857142857,
           "#f36315"
          ],
          [
           0.8571428571428571,
           "#d93806"
          ],
          [
           0.9285714285714286,
           "#b11901"
          ],
          [
           1,
           "#7a0402"
          ]
         ],
         "type": "heatmap",
         "x": [
          1,
          2,
          3,
          4,
          5,
          6,
          7,
          8,
          9,
          10,
          11,
          12,
          13,
          14,
          15,
          16,
          17,
          18,
          19,
          20,
          21,
          22,
          23,
          24,
          25,
          26
         ],
         "y": [
          "556_analcatdata_apnea2",
          "631_fri_c1_500_5",
          "601_fri_c1_250_5",
          "519_vinnie",
          "485_analcatdata_vehicle",
          "613_fri_c3_250_5",
          "1030_ERA",
          "597_fri_c2_500_5",
          "712_chscase_geyser1",
          "1027_ESL",
          "523_analcatdata_neavote",
          "529_pollen",
          "599_fri_c2_1000_5",
          "596_fri_c2_250_5",
          "557_analcatdata_apnea1",
          "624_fri_c0_100_5",
          "663_rabe_266",
          "banana",
          "228_elusage",
          "579_fri_c0_250_5",
          "678_visualizing_environmental",
          "1096_FacultySalaries",
          "1029_LEV",
          "210_cloud",
          "594_fri_c2_100_5",
          "192_vineyard",
          "609_fri_c0_1000_5",
          "611_fri_c3_100_5",
          "649_fri_c0_500_5",
          "617_fri_c3_500_5",
          "656_fri_c1_100_5",
          "612_fri_c1_1000_5",
          "628_fri_c3_1000_5",
          "690_visualizing_galaxy",
          "687_sleuth_ex1605"
         ],
         "z": [
          [
           8.51829343954872,
           8.042825780371235,
           1,
           2.5338374510743296,
           7.438297067795576,
           7.949355124388388,
           8.121835817554857,
           8.03478027176091,
           7.882964835792219,
           100,
           8.443323052288559,
           8.345516805072899,
           0.9794057805426715,
           1.1459270215248076,
           7.901681759218557,
           1.1538653825186682,
           1.0676061728824697,
           7.773823819465943,
           7.886874206334349,
           8.010996743570018,
           7.9287430215846335,
           7.967285993428534,
           7.93097811880722,
           7.937959903416095,
           7.986702753012115,
           7.932116253484673
          ],
          [
           1.433653544193633,
           12.36223023106586,
           1,
           0.4545401676805583,
           0.5216366322361199,
           0.5424015656178485,
           2.783645128761907,
           0.6540617866458007,
           2.0981108647903874,
           3.086583139067608,
           0.606807783827422,
           1.8651051815998578,
           0.6679420658438566,
           0.6028703803457127,
           0.6381365867161422,
           0.5176388207649838,
           0.6415415771908,
           0.7339081353580212,
           0.7369027126068962,
           0.8312359583475537,
           0.8946113231173684,
           9.186149900152895,
           9.196147120065003,
           9.202205054334728,
           9.20713307900721,
           9.069778068863757
          ],
          [
           2.18557888562584,
           11.360308965826722,
           1,
           0.5973595646259524,
           0.6184918531546469,
           0.8032679222788106,
           0.6491127064029558,
           1.0914841172085945,
           6.726160793754113,
           1.4675146386342521,
           0.9488983423375934,
           3.2722710055930846,
           0.5203543718468031,
           0.492944911002984,
           0.5238250716571718,
           0.44399205615286214,
           0.6044427376915675,
           0.6358988674318414,
           1.2159872211451546,
           1.208099675532773,
           1.303234613489334,
           8.721544251752958,
           8.707855081052422,
           8.753056442782249,
           8.734365941049626,
           8.690323221860249
          ],
          [
           1.475335248472503,
           6.125930119448476,
           1,
           0.9084709612521702,
           0.8949035623347722,
           0.8792759418942704,
           3.7054856067155457,
           3.704311607127751,
           5.532875664355439,
           3.7054856067155457,
           3.704311607127751,
           5.532875664355439,
           0.8898891253495829,
           0.8919651684515925,
           1.6891525456500058,
           0.8940625205087275,
           0.8917706334915241,
           1.2034577876948418,
           1.0849802107137576,
           1.0894918161426292,
           1.4994359716389924,
           1.5220466306214113,
           1.4651747375241806,
           2.7412035454608783,
           1.8042833355768833,
           1.879331511176247
          ],
          [
           2.6534226394384888,
           3.747349101943171,
           1,
           1.2919873273140332,
           1.2675942189554272,
           3.5177686018390455,
           2.2753972636168065,
           1.9963611341135417,
           2.047578224465291,
           3.648673702657653,
           2.397895115027766,
           1.8384679267250073,
           1.3391391827335757,
           1.334517080592869,
           4.674460533159123,
           1.2894509514093278,
           1.2617935759891095,
           3.4074176380725767,
           1.2672737930634181,
           1.2832895443242573,
           4.496341408069116,
           2.18837370116719,
           2.2855507544131433,
           4.382833571995429,
           2.484881796387175,
           2.4321981499728365
          ],
          [
           1.359967523816506,
           9.387402632989186,
           1,
           0.5435747388324036,
           0.415878799717786,
           0.5671631534058758,
           0.44123202749118356,
           0.5955535263484569,
           5.015236473209558,
           100,
           0.4689655452472229,
           4.483922473726057,
           0.6169001027008487,
           0.5558739501164145,
           0.5476850925177555,
           0.6383552366713602,
           0.6684850535904001,
           0.623043689727239,
           0.7167629555893352,
           0.6862978630051397,
           0.6795188315536393,
           6.697166949976173,
           6.6454970303955845,
           6.6920672100627145,
           6.96633330501577,
           6.732664980898159
          ],
          [
           0.9632615436547791,
           2.0396410702159637,
           1,
           2.111973712203333,
           1.9740732972780364,
           1.8869305756518413,
           1.9667865787442806,
           1.891793870958358,
           1.993798543857763,
           100,
           2.65148767820543,
           1.9224107271504414,
           1.9500587219924168,
           1.8722278050153784,
           1.9317245767316111,
           1.9380670395275092,
           1.868960629430198,
           1.928392387952707,
           1.9868006747644622,
           2.0000864751333154,
           2.0094612703931665,
           1.9841307087230038,
           1.9994730849253592,
           2.0165673532657764,
           1.9854303021279676,
           2.000471525774315
          ],
          [
           1.6214926017005913,
           14.151425822278187,
           1,
           0.4953488576127243,
           0.49298027989468757,
           0.5019816886424718,
           3.30879413420961,
           0.6298334029270686,
           2.209631387451198,
           5.706545715933124,
           0.7641244852622452,
           1.0713638477226195,
           0.5912582010669463,
           0.5338309863260973,
           0.6272360714841133,
           0.6336910334764959,
           0.5092936225532445,
           0.7299636973808197,
           0.8369750485788209,
           0.7268486491137797,
           0.7759099899859848,
           11.242920242705795,
           11.15559678463202,
           11.182033482341383,
           11.23770732898105,
           11.21163556629768
          ],
          [
           3.049861964147467,
           5.846676753121158,
           1,
           0.7313119145428679,
           0.9304108078139006,
           7.441462685413223,
           1.9505837544478755,
           2.381393470738119,
           55.7974204237811,
           100,
           92.48134770452366,
           41.547356092624725,
           0.7061633324234161,
           0.7051096104555351,
           1.770069420927924,
           0.7241760238772799,
           0.6922312181208528,
           1.3489356707849183,
           0.9924739500954933,
           0.9393315446572157,
           3.7711712281955925,
           4.371714296159788,
           4.0502186707587855,
           4.4225267270710455,
           4.13684273683267,
           3.8800425490795756
          ],
          [
           0.9617399116751599,
           11.729264139197348,
           1,
           1.0038232280094792,
           0.9228324141166228,
           1.040879184488609,
           0.7826794635080369,
           0.764922597517248,
           1.1804592740873587,
           100,
           0.9574747190101462,
           23.939625549207847,
           0.9948921761860049,
           0.982190667006892,
           1.0021970833122398,
           0.9976108543555793,
           0.9593093477679325,
           0.9594527178955294,
           1.0513674615729853,
           1.0689950842612501,
           1.0805220203950143,
           5.925022925163016,
           6.1553012806065786,
           6.0101981444674175,
           5.756050609780718,
           5.718386834760641
          ],
          [
           1.225195570879133,
           10.103858678954289,
           1,
           0.510921576169674,
           0.5289056769568409,
           3.71793729253338,
           0.6417268088872669,
           0.8145525192139849,
           10.996260147517466,
           1.67008434648423,
           0.4318582770445361,
           0.4472354407208667,
           0.4735865558193819,
           0.6516693400904505,
           5.146008469599431,
           0.4824013748773349,
           0.41075378615863734,
           3.263402427902171,
           0.5835514345589908,
           0.6162778573700642,
           2.179588010620142,
           0.9484828045329229,
           0.8282452055618605,
           1.2978470291862123,
           0.736680136751411,
           0.709330126479537
          ],
          [
           0.9689137568476037,
           7.616059478343154,
           1,
           6.228751800471887,
           6.205550502166244,
           5.580428301888271,
           13.418442278122512,
           6.429835001392634,
           34.35816508494862,
           100,
           100,
           7.7794484965446005,
           6.704902786520945,
           6.431356605249945,
           6.5557769264321,
           6.634880219414866,
           6.403534696730304,
           6.553620373578746,
           34.84411591859732,
           31.840071546083678,
           28.011272398767023,
           29.010808238392123,
           31.832678924952862,
           32.74351061424677,
           28.54085649137744,
           32.1796304184621
          ],
          [
           1.5507446290273814,
           20.62651921215656,
           1,
           0.8898023136630966,
           0.8319019984732717,
           0.8576284401218152,
           0.9490927182766654,
           1.0457141723702332,
           3.1437511371692417,
           16.159086540913563,
           1.0149677593040676,
           1.5991935302068137,
           1.111672365444467,
           0.8975909567343465,
           0.9208144561844436,
           0.9982170964824889,
           0.9649584859067921,
           1.0728515023856984,
           1.1711973083860967,
           1.1896257769161613,
           1.342563634528875,
           32.025702336493225,
           31.691149921677205,
           32.40647778625648,
           32.22411778297795,
           31.74707870256542
          ],
          [
           2.2276342182782574,
           9.727828480618054,
           1,
           0.3917101922873463,
           0.5092533679363583,
           0.8225478376805384,
           0.4439589590250418,
           0.49419893922385427,
           3.8765814006816113,
           100,
           0.5296167256862179,
           2.5106748446142055,
           0.4636054450589401,
           0.5129037064663684,
           0.5239089726920378,
           0.4014560804406645,
           0.6595783420960432,
           0.5891418998214323,
           0.851651490802733,
           0.8134644138531933,
           0.9936581591135577,
           7.1354925436965955,
           7.057688190376967,
           7.071241144147877,
           7.171830764435883,
           7.29871553150998
          ],
          [
           11.379007704796017,
           10.816790198644945,
           1,
           1.4272132522572805,
           9.772919569714954,
           10.580229689712121,
           10.788116848736976,
           10.779648303657972,
           10.580175082712735,
           100,
           11.402503694629038,
           11.107588770012697,
           0.8660799161209318,
           0.8432150583754406,
           10.583062020964986,
           0.8481762413897853,
           0.741335643028366,
           10.452261501648003,
           10.50774498556389,
           10.564944672239696,
           10.626606341436986,
           10.679190229849109,
           10.621293309432813,
           10.638480772080277,
           10.588668580659009,
           10.625749023601168
          ],
          [
           0.9782478845856866,
           7.643301348594659,
           1,
           0.6701849663745482,
           0.6937015050667125,
           0.782636022009033,
           2.1918901987737116,
           2.0337771937427744,
           1.942294760519441,
           3.308136173755845,
           5.041321670552906,
           4.2928278822358905,
           0.7051437053648079,
           0.7605734077739351,
           0.6866558750458478,
           0.7809157200581489,
           0.6506562710402861,
           0.6393523995526994,
           1.3514859804164159,
           1.4245931092683894,
           1.4003055268546258,
           4.693564673107188,
           4.703760713480721,
           4.705181233933446,
           4.70608540658409,
           4.726585911482366
          ],
          [
           100,
           100,
           1,
           0.5232614472239704,
           2.121116928930294,
           5.054216277526913,
           100,
           100,
           100,
           100,
           100,
           100,
           0.17223836890454636,
           0.7944521627381955,
           100,
           0.17631826128354555,
           0.6699578554707201,
           100,
           100,
           100,
           100,
           100,
           100,
           100,
           100,
           100
          ],
          [
           1.0001934148512426,
           3.173305630143056,
           1,
           7.8786246210413555,
           7.63112398441591,
           7.855609373778838,
           7.784567396750697,
           8.40585025555922,
           7.702783724980177,
           7.879675947344703,
           8.058416209967548,
           8.3561044450364,
           7.9190259373426946,
           7.680840295793587,
           7.810215404198833,
           8.017876159388084,
           7.754496710115264,
           7.844274982070029,
           7.7022200412348445,
           7.752539562130876,
           7.9160045416234635,
           9.557388236425385,
           8.941528918117545,
           9.523142632607158,
           28.148367837790524,
           28.44578260428765
          ],
          [
           2.474942065868366,
           4.611470677146672,
           1,
           0.7407740162227858,
           1.1701878262181435,
           6.4447174773411335,
           3.1460136058666035,
           3.0895520957803537,
           12.36285133610927,
           3.1460136058666035,
           3.0895520957803537,
           12.36285133610927,
           1.4453965561414297,
           0.5647314529966513,
           8.637380881253115,
           0.5483557801073924,
           0.5490289048209809,
           7.409093207186533,
           3.787536673453411,
           2.9485528591466075,
           4.630257432487079,
           3.253269323511836,
           3.150939853976603,
           5.0033603183008255,
           2.8728139799529373,
           2.9203678117361958
          ],
          [
           0.6914350183467063,
           8.880469132924611,
           1,
           0.5211572834005426,
           0.489113800976128,
           0.5446314359790273,
           0.8296945386612761,
           1.0429226280463735,
           1.602015938846279,
           1.9262962157396484,
           0.7912823618200517,
           1.10611518242578,
           0.7833059364041438,
           0.6109212068396175,
           0.616283654544057,
           0.5836830776452966,
           0.8084100102300151,
           0.7408692291878992,
           1.0199262085966558,
           0.9622922275712331,
           0.9569091453579949,
           5.102199876302135,
           5.188981745245475,
           5.1662795002963655,
           5.107931630477142,
           5.173538822965636
          ],
          [
           0.9334271931576287,
           1.563272287142659,
           1,
           1.065518438785999,
           1.0919231064649644,
           1.0813773669974145,
           1.1944044154508124,
           1.19130508000321,
           9.622615438325452,
           1.1944044154508124,
           1.19130508000321,
           9.622615438325452,
           0.8929029769382999,
           0.9038302194647824,
           1.1676056261769499,
           0.8978655888457321,
           0.9099585269457358,
           1.136759188325249,
           1.3220220073743134,
           1.2409126069334686,
           1.350016747124429,
           1.1798893214955704,
           1.1646135312175947,
           1.3188625944966903,
           1.1493155987655999,
           1.1260957403324028
          ],
          [
           2.907709431457043,
           9.021235158107833,
           1,
           0.5053549092065546,
           0.5240709151097198,
           0.8165440743354007,
           4.539244502941337,
           4.7107206540378606,
           100,
           4.539244502941337,
           4.7107206540378606,
           100,
           1.929884073005424,
           0.7447631046645558,
           72.00740337142325,
           1.67377612212293,
           0.65148315525899,
           34.4410573338608,
           6.881410695074804,
           6.838619496130772,
           14.085004682763794,
           6.4162821010983135,
           6.354010456944016,
           12.465079725596299,
           7.642891184009281,
           7.131959423540104
          ],
          [
           0.9532768640878533,
           3.8434439404006953,
           1,
           1.9068219391100494,
           1.956229623692634,
           1.9914990728800246,
           2.009304676009502,
           1.9918027036883197,
           2.0111078300448786,
           2.0654742345444537,
           1.9028349036565166,
           1.9865235955233467,
           1.8761318617547311,
           1.8653914340013515,
           1.8981653833866166,
           1.8670166791991605,
           1.8591344859988834,
           1.8895699490863196,
           1.9753559765771451,
           2.0141905813513388,
           2.0704892586353325,
           2.4479243397659376,
           2.4249531220402805,
           2.4229593161020206,
           2.272214288267819,
           2.241791650591839
          ],
          [
           1.3168522037889572,
           6.43613679019756,
           1,
           0.8689302441735358,
           0.9052781662133829,
           2.083318017461177,
           1.1048114162656513,
           1.3561906702728093,
           1.3762084146037357,
           100,
           4.471915303711776,
           2.5041066249217394,
           1.1890451569053535,
           1.1423670888871813,
           1.160041138686848,
           1.191611755573784,
           1.0376926841940526,
           1.1195671531626503,
           1.7285309913820448,
           1.632372082289754,
           1.5939959009219293,
           4.313181648746538,
           4.647407165831104,
           4.328552235566671,
           4.1966443841602,
           4.397663669307905
          ],
          [
           1.2606688892705031,
           4.425402365254391,
           1,
           0.743358546690761,
           0.6647547143904138,
           0.7362721446683244,
           0.9884228883070106,
           1.0061681659037653,
           2.945430435002307,
           1.3367210740770514,
           1.188646960316638,
           2.681065594233504,
           0.565150396838008,
           0.6960648336423974,
           0.6860535747930389,
           0.675832058070031,
           0.6844716652203209,
           0.7484053599394445,
           1.3816890154109305,
           1.1695531793639111,
           1.4061038500556766,
           3.137467940654125,
           3.1830500996742455,
           3.1790472092768582,
           3.2200374062559582,
           3.186362884775175
          ],
          [
           0.8652911598409859,
           2.192718385960832,
           1,
           0.6283210228873979,
           0.582536684141762,
           0.7261795054620238,
           0.5918019079786544,
           0.630560890212185,
           20.026620279033512,
           6.017027692129275,
           0.7070032824254817,
           100,
           0.676407781221739,
           0.5475582668396319,
           4.553611854490784,
           0.5228918241013051,
           0.642625658115367,
           0.5709585082288038,
           1.0610818540221558,
           0.7541640119749057,
           2.0127852638639867,
           1.5982648978188003,
           1.6949677701615578,
           2.244374122573672,
           2.187612388134797,
           2.178068133715379
          ],
          [
           0.6406531732120341,
           18.478417816697853,
           1,
           1.3115831581998505,
           1.2602701598671726,
           1.8142944204720284,
           1.0917858367107842,
           1.4903870114333548,
           4.760350863704179,
           1.34107922746596,
           1.232517001357233,
           1.53675726090866,
           1.1612786753992155,
           1.0685880688589682,
           1.1025655186747592,
           1.191047069681918,
           1.025457521606949,
           1.1244303766377481,
           1.6218987214504497,
           1.6427229457584795,
           1.695890248345603,
           21.30162170910782,
           21.423512516886515,
           21.294618190110462,
           21.29511487293476,
           21.450403424588604
          ],
          [
           0.717639031323795,
           4.7560534971490815,
           1,
           0.2972199944613443,
           0.2904371784145532,
           0.27791545996017836,
           0.4465622052319141,
           0.471224713539876,
           2.373182247128125,
           0.5748658638036946,
           0.6947379900421752,
           37.009291834855006,
           0.30925140887149766,
           0.36158008741388553,
           0.3484464388568768,
           0.438615821663066,
           0.36771319366916494,
           0.3988110810755643,
           0.6282739326613361,
           0.5379323924189564,
           0.5115576727649943,
           3.4585402756987964,
           3.5414157438462297,
           3.5796587847729144,
           3.2033287320837576,
           3.254240771865609
          ],
          [
           0.6682849008970791,
           13.766790200121017,
           1,
           0.5398078766348272,
           0.7088554612790278,
           0.9199635385258165,
           0.7033061951665744,
           0.8770933072643219,
           2.3192050322946933,
           0.6720819044633353,
           1.2320335153130124,
           0.9866611364111485,
           0.6420349752341058,
           0.595499875586159,
           0.6181775974354407,
           0.570766381222912,
           0.6730145031287597,
           0.6362164531403653,
           0.7853263277511316,
           0.76671303676367,
           0.7645855513368717,
           8.11675995669184,
           8.178000996531049,
           8.14732890018341,
           8.181775535209754,
           8.170550905375041
          ],
          [
           1.7681148904534385,
           11.893837961905607,
           1,
           0.42893077398691737,
           0.44879916905810346,
           0.5128121851301413,
           0.5476696333412195,
           0.712442068761818,
           3.223855203481581,
           100,
           0.48412167998974204,
           1.037662576696949,
           0.5056742026389928,
           0.40539004660017736,
           0.4775910876318896,
           0.469317954726086,
           0.4409959501631712,
           0.4965429666338895,
           0.6328900435420618,
           0.645515410660745,
           0.6894924947119526,
           9.537314591473345,
           9.398078953277729,
           9.340266135227475,
           9.249062152143356,
           9.240892476223319
          ],
          [
           1.0837202717514827,
           6.131960872905387,
           1,
           1.7144324893742067,
           1.090140035589867,
           1.1446806316735265,
           0.7326444288383136,
           0.7914650859756319,
           2.21019188572762,
           1.851335975978249,
           1.2424333637861305,
           1.7027766727603568,
           0.6257210370180859,
           0.5918142688593524,
           0.5895180145687059,
           0.6293022053192682,
           0.8617401848954703,
           0.7413549090634273,
           1.2673811212106534,
           1.0103811790684047,
           1.1525459813874321,
           4.75930341648573,
           4.835686130644723,
           4.850159499005148,
           4.779478999562273,
           4.845005172673589
          ],
          [
           1.5159120472691572,
           17.15389597426528,
           1,
           0.798894526555966,
           0.8033955572120697,
           0.7893442047048844,
           6.945320164299207,
           0.9225341434786462,
           2.239816502430145,
           7.455455181312955,
           0.9704734379383866,
           1.9864484773274622,
           1.07689762964747,
           0.9037336644549382,
           0.919164551505581,
           1.0503559126095434,
           1.045021301024617,
           1.1428918113684914,
           1.3403981950649149,
           1.1963304318038626,
           1.4214990702352446,
           27.304112559550436,
           27.769498930578095,
           27.932142232370005,
           27.245961237394337,
           27.756489994085495
          ],
          [
           1.383150817580211,
           15.610303219799826,
           1,
           0.8720106535558829,
           0.8997075420088985,
           0.8582872454062812,
           0.939468677255685,
           0.9280461969732067,
           3.976543529445387,
           100,
           1.2349787310882203,
           2.0857475629627085,
           0.8419452810612671,
           0.6736402974222218,
           0.7225228421990532,
           0.843393577992297,
           0.7530954632588968,
           0.7766660925890646,
           1.0298455046485517,
           0.9517969646711546,
           1.0345780890104475,
           24.187941466489107,
           23.701723012636936,
           24.51516665803412,
           24.246995119151364,
           23.854941788049327
          ],
          [
           24.141598607846937,
           65.05452963041624,
           1,
           3.756560816435219,
           77.88841276019907,
           100,
           33.44289971928414,
           33.452489799915554,
           100,
           33.44289971928414,
           33.452489799915554,
           100,
           1.3566987059197777,
           1.5164734327195408,
           100,
           1.4451573839638252,
           2.141844081640508,
           100,
           86.54771395879273,
           87.69723391986965,
           100,
           100,
           100,
           100,
           100,
           100
          ],
          [
           2.2868321381750074,
           3.3455392155528116,
           1,
           1.1010394633304832,
           29.706275710811582,
           1.5083711298657108,
           2.5680714736423838,
           2.540208847292113,
           100,
           2.5680714736423838,
           2.540208847292113,
           100,
           1.0386299284726193,
           1.0329561295224332,
           55.001537606933134,
           1.0291032549733024,
           1.0023651924220978,
           43.50064040387374,
           2.9253395251397376,
           2.9397767397545755,
           14.25226819057709,
           2.746339097461439,
           2.877427422557445,
           18.543664840001096,
           4.175082156884499,
           4.502961837862963
          ]
         ]
        },
        {
         "marker": {
          "color": "red",
          "line": {
           "color": "red",
           "width": 1
          },
          "size": 4
         },
         "mode": "markers",
         "type": "scatter",
         "x": [
          13
         ],
         "y": [
          "556_analcatdata_apnea2"
         ]
        },
        {
         "marker": {
          "color": "red",
          "line": {
           "color": "red",
           "width": 1
          },
          "size": 4
         },
         "mode": "markers",
         "type": "scatter",
         "x": [
          4
         ],
         "y": [
          "631_fri_c1_500_5"
         ]
        },
        {
         "marker": {
          "color": "red",
          "line": {
           "color": "red",
           "width": 1
          },
          "size": 4
         },
         "mode": "markers",
         "type": "scatter",
         "x": [
          16
         ],
         "y": [
          "601_fri_c1_250_5"
         ]
        },
        {
         "marker": {
          "color": "red",
          "line": {
           "color": "red",
           "width": 1
          },
          "size": 4
         },
         "mode": "markers",
         "type": "scatter",
         "x": [
          6
         ],
         "y": [
          "519_vinnie"
         ]
        },
        {
         "marker": {
          "color": "red",
          "line": {
           "color": "red",
           "width": 1
          },
          "size": 4
         },
         "mode": "markers",
         "type": "scatter",
         "x": [
          3
         ],
         "y": [
          "485_analcatdata_vehicle"
         ]
        },
        {
         "marker": {
          "color": "red",
          "line": {
           "color": "red",
           "width": 1
          },
          "size": 4
         },
         "mode": "markers",
         "type": "scatter",
         "x": [
          5
         ],
         "y": [
          "613_fri_c3_250_5"
         ]
        },
        {
         "marker": {
          "color": "red",
          "line": {
           "color": "red",
           "width": 1
          },
          "size": 4
         },
         "mode": "markers",
         "type": "scatter",
         "x": [
          1
         ],
         "y": [
          "1030_ERA"
         ]
        },
        {
         "marker": {
          "color": "red",
          "line": {
           "color": "red",
           "width": 1
          },
          "size": 4
         },
         "mode": "markers",
         "type": "scatter",
         "x": [
          5
         ],
         "y": [
          "597_fri_c2_500_5"
         ]
        },
        {
         "marker": {
          "color": "red",
          "line": {
           "color": "red",
           "width": 1
          },
          "size": 4
         },
         "mode": "markers",
         "type": "scatter",
         "x": [
          17
         ],
         "y": [
          "712_chscase_geyser1"
         ]
        },
        {
         "marker": {
          "color": "red",
          "line": {
           "color": "red",
           "width": 1
          },
          "size": 4
         },
         "mode": "markers",
         "type": "scatter",
         "x": [
          8
         ],
         "y": [
          "1027_ESL"
         ]
        },
        {
         "marker": {
          "color": "red",
          "line": {
           "color": "red",
           "width": 1
          },
          "size": 4
         },
         "mode": "markers",
         "type": "scatter",
         "x": [
          17
         ],
         "y": [
          "523_analcatdata_neavote"
         ]
        },
        {
         "marker": {
          "color": "red",
          "line": {
           "color": "red",
           "width": 1
          },
          "size": 4
         },
         "mode": "markers",
         "type": "scatter",
         "x": [
          1
         ],
         "y": [
          "529_pollen"
         ]
        },
        {
         "marker": {
          "color": "red",
          "line": {
           "color": "red",
           "width": 1
          },
          "size": 4
         },
         "mode": "markers",
         "type": "scatter",
         "x": [
          5
         ],
         "y": [
          "599_fri_c2_1000_5"
         ]
        },
        {
         "marker": {
          "color": "red",
          "line": {
           "color": "red",
           "width": 1
          },
          "size": 4
         },
         "mode": "markers",
         "type": "scatter",
         "x": [
          4
         ],
         "y": [
          "596_fri_c2_250_5"
         ]
        },
        {
         "marker": {
          "color": "red",
          "line": {
           "color": "red",
           "width": 1
          },
          "size": 4
         },
         "mode": "markers",
         "type": "scatter",
         "x": [
          17
         ],
         "y": [
          "557_analcatdata_apnea1"
         ]
        },
        {
         "marker": {
          "color": "red",
          "line": {
           "color": "red",
           "width": 1
          },
          "size": 4
         },
         "mode": "markers",
         "type": "scatter",
         "x": [
          18
         ],
         "y": [
          "624_fri_c0_100_5"
         ]
        },
        {
         "marker": {
          "color": "red",
          "line": {
           "color": "red",
           "width": 1
          },
          "size": 4
         },
         "mode": "markers",
         "type": "scatter",
         "x": [
          13
         ],
         "y": [
          "663_rabe_266"
         ]
        },
        {
         "marker": {
          "color": "red",
          "line": {
           "color": "red",
           "width": 1
          },
          "size": 4
         },
         "mode": "markers",
         "type": "scatter",
         "x": [
          3
         ],
         "y": [
          "banana"
         ]
        },
        {
         "marker": {
          "color": "red",
          "line": {
           "color": "red",
           "width": 1
          },
          "size": 4
         },
         "mode": "markers",
         "type": "scatter",
         "x": [
          16
         ],
         "y": [
          "228_elusage"
         ]
        },
        {
         "marker": {
          "color": "red",
          "line": {
           "color": "red",
           "width": 1
          },
          "size": 4
         },
         "mode": "markers",
         "type": "scatter",
         "x": [
          5
         ],
         "y": [
          "579_fri_c0_250_5"
         ]
        },
        {
         "marker": {
          "color": "red",
          "line": {
           "color": "red",
           "width": 1
          },
          "size": 4
         },
         "mode": "markers",
         "type": "scatter",
         "x": [
          13
         ],
         "y": [
          "678_visualizing_environmental"
         ]
        },
        {
         "marker": {
          "color": "red",
          "line": {
           "color": "red",
           "width": 1
          },
          "size": 4
         },
         "mode": "markers",
         "type": "scatter",
         "x": [
          4
         ],
         "y": [
          "1096_FacultySalaries"
         ]
        },
        {
         "marker": {
          "color": "red",
          "line": {
           "color": "red",
           "width": 1
          },
          "size": 4
         },
         "mode": "markers",
         "type": "scatter",
         "x": [
          1
         ],
         "y": [
          "1029_LEV"
         ]
        },
        {
         "marker": {
          "color": "red",
          "line": {
           "color": "red",
           "width": 1
          },
          "size": 4
         },
         "mode": "markers",
         "type": "scatter",
         "x": [
          4
         ],
         "y": [
          "210_cloud"
         ]
        },
        {
         "marker": {
          "color": "red",
          "line": {
           "color": "red",
           "width": 1
          },
          "size": 4
         },
         "mode": "markers",
         "type": "scatter",
         "x": [
          13
         ],
         "y": [
          "594_fri_c2_100_5"
         ]
        },
        {
         "marker": {
          "color": "red",
          "line": {
           "color": "red",
           "width": 1
          },
          "size": 4
         },
         "mode": "markers",
         "type": "scatter",
         "x": [
          16
         ],
         "y": [
          "192_vineyard"
         ]
        },
        {
         "marker": {
          "color": "red",
          "line": {
           "color": "red",
           "width": 1
          },
          "size": 4
         },
         "mode": "markers",
         "type": "scatter",
         "x": [
          1
         ],
         "y": [
          "609_fri_c0_1000_5"
         ]
        },
        {
         "marker": {
          "color": "red",
          "line": {
           "color": "red",
           "width": 1
          },
          "size": 4
         },
         "mode": "markers",
         "type": "scatter",
         "x": [
          6
         ],
         "y": [
          "611_fri_c3_100_5"
         ]
        },
        {
         "marker": {
          "color": "red",
          "line": {
           "color": "red",
           "width": 1
          },
          "size": 4
         },
         "mode": "markers",
         "type": "scatter",
         "x": [
          4
         ],
         "y": [
          "649_fri_c0_500_5"
         ]
        },
        {
         "marker": {
          "color": "red",
          "line": {
           "color": "red",
           "width": 1
          },
          "size": 4
         },
         "mode": "markers",
         "type": "scatter",
         "x": [
          14
         ],
         "y": [
          "617_fri_c3_500_5"
         ]
        },
        {
         "marker": {
          "color": "red",
          "line": {
           "color": "red",
           "width": 1
          },
          "size": 4
         },
         "mode": "markers",
         "type": "scatter",
         "x": [
          15
         ],
         "y": [
          "656_fri_c1_100_5"
         ]
        },
        {
         "marker": {
          "color": "red",
          "line": {
           "color": "red",
           "width": 1
          },
          "size": 4
         },
         "mode": "markers",
         "type": "scatter",
         "x": [
          6
         ],
         "y": [
          "612_fri_c1_1000_5"
         ]
        },
        {
         "marker": {
          "color": "red",
          "line": {
           "color": "red",
           "width": 1
          },
          "size": 4
         },
         "mode": "markers",
         "type": "scatter",
         "x": [
          14
         ],
         "y": [
          "628_fri_c3_1000_5"
         ]
        },
        {
         "marker": {
          "color": "red",
          "line": {
           "color": "red",
           "width": 1
          },
          "size": 4
         },
         "mode": "markers",
         "type": "scatter",
         "x": [
          3
         ],
         "y": [
          "690_visualizing_galaxy"
         ]
        },
        {
         "marker": {
          "color": "red",
          "line": {
           "color": "red",
           "width": 1
          },
          "size": 4
         },
         "mode": "markers",
         "type": "scatter",
         "x": [
          3
         ],
         "y": [
          "687_sleuth_ex1605"
         ]
        }
       ],
       "layout": {
        "showlegend": false,
        "template": {
         "data": {
          "bar": [
           {
            "error_x": {
             "color": "#2a3f5f"
            },
            "error_y": {
             "color": "#2a3f5f"
            },
            "marker": {
             "line": {
              "color": "#E5ECF6",
              "width": 0.5
             },
             "pattern": {
              "fillmode": "overlay",
              "size": 10,
              "solidity": 0.2
             }
            },
            "type": "bar"
           }
          ],
          "barpolar": [
           {
            "marker": {
             "line": {
              "color": "#E5ECF6",
              "width": 0.5
             },
             "pattern": {
              "fillmode": "overlay",
              "size": 10,
              "solidity": 0.2
             }
            },
            "type": "barpolar"
           }
          ],
          "carpet": [
           {
            "aaxis": {
             "endlinecolor": "#2a3f5f",
             "gridcolor": "white",
             "linecolor": "white",
             "minorgridcolor": "white",
             "startlinecolor": "#2a3f5f"
            },
            "baxis": {
             "endlinecolor": "#2a3f5f",
             "gridcolor": "white",
             "linecolor": "white",
             "minorgridcolor": "white",
             "startlinecolor": "#2a3f5f"
            },
            "type": "carpet"
           }
          ],
          "choropleth": [
           {
            "colorbar": {
             "outlinewidth": 0,
             "ticks": ""
            },
            "type": "choropleth"
           }
          ],
          "contour": [
           {
            "colorbar": {
             "outlinewidth": 0,
             "ticks": ""
            },
            "colorscale": [
             [
              0,
              "#0d0887"
             ],
             [
              0.1111111111111111,
              "#46039f"
             ],
             [
              0.2222222222222222,
              "#7201a8"
             ],
             [
              0.3333333333333333,
              "#9c179e"
             ],
             [
              0.4444444444444444,
              "#bd3786"
             ],
             [
              0.5555555555555556,
              "#d8576b"
             ],
             [
              0.6666666666666666,
              "#ed7953"
             ],
             [
              0.7777777777777778,
              "#fb9f3a"
             ],
             [
              0.8888888888888888,
              "#fdca26"
             ],
             [
              1,
              "#f0f921"
             ]
            ],
            "type": "contour"
           }
          ],
          "contourcarpet": [
           {
            "colorbar": {
             "outlinewidth": 0,
             "ticks": ""
            },
            "type": "contourcarpet"
           }
          ],
          "heatmap": [
           {
            "colorbar": {
             "outlinewidth": 0,
             "ticks": ""
            },
            "colorscale": [
             [
              0,
              "#0d0887"
             ],
             [
              0.1111111111111111,
              "#46039f"
             ],
             [
              0.2222222222222222,
              "#7201a8"
             ],
             [
              0.3333333333333333,
              "#9c179e"
             ],
             [
              0.4444444444444444,
              "#bd3786"
             ],
             [
              0.5555555555555556,
              "#d8576b"
             ],
             [
              0.6666666666666666,
              "#ed7953"
             ],
             [
              0.7777777777777778,
              "#fb9f3a"
             ],
             [
              0.8888888888888888,
              "#fdca26"
             ],
             [
              1,
              "#f0f921"
             ]
            ],
            "type": "heatmap"
           }
          ],
          "heatmapgl": [
           {
            "colorbar": {
             "outlinewidth": 0,
             "ticks": ""
            },
            "colorscale": [
             [
              0,
              "#0d0887"
             ],
             [
              0.1111111111111111,
              "#46039f"
             ],
             [
              0.2222222222222222,
              "#7201a8"
             ],
             [
              0.3333333333333333,
              "#9c179e"
             ],
             [
              0.4444444444444444,
              "#bd3786"
             ],
             [
              0.5555555555555556,
              "#d8576b"
             ],
             [
              0.6666666666666666,
              "#ed7953"
             ],
             [
              0.7777777777777778,
              "#fb9f3a"
             ],
             [
              0.8888888888888888,
              "#fdca26"
             ],
             [
              1,
              "#f0f921"
             ]
            ],
            "type": "heatmapgl"
           }
          ],
          "histogram": [
           {
            "marker": {
             "pattern": {
              "fillmode": "overlay",
              "size": 10,
              "solidity": 0.2
             }
            },
            "type": "histogram"
           }
          ],
          "histogram2d": [
           {
            "colorbar": {
             "outlinewidth": 0,
             "ticks": ""
            },
            "colorscale": [
             [
              0,
              "#0d0887"
             ],
             [
              0.1111111111111111,
              "#46039f"
             ],
             [
              0.2222222222222222,
              "#7201a8"
             ],
             [
              0.3333333333333333,
              "#9c179e"
             ],
             [
              0.4444444444444444,
              "#bd3786"
             ],
             [
              0.5555555555555556,
              "#d8576b"
             ],
             [
              0.6666666666666666,
              "#ed7953"
             ],
             [
              0.7777777777777778,
              "#fb9f3a"
             ],
             [
              0.8888888888888888,
              "#fdca26"
             ],
             [
              1,
              "#f0f921"
             ]
            ],
            "type": "histogram2d"
           }
          ],
          "histogram2dcontour": [
           {
            "colorbar": {
             "outlinewidth": 0,
             "ticks": ""
            },
            "colorscale": [
             [
              0,
              "#0d0887"
             ],
             [
              0.1111111111111111,
              "#46039f"
             ],
             [
              0.2222222222222222,
              "#7201a8"
             ],
             [
              0.3333333333333333,
              "#9c179e"
             ],
             [
              0.4444444444444444,
              "#bd3786"
             ],
             [
              0.5555555555555556,
              "#d8576b"
             ],
             [
              0.6666666666666666,
              "#ed7953"
             ],
             [
              0.7777777777777778,
              "#fb9f3a"
             ],
             [
              0.8888888888888888,
              "#fdca26"
             ],
             [
              1,
              "#f0f921"
             ]
            ],
            "type": "histogram2dcontour"
           }
          ],
          "mesh3d": [
           {
            "colorbar": {
             "outlinewidth": 0,
             "ticks": ""
            },
            "type": "mesh3d"
           }
          ],
          "parcoords": [
           {
            "line": {
             "colorbar": {
              "outlinewidth": 0,
              "ticks": ""
             }
            },
            "type": "parcoords"
           }
          ],
          "pie": [
           {
            "automargin": true,
            "type": "pie"
           }
          ],
          "scatter": [
           {
            "fillpattern": {
             "fillmode": "overlay",
             "size": 10,
             "solidity": 0.2
            },
            "type": "scatter"
           }
          ],
          "scatter3d": [
           {
            "line": {
             "colorbar": {
              "outlinewidth": 0,
              "ticks": ""
             }
            },
            "marker": {
             "colorbar": {
              "outlinewidth": 0,
              "ticks": ""
             }
            },
            "type": "scatter3d"
           }
          ],
          "scattercarpet": [
           {
            "marker": {
             "colorbar": {
              "outlinewidth": 0,
              "ticks": ""
             }
            },
            "type": "scattercarpet"
           }
          ],
          "scattergeo": [
           {
            "marker": {
             "colorbar": {
              "outlinewidth": 0,
              "ticks": ""
             }
            },
            "type": "scattergeo"
           }
          ],
          "scattergl": [
           {
            "marker": {
             "colorbar": {
              "outlinewidth": 0,
              "ticks": ""
             }
            },
            "type": "scattergl"
           }
          ],
          "scattermapbox": [
           {
            "marker": {
             "colorbar": {
              "outlinewidth": 0,
              "ticks": ""
             }
            },
            "type": "scattermapbox"
           }
          ],
          "scatterpolar": [
           {
            "marker": {
             "colorbar": {
              "outlinewidth": 0,
              "ticks": ""
             }
            },
            "type": "scatterpolar"
           }
          ],
          "scatterpolargl": [
           {
            "marker": {
             "colorbar": {
              "outlinewidth": 0,
              "ticks": ""
             }
            },
            "type": "scatterpolargl"
           }
          ],
          "scatterternary": [
           {
            "marker": {
             "colorbar": {
              "outlinewidth": 0,
              "ticks": ""
             }
            },
            "type": "scatterternary"
           }
          ],
          "surface": [
           {
            "colorbar": {
             "outlinewidth": 0,
             "ticks": ""
            },
            "colorscale": [
             [
              0,
              "#0d0887"
             ],
             [
              0.1111111111111111,
              "#46039f"
             ],
             [
              0.2222222222222222,
              "#7201a8"
             ],
             [
              0.3333333333333333,
              "#9c179e"
             ],
             [
              0.4444444444444444,
              "#bd3786"
             ],
             [
              0.5555555555555556,
              "#d8576b"
             ],
             [
              0.6666666666666666,
              "#ed7953"
             ],
             [
              0.7777777777777778,
              "#fb9f3a"
             ],
             [
              0.8888888888888888,
              "#fdca26"
             ],
             [
              1,
              "#f0f921"
             ]
            ],
            "type": "surface"
           }
          ],
          "table": [
           {
            "cells": {
             "fill": {
              "color": "#EBF0F8"
             },
             "line": {
              "color": "white"
             }
            },
            "header": {
             "fill": {
              "color": "#C8D4E3"
             },
             "line": {
              "color": "white"
             }
            },
            "type": "table"
           }
          ]
         },
         "layout": {
          "annotationdefaults": {
           "arrowcolor": "#2a3f5f",
           "arrowhead": 0,
           "arrowwidth": 1
          },
          "autotypenumbers": "strict",
          "coloraxis": {
           "colorbar": {
            "outlinewidth": 0,
            "ticks": ""
           }
          },
          "colorscale": {
           "diverging": [
            [
             0,
             "#8e0152"
            ],
            [
             0.1,
             "#c51b7d"
            ],
            [
             0.2,
             "#de77ae"
            ],
            [
             0.3,
             "#f1b6da"
            ],
            [
             0.4,
             "#fde0ef"
            ],
            [
             0.5,
             "#f7f7f7"
            ],
            [
             0.6,
             "#e6f5d0"
            ],
            [
             0.7,
             "#b8e186"
            ],
            [
             0.8,
             "#7fbc41"
            ],
            [
             0.9,
             "#4d9221"
            ],
            [
             1,
             "#276419"
            ]
           ],
           "sequential": [
            [
             0,
             "#0d0887"
            ],
            [
             0.1111111111111111,
             "#46039f"
            ],
            [
             0.2222222222222222,
             "#7201a8"
            ],
            [
             0.3333333333333333,
             "#9c179e"
            ],
            [
             0.4444444444444444,
             "#bd3786"
            ],
            [
             0.5555555555555556,
             "#d8576b"
            ],
            [
             0.6666666666666666,
             "#ed7953"
            ],
            [
             0.7777777777777778,
             "#fb9f3a"
            ],
            [
             0.8888888888888888,
             "#fdca26"
            ],
            [
             1,
             "#f0f921"
            ]
           ],
           "sequentialminus": [
            [
             0,
             "#0d0887"
            ],
            [
             0.1111111111111111,
             "#46039f"
            ],
            [
             0.2222222222222222,
             "#7201a8"
            ],
            [
             0.3333333333333333,
             "#9c179e"
            ],
            [
             0.4444444444444444,
             "#bd3786"
            ],
            [
             0.5555555555555556,
             "#d8576b"
            ],
            [
             0.6666666666666666,
             "#ed7953"
            ],
            [
             0.7777777777777778,
             "#fb9f3a"
            ],
            [
             0.8888888888888888,
             "#fdca26"
            ],
            [
             1,
             "#f0f921"
            ]
           ]
          },
          "colorway": [
           "#636efa",
           "#EF553B",
           "#00cc96",
           "#ab63fa",
           "#FFA15A",
           "#19d3f3",
           "#FF6692",
           "#B6E880",
           "#FF97FF",
           "#FECB52"
          ],
          "font": {
           "color": "#2a3f5f"
          },
          "geo": {
           "bgcolor": "white",
           "lakecolor": "white",
           "landcolor": "#E5ECF6",
           "showlakes": true,
           "showland": true,
           "subunitcolor": "white"
          },
          "hoverlabel": {
           "align": "left"
          },
          "hovermode": "closest",
          "mapbox": {
           "style": "light"
          },
          "paper_bgcolor": "white",
          "plot_bgcolor": "#E5ECF6",
          "polar": {
           "angularaxis": {
            "gridcolor": "white",
            "linecolor": "white",
            "ticks": ""
           },
           "bgcolor": "#E5ECF6",
           "radialaxis": {
            "gridcolor": "white",
            "linecolor": "white",
            "ticks": ""
           }
          },
          "scene": {
           "xaxis": {
            "backgroundcolor": "#E5ECF6",
            "gridcolor": "white",
            "gridwidth": 2,
            "linecolor": "white",
            "showbackground": true,
            "ticks": "",
            "zerolinecolor": "white"
           },
           "yaxis": {
            "backgroundcolor": "#E5ECF6",
            "gridcolor": "white",
            "gridwidth": 2,
            "linecolor": "white",
            "showbackground": true,
            "ticks": "",
            "zerolinecolor": "white"
           },
           "zaxis": {
            "backgroundcolor": "#E5ECF6",
            "gridcolor": "white",
            "gridwidth": 2,
            "linecolor": "white",
            "showbackground": true,
            "ticks": "",
            "zerolinecolor": "white"
           }
          },
          "shapedefaults": {
           "line": {
            "color": "#2a3f5f"
           }
          },
          "ternary": {
           "aaxis": {
            "gridcolor": "white",
            "linecolor": "white",
            "ticks": ""
           },
           "baxis": {
            "gridcolor": "white",
            "linecolor": "white",
            "ticks": ""
           },
           "bgcolor": "#E5ECF6",
           "caxis": {
            "gridcolor": "white",
            "linecolor": "white",
            "ticks": ""
           }
          },
          "title": {
           "x": 0.05
          },
          "xaxis": {
           "automargin": true,
           "gridcolor": "white",
           "linecolor": "white",
           "ticks": "",
           "title": {
            "standoff": 15
           },
           "zerolinecolor": "white",
           "zerolinewidth": 2
          },
          "yaxis": {
           "automargin": true,
           "gridcolor": "white",
           "linecolor": "white",
           "ticks": "",
           "title": {
            "standoff": 15
           },
           "zerolinecolor": "white",
           "zerolinewidth": 2
          }
         }
        },
        "title": {
         "text": "Relative Min Test Loss by Method and Dataset"
        },
        "xaxis": {
         "title": {
          "text": "Method"
         }
        },
        "yaxis": {
         "title": {
          "text": "Dataset"
         }
        }
       }
      },
      "text/html": [
       "<div>                            <div id=\"6a08bbaf-ab53-4fe0-a921-65bb24a813f0\" class=\"plotly-graph-div\" style=\"height:525px; width:100%;\"></div>            <script type=\"text/javascript\">                require([\"plotly\"], function(Plotly) {                    window.PLOTLYENV=window.PLOTLYENV || {};                                    if (document.getElementById(\"6a08bbaf-ab53-4fe0-a921-65bb24a813f0\")) {                    Plotly.newPlot(                        \"6a08bbaf-ab53-4fe0-a921-65bb24a813f0\",                        [{\"colorscale\":[[0.0,\"#30123b\"],[0.07142857142857142,\"#4145ab\"],[0.14285714285714285,\"#4675ed\"],[0.21428571428571427,\"#39a2fc\"],[0.2857142857142857,\"#1bcfd4\"],[0.35714285714285715,\"#24eca6\"],[0.42857142857142855,\"#61fc6c\"],[0.5,\"#a4fc3b\"],[0.5714285714285714,\"#d1e834\"],[0.6428571428571429,\"#f3c63a\"],[0.7142857142857143,\"#fe9b2d\"],[0.7857142857142857,\"#f36315\"],[0.8571428571428571,\"#d93806\"],[0.9285714285714286,\"#b11901\"],[1.0,\"#7a0402\"]],\"x\":[1,2,3,4,5,6,7,8,9,10,11,12,13,14,15,16,17,18,19,20,21,22,23,24,25,26],\"y\":[\"556_analcatdata_apnea2\",\"631_fri_c1_500_5\",\"601_fri_c1_250_5\",\"519_vinnie\",\"485_analcatdata_vehicle\",\"613_fri_c3_250_5\",\"1030_ERA\",\"597_fri_c2_500_5\",\"712_chscase_geyser1\",\"1027_ESL\",\"523_analcatdata_neavote\",\"529_pollen\",\"599_fri_c2_1000_5\",\"596_fri_c2_250_5\",\"557_analcatdata_apnea1\",\"624_fri_c0_100_5\",\"663_rabe_266\",\"banana\",\"228_elusage\",\"579_fri_c0_250_5\",\"678_visualizing_environmental\",\"1096_FacultySalaries\",\"1029_LEV\",\"210_cloud\",\"594_fri_c2_100_5\",\"192_vineyard\",\"609_fri_c0_1000_5\",\"611_fri_c3_100_5\",\"649_fri_c0_500_5\",\"617_fri_c3_500_5\",\"656_fri_c1_100_5\",\"612_fri_c1_1000_5\",\"628_fri_c3_1000_5\",\"690_visualizing_galaxy\",\"687_sleuth_ex1605\"],\"z\":[[8.51829343954872,8.042825780371235,1.0,2.5338374510743296,7.438297067795576,7.949355124388388,8.121835817554857,8.03478027176091,7.882964835792219,100,8.443323052288559,8.345516805072899,0.9794057805426715,1.1459270215248076,7.901681759218557,1.1538653825186682,1.0676061728824697,7.773823819465943,7.886874206334349,8.010996743570018,7.9287430215846335,7.967285993428534,7.93097811880722,7.937959903416095,7.986702753012115,7.932116253484673],[1.433653544193633,12.36223023106586,1.0,0.4545401676805583,0.5216366322361199,0.5424015656178485,2.783645128761907,0.6540617866458007,2.0981108647903874,3.086583139067608,0.606807783827422,1.8651051815998578,0.6679420658438566,0.6028703803457127,0.6381365867161422,0.5176388207649838,0.6415415771908,0.7339081353580212,0.7369027126068962,0.8312359583475537,0.8946113231173684,9.186149900152895,9.196147120065003,9.202205054334728,9.20713307900721,9.069778068863757],[2.18557888562584,11.360308965826722,1.0,0.5973595646259524,0.6184918531546469,0.8032679222788106,0.6491127064029558,1.0914841172085945,6.726160793754113,1.4675146386342521,0.9488983423375934,3.2722710055930846,0.5203543718468031,0.492944911002984,0.5238250716571718,0.44399205615286214,0.6044427376915675,0.6358988674318414,1.2159872211451546,1.208099675532773,1.303234613489334,8.721544251752958,8.707855081052422,8.753056442782249,8.734365941049626,8.690323221860249],[1.475335248472503,6.125930119448476,1.0,0.9084709612521702,0.8949035623347722,0.8792759418942704,3.7054856067155457,3.704311607127751,5.532875664355439,3.7054856067155457,3.704311607127751,5.532875664355439,0.8898891253495829,0.8919651684515925,1.6891525456500058,0.8940625205087275,0.8917706334915241,1.2034577876948418,1.0849802107137576,1.0894918161426292,1.4994359716389924,1.5220466306214113,1.4651747375241806,2.7412035454608783,1.8042833355768833,1.879331511176247],[2.6534226394384888,3.747349101943171,1.0,1.2919873273140332,1.2675942189554272,3.5177686018390455,2.2753972636168065,1.9963611341135417,2.047578224465291,3.648673702657653,2.397895115027766,1.8384679267250073,1.3391391827335757,1.334517080592869,4.674460533159123,1.2894509514093278,1.2617935759891095,3.4074176380725767,1.2672737930634181,1.2832895443242573,4.496341408069116,2.18837370116719,2.2855507544131433,4.382833571995429,2.484881796387175,2.4321981499728365],[1.359967523816506,9.387402632989186,1.0,0.5435747388324036,0.415878799717786,0.5671631534058758,0.44123202749118356,0.5955535263484569,5.015236473209558,100,0.4689655452472229,4.483922473726057,0.6169001027008487,0.5558739501164145,0.5476850925177555,0.6383552366713602,0.6684850535904001,0.623043689727239,0.7167629555893352,0.6862978630051397,0.6795188315536393,6.697166949976173,6.6454970303955845,6.6920672100627145,6.96633330501577,6.732664980898159],[0.9632615436547791,2.0396410702159637,1.0,2.111973712203333,1.9740732972780364,1.8869305756518413,1.9667865787442806,1.891793870958358,1.993798543857763,100,2.65148767820543,1.9224107271504414,1.9500587219924168,1.8722278050153784,1.9317245767316111,1.9380670395275092,1.868960629430198,1.928392387952707,1.9868006747644622,2.0000864751333154,2.0094612703931665,1.9841307087230038,1.9994730849253592,2.0165673532657764,1.9854303021279676,2.000471525774315],[1.6214926017005913,14.151425822278187,1.0,0.4953488576127243,0.49298027989468757,0.5019816886424718,3.30879413420961,0.6298334029270686,2.209631387451198,5.706545715933124,0.7641244852622452,1.0713638477226195,0.5912582010669463,0.5338309863260973,0.6272360714841133,0.6336910334764959,0.5092936225532445,0.7299636973808197,0.8369750485788209,0.7268486491137797,0.7759099899859848,11.242920242705795,11.15559678463202,11.182033482341383,11.23770732898105,11.21163556629768],[3.049861964147467,5.846676753121158,1.0,0.7313119145428679,0.9304108078139006,7.441462685413223,1.9505837544478755,2.381393470738119,55.7974204237811,100,92.48134770452366,41.547356092624725,0.7061633324234161,0.7051096104555351,1.770069420927924,0.7241760238772799,0.6922312181208528,1.3489356707849183,0.9924739500954933,0.9393315446572157,3.7711712281955925,4.371714296159788,4.0502186707587855,4.4225267270710455,4.13684273683267,3.8800425490795756],[0.9617399116751599,11.729264139197348,1.0,1.0038232280094792,0.9228324141166228,1.040879184488609,0.7826794635080369,0.764922597517248,1.1804592740873587,100,0.9574747190101462,23.939625549207847,0.9948921761860049,0.982190667006892,1.0021970833122398,0.9976108543555793,0.9593093477679325,0.9594527178955294,1.0513674615729853,1.0689950842612501,1.0805220203950143,5.925022925163016,6.1553012806065786,6.0101981444674175,5.756050609780718,5.718386834760641],[1.225195570879133,10.103858678954289,1.0,0.510921576169674,0.5289056769568409,3.71793729253338,0.6417268088872669,0.8145525192139849,10.996260147517466,1.67008434648423,0.4318582770445361,0.4472354407208667,0.4735865558193819,0.6516693400904505,5.146008469599431,0.4824013748773349,0.41075378615863734,3.263402427902171,0.5835514345589908,0.6162778573700642,2.179588010620142,0.9484828045329229,0.8282452055618605,1.2978470291862123,0.736680136751411,0.709330126479537],[0.9689137568476037,7.616059478343154,1.0,6.228751800471887,6.205550502166244,5.580428301888271,13.418442278122512,6.429835001392634,34.35816508494862,100,100,7.7794484965446005,6.704902786520945,6.431356605249945,6.5557769264321,6.634880219414866,6.403534696730304,6.553620373578746,34.84411591859732,31.840071546083678,28.011272398767023,29.010808238392123,31.832678924952862,32.74351061424677,28.54085649137744,32.1796304184621],[1.5507446290273814,20.62651921215656,1.0,0.8898023136630966,0.8319019984732717,0.8576284401218152,0.9490927182766654,1.0457141723702332,3.1437511371692417,16.159086540913563,1.0149677593040676,1.5991935302068137,1.111672365444467,0.8975909567343465,0.9208144561844436,0.9982170964824889,0.9649584859067921,1.0728515023856984,1.1711973083860967,1.1896257769161613,1.342563634528875,32.025702336493225,31.691149921677205,32.40647778625648,32.22411778297795,31.74707870256542],[2.2276342182782574,9.727828480618054,1.0,0.3917101922873463,0.5092533679363583,0.8225478376805384,0.4439589590250418,0.49419893922385427,3.8765814006816113,100,0.5296167256862179,2.5106748446142055,0.4636054450589401,0.5129037064663684,0.5239089726920378,0.4014560804406645,0.6595783420960432,0.5891418998214323,0.851651490802733,0.8134644138531933,0.9936581591135577,7.1354925436965955,7.057688190376967,7.071241144147877,7.171830764435883,7.29871553150998],[11.379007704796017,10.816790198644945,1.0,1.4272132522572805,9.772919569714954,10.580229689712121,10.788116848736976,10.779648303657972,10.580175082712735,100,11.402503694629038,11.107588770012697,0.8660799161209318,0.8432150583754406,10.583062020964986,0.8481762413897853,0.741335643028366,10.452261501648003,10.50774498556389,10.564944672239696,10.626606341436986,10.679190229849109,10.621293309432813,10.638480772080277,10.588668580659009,10.625749023601168],[0.9782478845856866,7.643301348594659,1.0,0.6701849663745482,0.6937015050667125,0.782636022009033,2.1918901987737116,2.0337771937427744,1.942294760519441,3.308136173755845,5.041321670552906,4.2928278822358905,0.7051437053648079,0.7605734077739351,0.6866558750458478,0.7809157200581489,0.6506562710402861,0.6393523995526994,1.3514859804164159,1.4245931092683894,1.4003055268546258,4.693564673107188,4.703760713480721,4.705181233933446,4.70608540658409,4.726585911482366],[100,100,1.0,0.5232614472239704,2.121116928930294,5.054216277526913,100,100,100,100,100,100,0.17223836890454636,0.7944521627381955,100,0.17631826128354555,0.6699578554707201,100,100,100,100,100,100,100,100,100],[1.0001934148512426,3.173305630143056,1.0,7.8786246210413555,7.63112398441591,7.855609373778838,7.784567396750697,8.40585025555922,7.702783724980177,7.879675947344703,8.058416209967548,8.3561044450364,7.9190259373426946,7.680840295793587,7.810215404198833,8.017876159388084,7.754496710115264,7.844274982070029,7.7022200412348445,7.752539562130876,7.9160045416234635,9.557388236425385,8.941528918117545,9.523142632607158,28.148367837790524,28.44578260428765],[2.474942065868366,4.611470677146672,1.0,0.7407740162227858,1.1701878262181435,6.4447174773411335,3.1460136058666035,3.0895520957803537,12.36285133610927,3.1460136058666035,3.0895520957803537,12.36285133610927,1.4453965561414297,0.5647314529966513,8.637380881253115,0.5483557801073924,0.5490289048209809,7.409093207186533,3.787536673453411,2.9485528591466075,4.630257432487079,3.253269323511836,3.150939853976603,5.0033603183008255,2.8728139799529373,2.9203678117361958],[0.6914350183467063,8.880469132924611,1.0,0.5211572834005426,0.489113800976128,0.5446314359790273,0.8296945386612761,1.0429226280463735,1.602015938846279,1.9262962157396484,0.7912823618200517,1.10611518242578,0.7833059364041438,0.6109212068396175,0.616283654544057,0.5836830776452966,0.8084100102300151,0.7408692291878992,1.0199262085966558,0.9622922275712331,0.9569091453579949,5.102199876302135,5.188981745245475,5.1662795002963655,5.107931630477142,5.173538822965636],[0.9334271931576287,1.563272287142659,1.0,1.065518438785999,1.0919231064649644,1.0813773669974145,1.1944044154508124,1.19130508000321,9.622615438325452,1.1944044154508124,1.19130508000321,9.622615438325452,0.8929029769382999,0.9038302194647824,1.1676056261769499,0.8978655888457321,0.9099585269457358,1.136759188325249,1.3220220073743134,1.2409126069334686,1.350016747124429,1.1798893214955704,1.1646135312175947,1.3188625944966903,1.1493155987655999,1.1260957403324028],[2.907709431457043,9.021235158107833,1.0,0.5053549092065546,0.5240709151097198,0.8165440743354007,4.539244502941337,4.7107206540378606,100,4.539244502941337,4.7107206540378606,100,1.929884073005424,0.7447631046645558,72.00740337142325,1.67377612212293,0.65148315525899,34.4410573338608,6.881410695074804,6.838619496130772,14.085004682763794,6.4162821010983135,6.354010456944016,12.465079725596299,7.642891184009281,7.131959423540104],[0.9532768640878533,3.8434439404006953,1.0,1.9068219391100494,1.956229623692634,1.9914990728800246,2.009304676009502,1.9918027036883197,2.0111078300448786,2.0654742345444537,1.9028349036565166,1.9865235955233467,1.8761318617547311,1.8653914340013515,1.8981653833866166,1.8670166791991605,1.8591344859988834,1.8895699490863196,1.9753559765771451,2.0141905813513388,2.0704892586353325,2.4479243397659376,2.4249531220402805,2.4229593161020206,2.272214288267819,2.241791650591839],[1.3168522037889572,6.43613679019756,1.0,0.8689302441735358,0.9052781662133829,2.083318017461177,1.1048114162656513,1.3561906702728093,1.3762084146037357,100,4.471915303711776,2.5041066249217394,1.1890451569053535,1.1423670888871813,1.160041138686848,1.191611755573784,1.0376926841940526,1.1195671531626503,1.7285309913820448,1.632372082289754,1.5939959009219293,4.313181648746538,4.647407165831104,4.328552235566671,4.1966443841602,4.397663669307905],[1.2606688892705031,4.425402365254391,1.0,0.743358546690761,0.6647547143904138,0.7362721446683244,0.9884228883070106,1.0061681659037653,2.945430435002307,1.3367210740770514,1.188646960316638,2.681065594233504,0.565150396838008,0.6960648336423974,0.6860535747930389,0.675832058070031,0.6844716652203209,0.7484053599394445,1.3816890154109305,1.1695531793639111,1.4061038500556766,3.137467940654125,3.1830500996742455,3.1790472092768582,3.2200374062559582,3.186362884775175],[0.8652911598409859,2.192718385960832,1.0,0.6283210228873979,0.582536684141762,0.7261795054620238,0.5918019079786544,0.630560890212185,20.026620279033512,6.017027692129275,0.7070032824254817,100,0.676407781221739,0.5475582668396319,4.553611854490784,0.5228918241013051,0.642625658115367,0.5709585082288038,1.0610818540221558,0.7541640119749057,2.0127852638639867,1.5982648978188003,1.6949677701615578,2.244374122573672,2.187612388134797,2.178068133715379],[0.6406531732120341,18.478417816697853,1.0,1.3115831581998505,1.2602701598671726,1.8142944204720284,1.0917858367107842,1.4903870114333548,4.760350863704179,1.34107922746596,1.232517001357233,1.53675726090866,1.1612786753992155,1.0685880688589682,1.1025655186747592,1.191047069681918,1.025457521606949,1.1244303766377481,1.6218987214504497,1.6427229457584795,1.695890248345603,21.30162170910782,21.423512516886515,21.294618190110462,21.29511487293476,21.450403424588604],[0.717639031323795,4.7560534971490815,1.0,0.2972199944613443,0.2904371784145532,0.27791545996017836,0.4465622052319141,0.471224713539876,2.373182247128125,0.5748658638036946,0.6947379900421752,37.009291834855006,0.30925140887149766,0.36158008741388553,0.3484464388568768,0.438615821663066,0.36771319366916494,0.3988110810755643,0.6282739326613361,0.5379323924189564,0.5115576727649943,3.4585402756987964,3.5414157438462297,3.5796587847729144,3.2033287320837576,3.254240771865609],[0.6682849008970791,13.766790200121017,1.0,0.5398078766348272,0.7088554612790278,0.9199635385258165,0.7033061951665744,0.8770933072643219,2.3192050322946933,0.6720819044633353,1.2320335153130124,0.9866611364111485,0.6420349752341058,0.595499875586159,0.6181775974354407,0.570766381222912,0.6730145031287597,0.6362164531403653,0.7853263277511316,0.76671303676367,0.7645855513368717,8.11675995669184,8.178000996531049,8.14732890018341,8.181775535209754,8.170550905375041],[1.7681148904534385,11.893837961905607,1.0,0.42893077398691737,0.44879916905810346,0.5128121851301413,0.5476696333412195,0.712442068761818,3.223855203481581,100,0.48412167998974204,1.037662576696949,0.5056742026389928,0.40539004660017736,0.4775910876318896,0.469317954726086,0.4409959501631712,0.4965429666338895,0.6328900435420618,0.645515410660745,0.6894924947119526,9.537314591473345,9.398078953277729,9.340266135227475,9.249062152143356,9.240892476223319],[1.0837202717514827,6.131960872905387,1.0,1.7144324893742067,1.090140035589867,1.1446806316735265,0.7326444288383136,0.7914650859756319,2.21019188572762,1.851335975978249,1.2424333637861305,1.7027766727603568,0.6257210370180859,0.5918142688593524,0.5895180145687059,0.6293022053192682,0.8617401848954703,0.7413549090634273,1.2673811212106534,1.0103811790684047,1.1525459813874321,4.75930341648573,4.835686130644723,4.850159499005148,4.779478999562273,4.845005172673589],[1.5159120472691572,17.15389597426528,1.0,0.798894526555966,0.8033955572120697,0.7893442047048844,6.945320164299207,0.9225341434786462,2.239816502430145,7.455455181312955,0.9704734379383866,1.9864484773274622,1.07689762964747,0.9037336644549382,0.919164551505581,1.0503559126095434,1.045021301024617,1.1428918113684914,1.3403981950649149,1.1963304318038626,1.4214990702352446,27.304112559550436,27.769498930578095,27.932142232370005,27.245961237394337,27.756489994085495],[1.383150817580211,15.610303219799826,1.0,0.8720106535558829,0.8997075420088985,0.8582872454062812,0.939468677255685,0.9280461969732067,3.976543529445387,100,1.2349787310882203,2.0857475629627085,0.8419452810612671,0.6736402974222218,0.7225228421990532,0.843393577992297,0.7530954632588968,0.7766660925890646,1.0298455046485517,0.9517969646711546,1.0345780890104475,24.187941466489107,23.701723012636936,24.51516665803412,24.246995119151364,23.854941788049327],[24.141598607846937,65.05452963041624,1.0,3.756560816435219,77.88841276019907,100,33.44289971928414,33.452489799915554,100,33.44289971928414,33.452489799915554,100,1.3566987059197777,1.5164734327195408,100,1.4451573839638252,2.141844081640508,100,86.54771395879273,87.69723391986965,100,100,100,100,100,100],[2.2868321381750074,3.3455392155528116,1.0,1.1010394633304832,29.706275710811582,1.5083711298657108,2.5680714736423838,2.540208847292113,100,2.5680714736423838,2.540208847292113,100,1.0386299284726193,1.0329561295224332,55.001537606933134,1.0291032549733024,1.0023651924220978,43.50064040387374,2.9253395251397376,2.9397767397545755,14.25226819057709,2.746339097461439,2.877427422557445,18.543664840001096,4.175082156884499,4.502961837862963]],\"type\":\"heatmap\"},{\"marker\":{\"color\":\"red\",\"line\":{\"color\":\"red\",\"width\":1},\"size\":4},\"mode\":\"markers\",\"x\":[13],\"y\":[\"556_analcatdata_apnea2\"],\"type\":\"scatter\"},{\"marker\":{\"color\":\"red\",\"line\":{\"color\":\"red\",\"width\":1},\"size\":4},\"mode\":\"markers\",\"x\":[4],\"y\":[\"631_fri_c1_500_5\"],\"type\":\"scatter\"},{\"marker\":{\"color\":\"red\",\"line\":{\"color\":\"red\",\"width\":1},\"size\":4},\"mode\":\"markers\",\"x\":[16],\"y\":[\"601_fri_c1_250_5\"],\"type\":\"scatter\"},{\"marker\":{\"color\":\"red\",\"line\":{\"color\":\"red\",\"width\":1},\"size\":4},\"mode\":\"markers\",\"x\":[6],\"y\":[\"519_vinnie\"],\"type\":\"scatter\"},{\"marker\":{\"color\":\"red\",\"line\":{\"color\":\"red\",\"width\":1},\"size\":4},\"mode\":\"markers\",\"x\":[3],\"y\":[\"485_analcatdata_vehicle\"],\"type\":\"scatter\"},{\"marker\":{\"color\":\"red\",\"line\":{\"color\":\"red\",\"width\":1},\"size\":4},\"mode\":\"markers\",\"x\":[5],\"y\":[\"613_fri_c3_250_5\"],\"type\":\"scatter\"},{\"marker\":{\"color\":\"red\",\"line\":{\"color\":\"red\",\"width\":1},\"size\":4},\"mode\":\"markers\",\"x\":[1],\"y\":[\"1030_ERA\"],\"type\":\"scatter\"},{\"marker\":{\"color\":\"red\",\"line\":{\"color\":\"red\",\"width\":1},\"size\":4},\"mode\":\"markers\",\"x\":[5],\"y\":[\"597_fri_c2_500_5\"],\"type\":\"scatter\"},{\"marker\":{\"color\":\"red\",\"line\":{\"color\":\"red\",\"width\":1},\"size\":4},\"mode\":\"markers\",\"x\":[17],\"y\":[\"712_chscase_geyser1\"],\"type\":\"scatter\"},{\"marker\":{\"color\":\"red\",\"line\":{\"color\":\"red\",\"width\":1},\"size\":4},\"mode\":\"markers\",\"x\":[8],\"y\":[\"1027_ESL\"],\"type\":\"scatter\"},{\"marker\":{\"color\":\"red\",\"line\":{\"color\":\"red\",\"width\":1},\"size\":4},\"mode\":\"markers\",\"x\":[17],\"y\":[\"523_analcatdata_neavote\"],\"type\":\"scatter\"},{\"marker\":{\"color\":\"red\",\"line\":{\"color\":\"red\",\"width\":1},\"size\":4},\"mode\":\"markers\",\"x\":[1],\"y\":[\"529_pollen\"],\"type\":\"scatter\"},{\"marker\":{\"color\":\"red\",\"line\":{\"color\":\"red\",\"width\":1},\"size\":4},\"mode\":\"markers\",\"x\":[5],\"y\":[\"599_fri_c2_1000_5\"],\"type\":\"scatter\"},{\"marker\":{\"color\":\"red\",\"line\":{\"color\":\"red\",\"width\":1},\"size\":4},\"mode\":\"markers\",\"x\":[4],\"y\":[\"596_fri_c2_250_5\"],\"type\":\"scatter\"},{\"marker\":{\"color\":\"red\",\"line\":{\"color\":\"red\",\"width\":1},\"size\":4},\"mode\":\"markers\",\"x\":[17],\"y\":[\"557_analcatdata_apnea1\"],\"type\":\"scatter\"},{\"marker\":{\"color\":\"red\",\"line\":{\"color\":\"red\",\"width\":1},\"size\":4},\"mode\":\"markers\",\"x\":[18],\"y\":[\"624_fri_c0_100_5\"],\"type\":\"scatter\"},{\"marker\":{\"color\":\"red\",\"line\":{\"color\":\"red\",\"width\":1},\"size\":4},\"mode\":\"markers\",\"x\":[13],\"y\":[\"663_rabe_266\"],\"type\":\"scatter\"},{\"marker\":{\"color\":\"red\",\"line\":{\"color\":\"red\",\"width\":1},\"size\":4},\"mode\":\"markers\",\"x\":[3],\"y\":[\"banana\"],\"type\":\"scatter\"},{\"marker\":{\"color\":\"red\",\"line\":{\"color\":\"red\",\"width\":1},\"size\":4},\"mode\":\"markers\",\"x\":[16],\"y\":[\"228_elusage\"],\"type\":\"scatter\"},{\"marker\":{\"color\":\"red\",\"line\":{\"color\":\"red\",\"width\":1},\"size\":4},\"mode\":\"markers\",\"x\":[5],\"y\":[\"579_fri_c0_250_5\"],\"type\":\"scatter\"},{\"marker\":{\"color\":\"red\",\"line\":{\"color\":\"red\",\"width\":1},\"size\":4},\"mode\":\"markers\",\"x\":[13],\"y\":[\"678_visualizing_environmental\"],\"type\":\"scatter\"},{\"marker\":{\"color\":\"red\",\"line\":{\"color\":\"red\",\"width\":1},\"size\":4},\"mode\":\"markers\",\"x\":[4],\"y\":[\"1096_FacultySalaries\"],\"type\":\"scatter\"},{\"marker\":{\"color\":\"red\",\"line\":{\"color\":\"red\",\"width\":1},\"size\":4},\"mode\":\"markers\",\"x\":[1],\"y\":[\"1029_LEV\"],\"type\":\"scatter\"},{\"marker\":{\"color\":\"red\",\"line\":{\"color\":\"red\",\"width\":1},\"size\":4},\"mode\":\"markers\",\"x\":[4],\"y\":[\"210_cloud\"],\"type\":\"scatter\"},{\"marker\":{\"color\":\"red\",\"line\":{\"color\":\"red\",\"width\":1},\"size\":4},\"mode\":\"markers\",\"x\":[13],\"y\":[\"594_fri_c2_100_5\"],\"type\":\"scatter\"},{\"marker\":{\"color\":\"red\",\"line\":{\"color\":\"red\",\"width\":1},\"size\":4},\"mode\":\"markers\",\"x\":[16],\"y\":[\"192_vineyard\"],\"type\":\"scatter\"},{\"marker\":{\"color\":\"red\",\"line\":{\"color\":\"red\",\"width\":1},\"size\":4},\"mode\":\"markers\",\"x\":[1],\"y\":[\"609_fri_c0_1000_5\"],\"type\":\"scatter\"},{\"marker\":{\"color\":\"red\",\"line\":{\"color\":\"red\",\"width\":1},\"size\":4},\"mode\":\"markers\",\"x\":[6],\"y\":[\"611_fri_c3_100_5\"],\"type\":\"scatter\"},{\"marker\":{\"color\":\"red\",\"line\":{\"color\":\"red\",\"width\":1},\"size\":4},\"mode\":\"markers\",\"x\":[4],\"y\":[\"649_fri_c0_500_5\"],\"type\":\"scatter\"},{\"marker\":{\"color\":\"red\",\"line\":{\"color\":\"red\",\"width\":1},\"size\":4},\"mode\":\"markers\",\"x\":[14],\"y\":[\"617_fri_c3_500_5\"],\"type\":\"scatter\"},{\"marker\":{\"color\":\"red\",\"line\":{\"color\":\"red\",\"width\":1},\"size\":4},\"mode\":\"markers\",\"x\":[15],\"y\":[\"656_fri_c1_100_5\"],\"type\":\"scatter\"},{\"marker\":{\"color\":\"red\",\"line\":{\"color\":\"red\",\"width\":1},\"size\":4},\"mode\":\"markers\",\"x\":[6],\"y\":[\"612_fri_c1_1000_5\"],\"type\":\"scatter\"},{\"marker\":{\"color\":\"red\",\"line\":{\"color\":\"red\",\"width\":1},\"size\":4},\"mode\":\"markers\",\"x\":[14],\"y\":[\"628_fri_c3_1000_5\"],\"type\":\"scatter\"},{\"marker\":{\"color\":\"red\",\"line\":{\"color\":\"red\",\"width\":1},\"size\":4},\"mode\":\"markers\",\"x\":[3],\"y\":[\"690_visualizing_galaxy\"],\"type\":\"scatter\"},{\"marker\":{\"color\":\"red\",\"line\":{\"color\":\"red\",\"width\":1},\"size\":4},\"mode\":\"markers\",\"x\":[3],\"y\":[\"687_sleuth_ex1605\"],\"type\":\"scatter\"}],                        {\"template\":{\"data\":{\"histogram2dcontour\":[{\"type\":\"histogram2dcontour\",\"colorbar\":{\"outlinewidth\":0,\"ticks\":\"\"},\"colorscale\":[[0.0,\"#0d0887\"],[0.1111111111111111,\"#46039f\"],[0.2222222222222222,\"#7201a8\"],[0.3333333333333333,\"#9c179e\"],[0.4444444444444444,\"#bd3786\"],[0.5555555555555556,\"#d8576b\"],[0.6666666666666666,\"#ed7953\"],[0.7777777777777778,\"#fb9f3a\"],[0.8888888888888888,\"#fdca26\"],[1.0,\"#f0f921\"]]}],\"choropleth\":[{\"type\":\"choropleth\",\"colorbar\":{\"outlinewidth\":0,\"ticks\":\"\"}}],\"histogram2d\":[{\"type\":\"histogram2d\",\"colorbar\":{\"outlinewidth\":0,\"ticks\":\"\"},\"colorscale\":[[0.0,\"#0d0887\"],[0.1111111111111111,\"#46039f\"],[0.2222222222222222,\"#7201a8\"],[0.3333333333333333,\"#9c179e\"],[0.4444444444444444,\"#bd3786\"],[0.5555555555555556,\"#d8576b\"],[0.6666666666666666,\"#ed7953\"],[0.7777777777777778,\"#fb9f3a\"],[0.8888888888888888,\"#fdca26\"],[1.0,\"#f0f921\"]]}],\"heatmap\":[{\"type\":\"heatmap\",\"colorbar\":{\"outlinewidth\":0,\"ticks\":\"\"},\"colorscale\":[[0.0,\"#0d0887\"],[0.1111111111111111,\"#46039f\"],[0.2222222222222222,\"#7201a8\"],[0.3333333333333333,\"#9c179e\"],[0.4444444444444444,\"#bd3786\"],[0.5555555555555556,\"#d8576b\"],[0.6666666666666666,\"#ed7953\"],[0.7777777777777778,\"#fb9f3a\"],[0.8888888888888888,\"#fdca26\"],[1.0,\"#f0f921\"]]}],\"heatmapgl\":[{\"type\":\"heatmapgl\",\"colorbar\":{\"outlinewidth\":0,\"ticks\":\"\"},\"colorscale\":[[0.0,\"#0d0887\"],[0.1111111111111111,\"#46039f\"],[0.2222222222222222,\"#7201a8\"],[0.3333333333333333,\"#9c179e\"],[0.4444444444444444,\"#bd3786\"],[0.5555555555555556,\"#d8576b\"],[0.6666666666666666,\"#ed7953\"],[0.7777777777777778,\"#fb9f3a\"],[0.8888888888888888,\"#fdca26\"],[1.0,\"#f0f921\"]]}],\"contourcarpet\":[{\"type\":\"contourcarpet\",\"colorbar\":{\"outlinewidth\":0,\"ticks\":\"\"}}],\"contour\":[{\"type\":\"contour\",\"colorbar\":{\"outlinewidth\":0,\"ticks\":\"\"},\"colorscale\":[[0.0,\"#0d0887\"],[0.1111111111111111,\"#46039f\"],[0.2222222222222222,\"#7201a8\"],[0.3333333333333333,\"#9c179e\"],[0.4444444444444444,\"#bd3786\"],[0.5555555555555556,\"#d8576b\"],[0.6666666666666666,\"#ed7953\"],[0.7777777777777778,\"#fb9f3a\"],[0.8888888888888888,\"#fdca26\"],[1.0,\"#f0f921\"]]}],\"surface\":[{\"type\":\"surface\",\"colorbar\":{\"outlinewidth\":0,\"ticks\":\"\"},\"colorscale\":[[0.0,\"#0d0887\"],[0.1111111111111111,\"#46039f\"],[0.2222222222222222,\"#7201a8\"],[0.3333333333333333,\"#9c179e\"],[0.4444444444444444,\"#bd3786\"],[0.5555555555555556,\"#d8576b\"],[0.6666666666666666,\"#ed7953\"],[0.7777777777777778,\"#fb9f3a\"],[0.8888888888888888,\"#fdca26\"],[1.0,\"#f0f921\"]]}],\"mesh3d\":[{\"type\":\"mesh3d\",\"colorbar\":{\"outlinewidth\":0,\"ticks\":\"\"}}],\"scatter\":[{\"fillpattern\":{\"fillmode\":\"overlay\",\"size\":10,\"solidity\":0.2},\"type\":\"scatter\"}],\"parcoords\":[{\"type\":\"parcoords\",\"line\":{\"colorbar\":{\"outlinewidth\":0,\"ticks\":\"\"}}}],\"scatterpolargl\":[{\"type\":\"scatterpolargl\",\"marker\":{\"colorbar\":{\"outlinewidth\":0,\"ticks\":\"\"}}}],\"bar\":[{\"error_x\":{\"color\":\"#2a3f5f\"},\"error_y\":{\"color\":\"#2a3f5f\"},\"marker\":{\"line\":{\"color\":\"#E5ECF6\",\"width\":0.5},\"pattern\":{\"fillmode\":\"overlay\",\"size\":10,\"solidity\":0.2}},\"type\":\"bar\"}],\"scattergeo\":[{\"type\":\"scattergeo\",\"marker\":{\"colorbar\":{\"outlinewidth\":0,\"ticks\":\"\"}}}],\"scatterpolar\":[{\"type\":\"scatterpolar\",\"marker\":{\"colorbar\":{\"outlinewidth\":0,\"ticks\":\"\"}}}],\"histogram\":[{\"marker\":{\"pattern\":{\"fillmode\":\"overlay\",\"size\":10,\"solidity\":0.2}},\"type\":\"histogram\"}],\"scattergl\":[{\"type\":\"scattergl\",\"marker\":{\"colorbar\":{\"outlinewidth\":0,\"ticks\":\"\"}}}],\"scatter3d\":[{\"type\":\"scatter3d\",\"line\":{\"colorbar\":{\"outlinewidth\":0,\"ticks\":\"\"}},\"marker\":{\"colorbar\":{\"outlinewidth\":0,\"ticks\":\"\"}}}],\"scattermapbox\":[{\"type\":\"scattermapbox\",\"marker\":{\"colorbar\":{\"outlinewidth\":0,\"ticks\":\"\"}}}],\"scatterternary\":[{\"type\":\"scatterternary\",\"marker\":{\"colorbar\":{\"outlinewidth\":0,\"ticks\":\"\"}}}],\"scattercarpet\":[{\"type\":\"scattercarpet\",\"marker\":{\"colorbar\":{\"outlinewidth\":0,\"ticks\":\"\"}}}],\"carpet\":[{\"aaxis\":{\"endlinecolor\":\"#2a3f5f\",\"gridcolor\":\"white\",\"linecolor\":\"white\",\"minorgridcolor\":\"white\",\"startlinecolor\":\"#2a3f5f\"},\"baxis\":{\"endlinecolor\":\"#2a3f5f\",\"gridcolor\":\"white\",\"linecolor\":\"white\",\"minorgridcolor\":\"white\",\"startlinecolor\":\"#2a3f5f\"},\"type\":\"carpet\"}],\"table\":[{\"cells\":{\"fill\":{\"color\":\"#EBF0F8\"},\"line\":{\"color\":\"white\"}},\"header\":{\"fill\":{\"color\":\"#C8D4E3\"},\"line\":{\"color\":\"white\"}},\"type\":\"table\"}],\"barpolar\":[{\"marker\":{\"line\":{\"color\":\"#E5ECF6\",\"width\":0.5},\"pattern\":{\"fillmode\":\"overlay\",\"size\":10,\"solidity\":0.2}},\"type\":\"barpolar\"}],\"pie\":[{\"automargin\":true,\"type\":\"pie\"}]},\"layout\":{\"autotypenumbers\":\"strict\",\"colorway\":[\"#636efa\",\"#EF553B\",\"#00cc96\",\"#ab63fa\",\"#FFA15A\",\"#19d3f3\",\"#FF6692\",\"#B6E880\",\"#FF97FF\",\"#FECB52\"],\"font\":{\"color\":\"#2a3f5f\"},\"hovermode\":\"closest\",\"hoverlabel\":{\"align\":\"left\"},\"paper_bgcolor\":\"white\",\"plot_bgcolor\":\"#E5ECF6\",\"polar\":{\"bgcolor\":\"#E5ECF6\",\"angularaxis\":{\"gridcolor\":\"white\",\"linecolor\":\"white\",\"ticks\":\"\"},\"radialaxis\":{\"gridcolor\":\"white\",\"linecolor\":\"white\",\"ticks\":\"\"}},\"ternary\":{\"bgcolor\":\"#E5ECF6\",\"aaxis\":{\"gridcolor\":\"white\",\"linecolor\":\"white\",\"ticks\":\"\"},\"baxis\":{\"gridcolor\":\"white\",\"linecolor\":\"white\",\"ticks\":\"\"},\"caxis\":{\"gridcolor\":\"white\",\"linecolor\":\"white\",\"ticks\":\"\"}},\"coloraxis\":{\"colorbar\":{\"outlinewidth\":0,\"ticks\":\"\"}},\"colorscale\":{\"sequential\":[[0.0,\"#0d0887\"],[0.1111111111111111,\"#46039f\"],[0.2222222222222222,\"#7201a8\"],[0.3333333333333333,\"#9c179e\"],[0.4444444444444444,\"#bd3786\"],[0.5555555555555556,\"#d8576b\"],[0.6666666666666666,\"#ed7953\"],[0.7777777777777778,\"#fb9f3a\"],[0.8888888888888888,\"#fdca26\"],[1.0,\"#f0f921\"]],\"sequentialminus\":[[0.0,\"#0d0887\"],[0.1111111111111111,\"#46039f\"],[0.2222222222222222,\"#7201a8\"],[0.3333333333333333,\"#9c179e\"],[0.4444444444444444,\"#bd3786\"],[0.5555555555555556,\"#d8576b\"],[0.6666666666666666,\"#ed7953\"],[0.7777777777777778,\"#fb9f3a\"],[0.8888888888888888,\"#fdca26\"],[1.0,\"#f0f921\"]],\"diverging\":[[0,\"#8e0152\"],[0.1,\"#c51b7d\"],[0.2,\"#de77ae\"],[0.3,\"#f1b6da\"],[0.4,\"#fde0ef\"],[0.5,\"#f7f7f7\"],[0.6,\"#e6f5d0\"],[0.7,\"#b8e186\"],[0.8,\"#7fbc41\"],[0.9,\"#4d9221\"],[1,\"#276419\"]]},\"xaxis\":{\"gridcolor\":\"white\",\"linecolor\":\"white\",\"ticks\":\"\",\"title\":{\"standoff\":15},\"zerolinecolor\":\"white\",\"automargin\":true,\"zerolinewidth\":2},\"yaxis\":{\"gridcolor\":\"white\",\"linecolor\":\"white\",\"ticks\":\"\",\"title\":{\"standoff\":15},\"zerolinecolor\":\"white\",\"automargin\":true,\"zerolinewidth\":2},\"scene\":{\"xaxis\":{\"backgroundcolor\":\"#E5ECF6\",\"gridcolor\":\"white\",\"linecolor\":\"white\",\"showbackground\":true,\"ticks\":\"\",\"zerolinecolor\":\"white\",\"gridwidth\":2},\"yaxis\":{\"backgroundcolor\":\"#E5ECF6\",\"gridcolor\":\"white\",\"linecolor\":\"white\",\"showbackground\":true,\"ticks\":\"\",\"zerolinecolor\":\"white\",\"gridwidth\":2},\"zaxis\":{\"backgroundcolor\":\"#E5ECF6\",\"gridcolor\":\"white\",\"linecolor\":\"white\",\"showbackground\":true,\"ticks\":\"\",\"zerolinecolor\":\"white\",\"gridwidth\":2}},\"shapedefaults\":{\"line\":{\"color\":\"#2a3f5f\"}},\"annotationdefaults\":{\"arrowcolor\":\"#2a3f5f\",\"arrowhead\":0,\"arrowwidth\":1},\"geo\":{\"bgcolor\":\"white\",\"landcolor\":\"#E5ECF6\",\"subunitcolor\":\"white\",\"showland\":true,\"showlakes\":true,\"lakecolor\":\"white\"},\"title\":{\"x\":0.05},\"mapbox\":{\"style\":\"light\"}}},\"title\":{\"text\":\"Relative Min Test Loss by Method and Dataset\"},\"xaxis\":{\"title\":{\"text\":\"Method\"}},\"yaxis\":{\"title\":{\"text\":\"Dataset\"}},\"showlegend\":false},                        {\"responsive\": true}                    ).then(function(){\n",
       "                            \n",
       "var gd = document.getElementById('6a08bbaf-ab53-4fe0-a921-65bb24a813f0');\n",
       "var x = new MutationObserver(function (mutations, observer) {{\n",
       "        var display = window.getComputedStyle(gd).display;\n",
       "        if (!display || display === 'none') {{\n",
       "            console.log([gd, 'removed!']);\n",
       "            Plotly.purge(gd);\n",
       "            observer.disconnect();\n",
       "        }}\n",
       "}});\n",
       "\n",
       "// Listen for the removal of the full notebook cells\n",
       "var notebookContainer = gd.closest('#notebook-container');\n",
       "if (notebookContainer) {{\n",
       "    x.observe(notebookContainer, {childList: true});\n",
       "}}\n",
       "\n",
       "// Listen for the clearing of the current output cell\n",
       "var outputEl = gd.closest('.output');\n",
       "if (outputEl) {{\n",
       "    x.observe(outputEl, {childList: true});\n",
       "}}\n",
       "\n",
       "                        })                };                });            </script>        </div>"
      ]
     },
     "metadata": {},
     "output_type": "display_data"
    }
   ],
   "source": [
    "import plotly.graph_objects as go\n",
    "import numpy as np\n",
    "\n",
    "dataset_names = list(relative_min_val_test_loss.keys())\n",
    "methods = list(set([method for dataset in relative_min_val_test_loss.values() for method in dataset.keys()]))\n",
    "\n",
    "# Prepare data for heatmap\n",
    "heatmap_data = []\n",
    "best_methods_indices = []\n",
    "\n",
    "for dataset in dataset_names:\n",
    "    dataset_vals = []\n",
    "    best_loss = float('inf')\n",
    "    best_method_index = -1\n",
    "\n",
    "    for index, method in enumerate(methods):\n",
    "        loss = relative_min_val_test_loss[dataset].get(method, None)\n",
    "        \n",
    "        if loss is not None: ### only used to get a clearer contrast between low value scores..\n",
    "            loss = min(100,loss)\n",
    "        \n",
    "        dataset_vals.append(loss)\n",
    "\n",
    "        if loss is not None and loss < best_loss:\n",
    "            best_loss = loss\n",
    "            best_method_index = index\n",
    "    \n",
    "    heatmap_data.append(dataset_vals)\n",
    "    best_methods_indices.append(best_method_index)\n",
    "\n",
    "# Create the heatmap\n",
    "fig = go.Figure(data=go.Heatmap(\n",
    "    z=heatmap_data,\n",
    "    x=methods,\n",
    "    y=dataset_names,\n",
    "    colorscale='Turbo'\n",
    "))\n",
    "\n",
    "# Overlay with scatter plot to highlight the best methods\n",
    "for i, best_index in enumerate(best_methods_indices):\n",
    "    fig.add_trace(go.Scatter(\n",
    "        x=[methods[best_index]],\n",
    "        y=[dataset_names[i]],\n",
    "        mode='markers',\n",
    "        marker=dict(\n",
    "            color='red',\n",
    "            size=4,\n",
    "            line=dict(\n",
    "                color='red',\n",
    "                width=1\n",
    "                \n",
    "            )\n",
    "        )\n",
    "    ))\n",
    "\n",
    "# Customize layout\n",
    "fig.update_layout(\n",
    "    title='Relative Min Test Loss by Method and Dataset',\n",
    "    xaxis=dict(title='Method'),\n",
    "    yaxis=dict(title='Dataset'),\n",
    "    showlegend=False\n",
    ")\n",
    "\n",
    "# Show the plot\n",
    "fig.show()\n"
   ]
  },
  {
   "cell_type": "code",
   "execution_count": 25,
   "metadata": {},
   "outputs": [
    {
     "data": {
      "application/vnd.plotly.v1+json": {
       "config": {
        "plotlyServerURL": "https://plot.ly"
       },
       "data": [
        {
         "marker": {
          "color": [
           3.3618152719058685,
           3.1741680102490912,
           0.39465830753113496,
           1,
           2.935585731690006,
           3.1372790393550765,
           3.205349977801952,
           3.1709927834377134,
           3.1110775604212084,
           null,
           3.332227585754819,
           3.293627537762715,
           0.38653062773518093,
           0.4522496188691751,
           3.118464349742837,
           0.4553825589835832,
           0.42133964529958784,
           3.0680041516356527,
           3.1126204259828776,
           3.161606416454777,
           3.1291443017478886,
           3.1443556057830224,
           3.130026401434922,
           3.1327818207322076,
           3.1520185912580176,
           3.1304755757404683,
           3.154074482590449,
           27.197222842038872,
           2.200025588723723,
           1,
           1.1476139389351296,
           1.1932973237230762,
           6.124090513202337,
           1.4389526672271176,
           4.615897590518111,
           6.79056188767193,
           1.3349926518570614,
           4.103279125180893,
           1.4694896366414703,
           1.3263302634441712,
           1.4039168198763277,
           1.1388186513997371,
           1.4114078860499353,
           1.6146166775601603,
           1.6212048241350951,
           1.8287403786319045,
           1.968167802820197,
           20.209764842188243,
           20.231758981810977,
           20.245086592219174,
           20.2559283726005,
           19.953743835545495,
           3.658732554143299,
           19.017539248643633,
           1.6740336293538185,
           1,
           1.0353761616622426,
           1.3446975152758982,
           1.0866364997594198,
           1.827181118112752,
           11.259819365185558,
           2.4566688566427546,
           1.5884877359112237,
           5.477891707722261,
           0.8710907176528302,
           0.8252063584378204,
           0.8769007858527794,
           0.7432576331658401,
           1.011857469914373,
           1.0645160889489083,
           2.0356035010614875,
           2.022399484453299,
           2.1816585699190707,
           14.600158377331935,
           14.577242245221276,
           14.652910844849591,
           14.621622316399685,
           14.547893323348482,
           1.6239762319304167,
           6.743121553390039,
           1.1007506487842746,
           1,
           0.9850656768393591,
           0.9678635635005223,
           4.078815685652929,
           4.077523404844991,
           6.090316477181974,
           4.078815685652929,
           4.077523404844991,
           6.090316477181974,
           0.979546032074624,
           0.9818312378660652,
           1.859335760519853,
           0.9841398995036855,
           0.9816171033825587,
           1.324706940589585,
           1.1942926708612676,
           1.1992588234641568,
           1.6505051185921003,
           1.6753938161364377,
           1.612792042912071,
           3.017381581115816,
           1.9860660522269094,
           2.0686753802079854,
           2.0537528374638168,
           2.9004534508350734,
           0.7740013999045502,
           1,
           0.9811196999824157,
           2.7227578223636937,
           1.7611606673783908,
           1.5451863125189167,
           1.5848284121502083,
           2.8240785536519417,
           1.8559741758557733,
           1.4229767489647716,
           1.0364956021028229,
           1.0329180885754141,
           3.618038996463731,
           0.9980368414990739,
           0.9766299942061393,
           2.6373460219276303,
           0.9808716898934349,
           0.9932679037898474,
           3.4801745442942926,
           1.693804308217707,
           1.7690194834686737,
           3.392319320273122,
           1.9233019890010068,
           1.8825247729242323,
           2.501896108597156,
           17.269755127240256,
           1.8396734221829292,
           1,
           0.7650811746901484,
           1.0433949793622492,
           0.811722833991418,
           1.095623993910577,
           9.226397245726073,
           null,
           0.8627434495108418,
           8.24895300204256,
           1.1348947230806707,
           1.0226265321130072,
           1.0075617084307136,
           1.1743651628155949,
           1.22979418621679,
           1.146196916849989,
           1.3186097594029833,
           1.2625639382714966,
           1.2500927342820292,
           12.320600041793076,
           12.22554426401434,
           12.311218185814242,
           12.815778231305277,
           12.385904825820083,
           0.45609542301066286,
           0.9657511636771711,
           0.4734907419641801,
           1,
           0.934705430219853,
           0.8934441583002878,
           0.9312552364548208,
           0.8957468836033613,
           0.9440451518583142,
           null,
           1.2554548680623703,
           0.9102436815583616,
           0.9233347511499103,
           0.8864825325226999,
           0.9146537031070924,
           0.9176568005222023,
           0.8849355551307455,
           0.9130759425698043,
           0.940731725629159,
           0.9470224291033952,
           0.9514613078667444,
           0.9394675214271697,
           0.9467319945187165,
           0.9548259723185555,
           0.9400828668727377,
           0.9472047470170958,
           3.2734356338584987,
           28.568604943351083,
           2.0187792595694733,
           1,
           0.9952183644281491,
           1.0133902217150832,
           6.6797249723274925,
           1.2714946108132292,
           4.460758016280198,
           11.520256135110822,
           1.5425986625766204,
           2.1628471152349715,
           1.1936197933643085,
           1.0776869233106403,
           1.2662511719659635,
           1.2792823153574948,
           1.0281514022414937,
           1.4736355725110464,
           1.6896678688480762,
           1.467346977676988,
           1.5663909950764638,
           22.69697420296825,
           22.52068741693503,
           22.574057273962197,
           22.68645048085881,
           22.633817347093203,
           4.170398298589037,
           7.9947784753046545,
           1.3674055900280047,
           1,
           1.2722489396271992,
           10.175497674018848,
           2.667239129649838,
           3.2563307439434954,
           76.29770459662103,
           null,
           126.45951182448923,
           56.812086971939124,
           0.9656116882285832,
           0.9641708229193675,
           2.4204028209144766,
           0.9902423432140461,
           0.9465608372503491,
           1.8445421768194734,
           1.3571144273177524,
           1.2844472050539169,
           5.156720618387429,
           5.977906566574238,
           5.538291651231357,
           6.047387768645203,
           5.656741883411743,
           5.30559187115792,
           0.9580769649873833,
           11.684591282526675,
           0.9961913333913777,
           1,
           0.9193176531156224,
           1.036914822695037,
           0.7796984983701194,
           0.7620092623619034,
           1.1759632982673036,
           null,
           0.9538280170192522,
           23.848447496755657,
           0.9911029635753857,
           0.9784498302101623,
           0.9983800487457699,
           0.9938112872061959,
           0.9556556582877496,
           0.9557984823663287,
           1.0473631534287002,
           1.0649236383790428,
           1.0764066722560546,
           5.902456488192626,
           6.131857790153122,
           5.98730730348338,
           5.734127732025706,
           5.696607405767902,
           2.3980110216998405,
           19.775752581642507,
           1.9572475437363521,
           1,
           1.0351993370919894,
           7.27692363357674,
           1.2560182204443706,
           1.5942809174758297,
           21.5224031640145,
           3.26876848498879,
           0.8452535519876313,
           0.8753504678227612,
           0.9269261231240441,
           1.2754782152203237,
           10.072012437169949,
           0.9441789060737029,
           0.8039468390393998,
           6.387286386234773,
           1.1421546119344095,
           1.2062083225966602,
           4.265993280143475,
           1.8564156394482298,
           1.6210808941973616,
           2.5402079100202357,
           1.4418653881760592,
           1.3883346477502698,
           0.15555504343168713,
           1.2227264341735637,
           0.16054580950299555,
           1,
           0.9962751287820001,
           0.8959143791000793,
           2.1542746778103985,
           1.032283065269275,
           5.516059426600633,
           null,
           null,
           1.2489578563646144,
           1.0764440455008955,
           1.0325273523922898,
           1.0525025135751016,
           1.0652022157813723,
           1.0280606615670858,
           1.0521562880515238,
           5.594076796567419,
           5.111790060999298,
           4.497092402468968,
           4.657563692968835,
           5.110603206655503,
           5.256833417534175,
           4.582114909317016,
           5.166304815039217,
           1.7427968046557984,
           23.18101323792053,
           1.1238451335142596,
           1,
           0.9349290125449735,
           0.9638415487943276,
           1.0666332326890506,
           1.1752207836651785,
           3.533089416487572,
           18.16031077104148,
           1.1406665769677486,
           1.7972458664704167,
           1.2493475779670498,
           1.0087532286123038,
           1.0348528454524664,
           1.1218414260725793,
           1.0844638984296366,
           1.205718939939629,
           1.3162443954147145,
           1.3369551400903483,
           1.5088336070984933,
           35.991929718244165,
           35.615944614947736,
           36.41986235442231,
           36.214917952190085,
           35.67879990317235,
           5.686944741647506,
           24.83424907535218,
           2.5529077866486336,
           1,
           1.3000768883817708,
           2.099888779705643,
           1.1333862834474508,
           1.2616443200980725,
           9.896554843377352,
           null,
           1.3520626629436991,
           6.409521360558454,
           1.1835419506236735,
           1.309395866038937,
           1.3374912958805898,
           1.0248803537544127,
           1.683842685441785,
           1.5040249434951038,
           2.1741877223812143,
           2.076699636287384,
           2.536717651667949,
           18.216254476376307,
           18.017627136951464,
           18.05222657816531,
           18.30902260305459,
           18.632947712925148,
           7.972885402233323,
           7.57895863252188,
           0.7006661397085544,
           1,
           6.847553828594363,
           7.413208693920428,
           7.558868187129352,
           7.552934564339898,
           7.413170432644968,
           null,
           7.989348246728257,
           7.782711344954886,
           0.6068328715075619,
           0.5908122398960434,
           7.415193212525749,
           0.5942883728470919,
           0.5194287832290441,
           7.323545717584045,
           7.362421116076971,
           7.4024989997326465,
           7.445703243457097,
           7.4825469935616855,
           7.441980581832586,
           7.454023254937169,
           7.419121539063606,
           7.4451025498785715,
           1.4596684999928369,
           11.404763956347875,
           1.4921253835484085,
           1,
           1.0350896243157766,
           1.1677910745190292,
           3.270575003541222,
           3.034650575265443,
           2.898147314504135,
           4.936153957095805,
           7.522284031264658,
           6.40543745028853,
           1.0521628218242098,
           1.1348708877914029,
           1.0245766609185536,
           1.165224168310747,
           0.9708607379841642,
           0.9539939444051669,
           2.0165865368891414,
           2.125671539567515,
           2.0894314213429146,
           7.003386988069324,
           7.018600758722356,
           7.020720353347716,
           7.022069492310853,
           7.052658816045129,
           275.03997188115767,
           906.6907870110216,
           1.9110905366815079,
           1,
           4.053646490073627,
           9.65906489832332,
           528.8332748791091,
           500.11822013575807,
           787.3453848279056,
           null,
           494.60986207687176,
           782.8771026950647,
           0.32916311686693706,
           1.5182700100551227,
           532.7785261064938,
           0.3369601605831214,
           1.2803501175655305,
           480.07450533455585,
           523.3568932310937,
           531.8598943765367,
           517.9912039307004,
           546.6432776539979,
           518.2532698987466,
           558.1085629574408,
           557.4426513580171,
           531.5263234470327,
           0.12695025628966217,
           0.40277406054708376,
           0.12692570697292913,
           1,
           0.9685858067200652,
           0.9970787734700481,
           0.9880617203109968,
           1.066918486395431,
           0.9776812699526816,
           1.0001334403343116,
           1.0228201745322432,
           1.0606044642258807,
           1.0051279656341843,
           0.9748960846897631,
           0.9913171117887984,
           1.0176745999517265,
           0.9842449771506331,
           0.9956401477892995,
           0.9776097239947961,
           0.9839965647590638,
           1.004744472846476,
           1.2130782587230484,
           1.1349098793509595,
           1.2087316112477051,
           3.5727514879456232,
           3.6105010674474594,
           3.3410217038768724,
           6.225205766072367,
           1.3499393581581196,
           1,
           1.5796826030493658,
           8.699977774872306,
           4.246927587860275,
           4.170707973173804,
           16.6890995976716,
           4.246927587860275,
           4.170707973173804,
           16.6890995976716,
           1.951197699281518,
           0.7623532151900018,
           11.659940403006045,
           0.7402470498404683,
           0.7411557273842904,
           10.001826528643072,
           5.112944825962038,
           3.98036755417166,
           6.250566746518471,
           4.391716302497068,
           4.253577724072015,
           6.754233016720821,
           3.878124660205341,
           3.942319449360793,
           1.3267300302033667,
           17.03990218649483,
           1.9188065327899033,
           1,
           0.9385147565906949,
           1.0450423573193035,
           1.5920233010033615,
           2.0011667518897958,
           3.07395864909179,
           3.696189762849706,
           1.5183177651417392,
           2.1224210380566824,
           1.5030125479453837,
           1.1722396027037498,
           1.1825291023907725,
           1.1199749024647114,
           1.5511824088021056,
           1.421584716908761,
           1.9570410720189009,
           1.8464526127166303,
           1.8361235193993237,
           9.790134454248372,
           9.956652071304571,
           9.913090855387225,
           9.801132581603722,
           9.927020091148648,
           0.8760310091124571,
           1.4671470997008524,
           0.9385102721820114,
           1,
           1.0247810518502614,
           1.0148837670322104,
           1.1209608130401383,
           1.1180520548856256,
           9.030923434125645,
           1.1209608130401383,
           1.1180520548856256,
           9.030923434125645,
           0.8379986159184921,
           0.8482539452762201,
           1.0958098740245772,
           0.8426560781704701,
           0.8540054247981846,
           1.0668601752405318,
           1.240731233971476,
           1.1646092284872192,
           1.2670045847940217,
           1.1073382482614567,
           1.0930017621698782,
           1.2377660925317626,
           1.0786444954205345,
           1.056852419762367,
           5.753796744593551,
           17.851286281698254,
           1.9788073327912765,
           1,
           1.0370353697217483,
           1.6157834018421562,
           8.98229030775281,
           9.321608572941436,
           565.6546332104881,
           8.98229030775281,
           9.321608572941436,
           565.6546332104881,
           3.8188687551002287,
           1.4737426927026198,
           142.48877780663165,
           3.312080463907801,
           1.2891596448164873,
           68.15221680132852,
           13.616985943362337,
           13.532310405112957,
           27.871510548652463,
           12.696586070910762,
           12.573362484833268,
           24.665991164837827,
           15.123809118643369,
           14.112773604471004,
           0.4999296706921497,
           2.015628130539816,
           0.5244328164520277,
           1,
           1.0259110111800183,
           1.0444074677520732,
           1.0537453103498922,
           1.044566701712029,
           1.0546909434991616,
           1.0832024701312437,
           0.9979090677678097,
           1.0417981641487173,
           0.9839051162954198,
           0.9782724835188155,
           0.9954602181011862,
           0.9791248154353276,
           0.9749911346554873,
           0.9909524902824531,
           1.035941498291698,
           1.0563076394492295,
           1.0858325133397984,
           1.283771855964921,
           1.2717249955557217,
           1.2706793782920613,
           1.1916237387788318,
           1.175669109218518,
           1.5154866718230673,
           7.406966017530156,
           1.1508403657316915,
           1,
           1.0418306558939245,
           2.3975664691504437,
           1.2714615743597104,
           1.5607589669786677,
           1.5837961951855946,
           null,
           5.146460643644809,
           2.881826984056086,
           1.3684011632444535,
           1.3146821583747716,
           1.3350221683101802,
           1.3713549085947165,
           1.1942186281949843,
           1.2884430720068933,
           1.9892632383006759,
           1.8785996841925436,
           1.8344348255918104,
           4.963783546110686,
           5.348423762429151,
           4.981472637868279,
           4.829667757912774,
           5.0610088655512815,
           1.6959095915190234,
           5.953254166451886,
           1.34524585000299,
           1,
           0.8942585208036271,
           0.9904670470878644,
           1.329671788542975,
           1.3535435495871604,
           3.962328069159355,
           1.798218477513693,
           1.5990223904846261,
           3.6066923642284214,
           0.7602662259738732,
           0.9363783287904567,
           0.9229107243700515,
           0.909160271417689,
           0.9207826670822726,
           1.0067892045785316,
           1.8587114139762715,
           1.5733365608971042,
           1.8915553689606253,
           4.220665726682388,
           4.2819849369383824,
           4.27660006524328,
           4.33174195762022,
           4.286441447347359,
           1.3771481906885927,
           3.4898058573376614,
           1.5915431182050566,
           1,
           0.9271322507478139,
           1.1557459944996353,
           0.9418782539840496,
           1.0035648454264572,
           31.873229686001615,
           9.576359015457603,
           1.1252262086926614,
           6819.194202029832,
           1.0765321493038102,
           0.8714625914049042,
           7.247269609991773,
           0.8322048842141212,
           1.022766443755508,
           0.9087050845521778,
           1.6887575226212244,
           1.200284543256577,
           3.203434535127277,
           2.5437074991922195,
           2.6976142901799975,
           3.57201818945964,
           3.4816794416360657,
           3.466489349196442,
           0.48845791378667236,
           14.088636089273594,
           0.7624373595742883,
           1,
           0.9608770530393933,
           1.3832858474350567,
           0.8324183105623755,
           1.1363267377410617,
           3.6294693431697973,
           1.0224889051690729,
           0.9397170081452282,
           1.1716811483138143,
           0.8854022470013048,
           0.8147314656934194,
           0.840637142816039,
           0.9080987829369749,
           0.7818471251295958,
           0.8573077273888072,
           1.2365961786795947,
           1.252473345276192,
           1.2930100830764055,
           16.241152210542506,
           16.33408631618167,
           16.23581246601043,
           16.236191155551534,
           16.354588948846605,
           2.4145045578928217,
           16.001795255290748,
           3.364511199229087,
           1,
           0.9771791394482605,
           0.935049677474923,
           1.502463540655213,
           1.5854408260584312,
           7.984598248274227,
           1.9341426368220336,
           2.337453748026804,
           124.51817685390725,
           1.0404798285255272,
           1.21654025352225,
           1.1723519458654554,
           1.4757278441444535,
           1.2371751582041997,
           1.3418043486553954,
           2.1138346826227665,
           1.809879558721675,
           1.7211415190693917,
           11.636297490573453,
           11.915132931296847,
           12.043802070787255,
           10.777635393908113,
           10.948929521929749,
           1.238005093707006,
           25.503129531831686,
           1.8525109456238753,
           1,
           1.3131625008846601,
           1.7042425246939468,
           1.3028824246711608,
           1.624824952040601,
           4.296352707471892,
           1.2450390843740682,
           2.2823555724928157,
           1.827800554823344,
           1.1893768190945346,
           1.1031700376410156,
           1.1451807655886235,
           1.0573509686095741,
           1.246766733609641,
           1.178597943228526,
           1.4548256180455743,
           1.4203442927572194,
           1.4164031027174202,
           15.036386662773205,
           15.149836359396728,
           15.093015965187497,
           15.15682873361371,
           15.136034983984327,
           4.122145105185125,
           27.72903853773937,
           2.3313785362262225,
           1,
           1.046320749818226,
           1.1955593215276794,
           1.2768252281146042,
           1.660972147415909,
           7.5160268252981774,
           null,
           1.1286708936498644,
           2.419184259156463,
           1.1789179823558569,
           0.9451176534434016,
           1.1134456107979245,
           1.094157806313987,
           1.0281284927731063,
           1.1576296147243434,
           1.4755062633052423,
           1.5049407732177167,
           1.6074680030605184,
           22.23509053179812,
           21.9104795534311,
           21.775695990309988,
           21.563064981729333,
           21.544018374641432,
           0.6321160375040821,
           3.576670945581324,
           0.5832833933081931,
           1,
           0.6358605791399721,
           0.6676732030967004,
           0.42733932854115453,
           0.4616484410328274,
           1.2891682229694406,
           1.0798535302221286,
           0.7246907483884869,
           0.9932013557336956,
           0.36497268973623065,
           0.3451954349484904,
           0.3438560679539436,
           0.367061525734952,
           0.5026387391958597,
           0.4324200070042028,
           0.7392423609944924,
           0.5893385626617522,
           0.672260930967383,
           2.776022646551074,
           2.8205754152558207,
           2.829017490665689,
           2.7877907291099304,
           2.826011057712799,
           1.8975121206603498,
           21.47204093163051,
           1.2517296924175956,
           1,
           1.0056340737187268,
           0.9880455785668566,
           8.69366347299997,
           1.1547633796612558,
           2.80364482165874,
           9.332214620938034,
           1.2147704179700634,
           2.4864965415285054,
           1.3479847387238653,
           1.1312302618356063,
           1.150545561337238,
           1.3147616834197466,
           1.3080841917013795,
           1.4305916155108704,
           1.6778162204257063,
           1.4974823234316583,
           1.7793325939574607,
           34.177368415901476,
           34.75990635496327,
           34.963491805089035,
           34.10457867930535,
           34.743622682888706,
           1.5861627514985073,
           17.90150516641531,
           1.1467749802392924,
           1,
           1.0317620987083969,
           0.9842623388904247,
           1.077359173795322,
           1.0642601591950993,
           4.56020062740042,
           null,
           1.4162427099396402,
           2.391883120300712,
           0.9655217830516,
           0.7725138387647593,
           0.8285711180852564,
           0.9671826537360624,
           0.8636310349970219,
           0.8906612429813529,
           1.181001058242867,
           1.0914969453525816,
           1.1864282675809608,
           27.738126097262207,
           27.180542939453904,
           28.113379759830032,
           27.805847348627022,
           27.356250397599734,
           6.426516110753681,
           17.317576583825847,
           0.26620093454228916,
           1,
           20.733968266780554,
           251.95975438782074,
           8.9025311590775,
           8.905084047503916,
           2530.2548665519926,
           8.9025311590775,
           8.905084047503916,
           2530.2548665519926,
           0.36115446340815915,
           0.40368664499849505,
           1225.923263949849,
           0.3847022461718601,
           0.5701608961765743,
           857.1028298427015,
           23.039082338329347,
           23.34508562624304,
           591.4224210767974,
           29.71404784031524,
           29.765660769853856,
           602.1529276072706,
           35.47682025109272,
           35.832991101984945,
           2.076975634694941,
           3.0385279792179705,
           0.9082326595044526,
           1,
           26.98020979280293,
           1.3699519227976706,
           2.332406384303741,
           2.307100637072856,
           109.88538331090133,
           2.332406384303741,
           2.307100637072856,
           109.88538331090133,
           0.9433176221776064,
           0.9381644926675854,
           49.95419277757905,
           0.9346651861690912,
           0.9103808045082143,
           39.50870232415709,
           2.6568888968711564,
           2.670001246696627,
           12.944375442698542,
           2.494314862388461,
           2.6133735605203907,
           16.841962034593408,
           3.791945970996795,
           4.089737005649337
          ],
          "colorbar": {
           "title": {
            "text": "Test Loss"
           }
          },
          "colorscale": [
           [
            0,
            "#440154"
           ],
           [
            0.1111111111111111,
            "#482878"
           ],
           [
            0.2222222222222222,
            "#3e4989"
           ],
           [
            0.3333333333333333,
            "#31688e"
           ],
           [
            0.4444444444444444,
            "#26828e"
           ],
           [
            0.5555555555555556,
            "#1f9e89"
           ],
           [
            0.6666666666666666,
            "#35b779"
           ],
           [
            0.7777777777777778,
            "#6ece58"
           ],
           [
            0.8888888888888888,
            "#b5de2b"
           ],
           [
            1,
            "#fde725"
           ]
          ],
          "opacity": 0.8,
          "size": 5
         },
         "mode": "markers",
         "type": "scatter3d",
         "x": [
          0,
          1,
          2,
          3,
          4,
          5,
          6,
          7,
          8,
          9,
          10,
          11,
          12,
          13,
          14,
          15,
          16,
          17,
          18,
          19,
          20,
          21,
          22,
          23,
          24,
          25,
          0,
          1,
          2,
          3,
          4,
          5,
          6,
          7,
          8,
          9,
          10,
          11,
          12,
          13,
          14,
          15,
          16,
          17,
          18,
          19,
          20,
          21,
          22,
          23,
          24,
          25,
          0,
          1,
          2,
          3,
          4,
          5,
          6,
          7,
          8,
          9,
          10,
          11,
          12,
          13,
          14,
          15,
          16,
          17,
          18,
          19,
          20,
          21,
          22,
          23,
          24,
          25,
          0,
          1,
          2,
          3,
          4,
          5,
          6,
          7,
          8,
          9,
          10,
          11,
          12,
          13,
          14,
          15,
          16,
          17,
          18,
          19,
          20,
          21,
          22,
          23,
          24,
          25,
          0,
          1,
          2,
          3,
          4,
          5,
          6,
          7,
          8,
          9,
          10,
          11,
          12,
          13,
          14,
          15,
          16,
          17,
          18,
          19,
          20,
          21,
          22,
          23,
          24,
          25,
          0,
          1,
          2,
          3,
          4,
          5,
          6,
          7,
          8,
          9,
          10,
          11,
          12,
          13,
          14,
          15,
          16,
          17,
          18,
          19,
          20,
          21,
          22,
          23,
          24,
          25,
          0,
          1,
          2,
          3,
          4,
          5,
          6,
          7,
          8,
          9,
          10,
          11,
          12,
          13,
          14,
          15,
          16,
          17,
          18,
          19,
          20,
          21,
          22,
          23,
          24,
          25,
          0,
          1,
          2,
          3,
          4,
          5,
          6,
          7,
          8,
          9,
          10,
          11,
          12,
          13,
          14,
          15,
          16,
          17,
          18,
          19,
          20,
          21,
          22,
          23,
          24,
          25,
          0,
          1,
          2,
          3,
          4,
          5,
          6,
          7,
          8,
          9,
          10,
          11,
          12,
          13,
          14,
          15,
          16,
          17,
          18,
          19,
          20,
          21,
          22,
          23,
          24,
          25,
          0,
          1,
          2,
          3,
          4,
          5,
          6,
          7,
          8,
          9,
          10,
          11,
          12,
          13,
          14,
          15,
          16,
          17,
          18,
          19,
          20,
          21,
          22,
          23,
          24,
          25,
          0,
          1,
          2,
          3,
          4,
          5,
          6,
          7,
          8,
          9,
          10,
          11,
          12,
          13,
          14,
          15,
          16,
          17,
          18,
          19,
          20,
          21,
          22,
          23,
          24,
          25,
          0,
          1,
          2,
          3,
          4,
          5,
          6,
          7,
          8,
          9,
          10,
          11,
          12,
          13,
          14,
          15,
          16,
          17,
          18,
          19,
          20,
          21,
          22,
          23,
          24,
          25,
          0,
          1,
          2,
          3,
          4,
          5,
          6,
          7,
          8,
          9,
          10,
          11,
          12,
          13,
          14,
          15,
          16,
          17,
          18,
          19,
          20,
          21,
          22,
          23,
          24,
          25,
          0,
          1,
          2,
          3,
          4,
          5,
          6,
          7,
          8,
          9,
          10,
          11,
          12,
          13,
          14,
          15,
          16,
          17,
          18,
          19,
          20,
          21,
          22,
          23,
          24,
          25,
          0,
          1,
          2,
          3,
          4,
          5,
          6,
          7,
          8,
          9,
          10,
          11,
          12,
          13,
          14,
          15,
          16,
          17,
          18,
          19,
          20,
          21,
          22,
          23,
          24,
          25,
          0,
          1,
          2,
          3,
          4,
          5,
          6,
          7,
          8,
          9,
          10,
          11,
          12,
          13,
          14,
          15,
          16,
          17,
          18,
          19,
          20,
          21,
          22,
          23,
          24,
          25,
          0,
          1,
          2,
          3,
          4,
          5,
          6,
          7,
          8,
          9,
          10,
          11,
          12,
          13,
          14,
          15,
          16,
          17,
          18,
          19,
          20,
          21,
          22,
          23,
          24,
          25,
          0,
          1,
          2,
          3,
          4,
          5,
          6,
          7,
          8,
          9,
          10,
          11,
          12,
          13,
          14,
          15,
          16,
          17,
          18,
          19,
          20,
          21,
          22,
          23,
          24,
          25,
          0,
          1,
          2,
          3,
          4,
          5,
          6,
          7,
          8,
          9,
          10,
          11,
          12,
          13,
          14,
          15,
          16,
          17,
          18,
          19,
          20,
          21,
          22,
          23,
          24,
          25,
          0,
          1,
          2,
          3,
          4,
          5,
          6,
          7,
          8,
          9,
          10,
          11,
          12,
          13,
          14,
          15,
          16,
          17,
          18,
          19,
          20,
          21,
          22,
          23,
          24,
          25,
          0,
          1,
          2,
          3,
          4,
          5,
          6,
          7,
          8,
          9,
          10,
          11,
          12,
          13,
          14,
          15,
          16,
          17,
          18,
          19,
          20,
          21,
          22,
          23,
          24,
          25,
          0,
          1,
          2,
          3,
          4,
          5,
          6,
          7,
          8,
          9,
          10,
          11,
          12,
          13,
          14,
          15,
          16,
          17,
          18,
          19,
          20,
          21,
          22,
          23,
          24,
          25,
          0,
          1,
          2,
          3,
          4,
          5,
          6,
          7,
          8,
          9,
          10,
          11,
          12,
          13,
          14,
          15,
          16,
          17,
          18,
          19,
          20,
          21,
          22,
          23,
          24,
          25,
          0,
          1,
          2,
          3,
          4,
          5,
          6,
          7,
          8,
          9,
          10,
          11,
          12,
          13,
          14,
          15,
          16,
          17,
          18,
          19,
          20,
          21,
          22,
          23,
          24,
          25,
          0,
          1,
          2,
          3,
          4,
          5,
          6,
          7,
          8,
          9,
          10,
          11,
          12,
          13,
          14,
          15,
          16,
          17,
          18,
          19,
          20,
          21,
          22,
          23,
          24,
          25,
          0,
          1,
          2,
          3,
          4,
          5,
          6,
          7,
          8,
          9,
          10,
          11,
          12,
          13,
          14,
          15,
          16,
          17,
          18,
          19,
          20,
          21,
          22,
          23,
          24,
          25,
          0,
          1,
          2,
          3,
          4,
          5,
          6,
          7,
          8,
          9,
          10,
          11,
          12,
          13,
          14,
          15,
          16,
          17,
          18,
          19,
          20,
          21,
          22,
          23,
          24,
          25,
          0,
          1,
          2,
          3,
          4,
          5,
          6,
          7,
          8,
          9,
          10,
          11,
          12,
          13,
          14,
          15,
          16,
          17,
          18,
          19,
          20,
          21,
          22,
          23,
          24,
          25,
          0,
          1,
          2,
          3,
          4,
          5,
          6,
          7,
          8,
          9,
          10,
          11,
          12,
          13,
          14,
          15,
          16,
          17,
          18,
          19,
          20,
          21,
          22,
          23,
          24,
          25,
          0,
          1,
          2,
          3,
          4,
          5,
          6,
          7,
          8,
          9,
          10,
          11,
          12,
          13,
          14,
          15,
          16,
          17,
          18,
          19,
          20,
          21,
          22,
          23,
          24,
          25,
          0,
          1,
          2,
          3,
          4,
          5,
          6,
          7,
          8,
          9,
          10,
          11,
          12,
          13,
          14,
          15,
          16,
          17,
          18,
          19,
          20,
          21,
          22,
          23,
          24,
          25,
          0,
          1,
          2,
          3,
          4,
          5,
          6,
          7,
          8,
          9,
          10,
          11,
          12,
          13,
          14,
          15,
          16,
          17,
          18,
          19,
          20,
          21,
          22,
          23,
          24,
          25,
          0,
          1,
          2,
          3,
          4,
          5,
          6,
          7,
          8,
          9,
          10,
          11,
          12,
          13,
          14,
          15,
          16,
          17,
          18,
          19,
          20,
          21,
          22,
          23,
          24,
          25,
          0,
          1,
          2,
          3,
          4,
          5,
          6,
          7,
          8,
          9,
          10,
          11,
          12,
          13,
          14,
          15,
          16,
          17,
          18,
          19,
          20,
          21,
          22,
          23,
          24,
          25,
          0,
          1,
          2,
          3,
          4,
          5,
          6,
          7,
          8,
          9,
          10,
          11,
          12,
          13,
          14,
          15,
          16,
          17,
          18,
          19,
          20,
          21,
          22,
          23,
          24,
          25
         ],
         "y": [
          0,
          0,
          0,
          0,
          0,
          0,
          0,
          0,
          0,
          0,
          0,
          0,
          0,
          0,
          0,
          0,
          0,
          0,
          0,
          0,
          0,
          0,
          0,
          0,
          0,
          0,
          1,
          1,
          1,
          1,
          1,
          1,
          1,
          1,
          1,
          1,
          1,
          1,
          1,
          1,
          1,
          1,
          1,
          1,
          1,
          1,
          1,
          1,
          1,
          1,
          1,
          1,
          2,
          2,
          2,
          2,
          2,
          2,
          2,
          2,
          2,
          2,
          2,
          2,
          2,
          2,
          2,
          2,
          2,
          2,
          2,
          2,
          2,
          2,
          2,
          2,
          2,
          2,
          3,
          3,
          3,
          3,
          3,
          3,
          3,
          3,
          3,
          3,
          3,
          3,
          3,
          3,
          3,
          3,
          3,
          3,
          3,
          3,
          3,
          3,
          3,
          3,
          3,
          3,
          4,
          4,
          4,
          4,
          4,
          4,
          4,
          4,
          4,
          4,
          4,
          4,
          4,
          4,
          4,
          4,
          4,
          4,
          4,
          4,
          4,
          4,
          4,
          4,
          4,
          4,
          5,
          5,
          5,
          5,
          5,
          5,
          5,
          5,
          5,
          5,
          5,
          5,
          5,
          5,
          5,
          5,
          5,
          5,
          5,
          5,
          5,
          5,
          5,
          5,
          5,
          5,
          6,
          6,
          6,
          6,
          6,
          6,
          6,
          6,
          6,
          6,
          6,
          6,
          6,
          6,
          6,
          6,
          6,
          6,
          6,
          6,
          6,
          6,
          6,
          6,
          6,
          6,
          7,
          7,
          7,
          7,
          7,
          7,
          7,
          7,
          7,
          7,
          7,
          7,
          7,
          7,
          7,
          7,
          7,
          7,
          7,
          7,
          7,
          7,
          7,
          7,
          7,
          7,
          8,
          8,
          8,
          8,
          8,
          8,
          8,
          8,
          8,
          8,
          8,
          8,
          8,
          8,
          8,
          8,
          8,
          8,
          8,
          8,
          8,
          8,
          8,
          8,
          8,
          8,
          9,
          9,
          9,
          9,
          9,
          9,
          9,
          9,
          9,
          9,
          9,
          9,
          9,
          9,
          9,
          9,
          9,
          9,
          9,
          9,
          9,
          9,
          9,
          9,
          9,
          9,
          10,
          10,
          10,
          10,
          10,
          10,
          10,
          10,
          10,
          10,
          10,
          10,
          10,
          10,
          10,
          10,
          10,
          10,
          10,
          10,
          10,
          10,
          10,
          10,
          10,
          10,
          11,
          11,
          11,
          11,
          11,
          11,
          11,
          11,
          11,
          11,
          11,
          11,
          11,
          11,
          11,
          11,
          11,
          11,
          11,
          11,
          11,
          11,
          11,
          11,
          11,
          11,
          12,
          12,
          12,
          12,
          12,
          12,
          12,
          12,
          12,
          12,
          12,
          12,
          12,
          12,
          12,
          12,
          12,
          12,
          12,
          12,
          12,
          12,
          12,
          12,
          12,
          12,
          13,
          13,
          13,
          13,
          13,
          13,
          13,
          13,
          13,
          13,
          13,
          13,
          13,
          13,
          13,
          13,
          13,
          13,
          13,
          13,
          13,
          13,
          13,
          13,
          13,
          13,
          14,
          14,
          14,
          14,
          14,
          14,
          14,
          14,
          14,
          14,
          14,
          14,
          14,
          14,
          14,
          14,
          14,
          14,
          14,
          14,
          14,
          14,
          14,
          14,
          14,
          14,
          15,
          15,
          15,
          15,
          15,
          15,
          15,
          15,
          15,
          15,
          15,
          15,
          15,
          15,
          15,
          15,
          15,
          15,
          15,
          15,
          15,
          15,
          15,
          15,
          15,
          15,
          16,
          16,
          16,
          16,
          16,
          16,
          16,
          16,
          16,
          16,
          16,
          16,
          16,
          16,
          16,
          16,
          16,
          16,
          16,
          16,
          16,
          16,
          16,
          16,
          16,
          16,
          17,
          17,
          17,
          17,
          17,
          17,
          17,
          17,
          17,
          17,
          17,
          17,
          17,
          17,
          17,
          17,
          17,
          17,
          17,
          17,
          17,
          17,
          17,
          17,
          17,
          17,
          18,
          18,
          18,
          18,
          18,
          18,
          18,
          18,
          18,
          18,
          18,
          18,
          18,
          18,
          18,
          18,
          18,
          18,
          18,
          18,
          18,
          18,
          18,
          18,
          18,
          18,
          19,
          19,
          19,
          19,
          19,
          19,
          19,
          19,
          19,
          19,
          19,
          19,
          19,
          19,
          19,
          19,
          19,
          19,
          19,
          19,
          19,
          19,
          19,
          19,
          19,
          19,
          20,
          20,
          20,
          20,
          20,
          20,
          20,
          20,
          20,
          20,
          20,
          20,
          20,
          20,
          20,
          20,
          20,
          20,
          20,
          20,
          20,
          20,
          20,
          20,
          20,
          20,
          21,
          21,
          21,
          21,
          21,
          21,
          21,
          21,
          21,
          21,
          21,
          21,
          21,
          21,
          21,
          21,
          21,
          21,
          21,
          21,
          21,
          21,
          21,
          21,
          21,
          21,
          22,
          22,
          22,
          22,
          22,
          22,
          22,
          22,
          22,
          22,
          22,
          22,
          22,
          22,
          22,
          22,
          22,
          22,
          22,
          22,
          22,
          22,
          22,
          22,
          22,
          22,
          23,
          23,
          23,
          23,
          23,
          23,
          23,
          23,
          23,
          23,
          23,
          23,
          23,
          23,
          23,
          23,
          23,
          23,
          23,
          23,
          23,
          23,
          23,
          23,
          23,
          23,
          24,
          24,
          24,
          24,
          24,
          24,
          24,
          24,
          24,
          24,
          24,
          24,
          24,
          24,
          24,
          24,
          24,
          24,
          24,
          24,
          24,
          24,
          24,
          24,
          24,
          24,
          25,
          25,
          25,
          25,
          25,
          25,
          25,
          25,
          25,
          25,
          25,
          25,
          25,
          25,
          25,
          25,
          25,
          25,
          25,
          25,
          25,
          25,
          25,
          25,
          25,
          25,
          26,
          26,
          26,
          26,
          26,
          26,
          26,
          26,
          26,
          26,
          26,
          26,
          26,
          26,
          26,
          26,
          26,
          26,
          26,
          26,
          26,
          26,
          26,
          26,
          26,
          26,
          27,
          27,
          27,
          27,
          27,
          27,
          27,
          27,
          27,
          27,
          27,
          27,
          27,
          27,
          27,
          27,
          27,
          27,
          27,
          27,
          27,
          27,
          27,
          27,
          27,
          27,
          28,
          28,
          28,
          28,
          28,
          28,
          28,
          28,
          28,
          28,
          28,
          28,
          28,
          28,
          28,
          28,
          28,
          28,
          28,
          28,
          28,
          28,
          28,
          28,
          28,
          28,
          29,
          29,
          29,
          29,
          29,
          29,
          29,
          29,
          29,
          29,
          29,
          29,
          29,
          29,
          29,
          29,
          29,
          29,
          29,
          29,
          29,
          29,
          29,
          29,
          29,
          29,
          30,
          30,
          30,
          30,
          30,
          30,
          30,
          30,
          30,
          30,
          30,
          30,
          30,
          30,
          30,
          30,
          30,
          30,
          30,
          30,
          30,
          30,
          30,
          30,
          30,
          30,
          31,
          31,
          31,
          31,
          31,
          31,
          31,
          31,
          31,
          31,
          31,
          31,
          31,
          31,
          31,
          31,
          31,
          31,
          31,
          31,
          31,
          31,
          31,
          31,
          31,
          31,
          32,
          32,
          32,
          32,
          32,
          32,
          32,
          32,
          32,
          32,
          32,
          32,
          32,
          32,
          32,
          32,
          32,
          32,
          32,
          32,
          32,
          32,
          32,
          32,
          32,
          32,
          33,
          33,
          33,
          33,
          33,
          33,
          33,
          33,
          33,
          33,
          33,
          33,
          33,
          33,
          33,
          33,
          33,
          33,
          33,
          33,
          33,
          33,
          33,
          33,
          33,
          33,
          34,
          34,
          34,
          34,
          34,
          34,
          34,
          34,
          34,
          34,
          34,
          34,
          34,
          34,
          34,
          34,
          34,
          34,
          34,
          34,
          34,
          34,
          34,
          34,
          34,
          34
         ],
         "z": [
          3.3618152719058685,
          3.1741680102490912,
          0.39465830753113496,
          1,
          2.935585731690006,
          3.1372790393550765,
          3.205349977801952,
          3.1709927834377134,
          3.1110775604212084,
          null,
          3.332227585754819,
          3.293627537762715,
          0.38653062773518093,
          0.4522496188691751,
          3.118464349742837,
          0.4553825589835832,
          0.42133964529958784,
          3.0680041516356527,
          3.1126204259828776,
          3.161606416454777,
          3.1291443017478886,
          3.1443556057830224,
          3.130026401434922,
          3.1327818207322076,
          3.1520185912580176,
          3.1304755757404683,
          3.154074482590449,
          27.197222842038872,
          2.200025588723723,
          1,
          1.1476139389351296,
          1.1932973237230762,
          6.124090513202337,
          1.4389526672271176,
          4.615897590518111,
          6.79056188767193,
          1.3349926518570614,
          4.103279125180893,
          1.4694896366414703,
          1.3263302634441712,
          1.4039168198763277,
          1.1388186513997371,
          1.4114078860499353,
          1.6146166775601603,
          1.6212048241350951,
          1.8287403786319045,
          1.968167802820197,
          20.209764842188243,
          20.231758981810977,
          20.245086592219174,
          20.2559283726005,
          19.953743835545495,
          3.658732554143299,
          19.017539248643633,
          1.6740336293538185,
          1,
          1.0353761616622426,
          1.3446975152758982,
          1.0866364997594198,
          1.827181118112752,
          11.259819365185558,
          2.4566688566427546,
          1.5884877359112237,
          5.477891707722261,
          0.8710907176528302,
          0.8252063584378204,
          0.8769007858527794,
          0.7432576331658401,
          1.011857469914373,
          1.0645160889489083,
          2.0356035010614875,
          2.022399484453299,
          2.1816585699190707,
          14.600158377331935,
          14.577242245221276,
          14.652910844849591,
          14.621622316399685,
          14.547893323348482,
          1.6239762319304167,
          6.743121553390039,
          1.1007506487842746,
          1,
          0.9850656768393591,
          0.9678635635005223,
          4.078815685652929,
          4.077523404844991,
          6.090316477181974,
          4.078815685652929,
          4.077523404844991,
          6.090316477181974,
          0.979546032074624,
          0.9818312378660652,
          1.859335760519853,
          0.9841398995036855,
          0.9816171033825587,
          1.324706940589585,
          1.1942926708612676,
          1.1992588234641568,
          1.6505051185921003,
          1.6753938161364377,
          1.612792042912071,
          3.017381581115816,
          1.9860660522269094,
          2.0686753802079854,
          2.0537528374638168,
          2.9004534508350734,
          0.7740013999045502,
          1,
          0.9811196999824157,
          2.7227578223636937,
          1.7611606673783908,
          1.5451863125189167,
          1.5848284121502083,
          2.8240785536519417,
          1.8559741758557733,
          1.4229767489647716,
          1.0364956021028229,
          1.0329180885754141,
          3.618038996463731,
          0.9980368414990739,
          0.9766299942061393,
          2.6373460219276303,
          0.9808716898934349,
          0.9932679037898474,
          3.4801745442942926,
          1.693804308217707,
          1.7690194834686737,
          3.392319320273122,
          1.9233019890010068,
          1.8825247729242323,
          2.501896108597156,
          17.269755127240256,
          1.8396734221829292,
          1,
          0.7650811746901484,
          1.0433949793622492,
          0.811722833991418,
          1.095623993910577,
          9.226397245726073,
          null,
          0.8627434495108418,
          8.24895300204256,
          1.1348947230806707,
          1.0226265321130072,
          1.0075617084307136,
          1.1743651628155949,
          1.22979418621679,
          1.146196916849989,
          1.3186097594029833,
          1.2625639382714966,
          1.2500927342820292,
          12.320600041793076,
          12.22554426401434,
          12.311218185814242,
          12.815778231305277,
          12.385904825820083,
          0.45609542301066286,
          0.9657511636771711,
          0.4734907419641801,
          1,
          0.934705430219853,
          0.8934441583002878,
          0.9312552364548208,
          0.8957468836033613,
          0.9440451518583142,
          null,
          1.2554548680623703,
          0.9102436815583616,
          0.9233347511499103,
          0.8864825325226999,
          0.9146537031070924,
          0.9176568005222023,
          0.8849355551307455,
          0.9130759425698043,
          0.940731725629159,
          0.9470224291033952,
          0.9514613078667444,
          0.9394675214271697,
          0.9467319945187165,
          0.9548259723185555,
          0.9400828668727377,
          0.9472047470170958,
          3.2734356338584987,
          28.568604943351083,
          2.0187792595694733,
          1,
          0.9952183644281491,
          1.0133902217150832,
          6.6797249723274925,
          1.2714946108132292,
          4.460758016280198,
          11.520256135110822,
          1.5425986625766204,
          2.1628471152349715,
          1.1936197933643085,
          1.0776869233106403,
          1.2662511719659635,
          1.2792823153574948,
          1.0281514022414937,
          1.4736355725110464,
          1.6896678688480762,
          1.467346977676988,
          1.5663909950764638,
          22.69697420296825,
          22.52068741693503,
          22.574057273962197,
          22.68645048085881,
          22.633817347093203,
          4.170398298589037,
          7.9947784753046545,
          1.3674055900280047,
          1,
          1.2722489396271992,
          10.175497674018848,
          2.667239129649838,
          3.2563307439434954,
          76.29770459662103,
          null,
          126.45951182448923,
          56.812086971939124,
          0.9656116882285832,
          0.9641708229193675,
          2.4204028209144766,
          0.9902423432140461,
          0.9465608372503491,
          1.8445421768194734,
          1.3571144273177524,
          1.2844472050539169,
          5.156720618387429,
          5.977906566574238,
          5.538291651231357,
          6.047387768645203,
          5.656741883411743,
          5.30559187115792,
          0.9580769649873833,
          11.684591282526675,
          0.9961913333913777,
          1,
          0.9193176531156224,
          1.036914822695037,
          0.7796984983701194,
          0.7620092623619034,
          1.1759632982673036,
          null,
          0.9538280170192522,
          23.848447496755657,
          0.9911029635753857,
          0.9784498302101623,
          0.9983800487457699,
          0.9938112872061959,
          0.9556556582877496,
          0.9557984823663287,
          1.0473631534287002,
          1.0649236383790428,
          1.0764066722560546,
          5.902456488192626,
          6.131857790153122,
          5.98730730348338,
          5.734127732025706,
          5.696607405767902,
          2.3980110216998405,
          19.775752581642507,
          1.9572475437363521,
          1,
          1.0351993370919894,
          7.27692363357674,
          1.2560182204443706,
          1.5942809174758297,
          21.5224031640145,
          3.26876848498879,
          0.8452535519876313,
          0.8753504678227612,
          0.9269261231240441,
          1.2754782152203237,
          10.072012437169949,
          0.9441789060737029,
          0.8039468390393998,
          6.387286386234773,
          1.1421546119344095,
          1.2062083225966602,
          4.265993280143475,
          1.8564156394482298,
          1.6210808941973616,
          2.5402079100202357,
          1.4418653881760592,
          1.3883346477502698,
          0.15555504343168713,
          1.2227264341735637,
          0.16054580950299555,
          1,
          0.9962751287820001,
          0.8959143791000793,
          2.1542746778103985,
          1.032283065269275,
          5.516059426600633,
          null,
          null,
          1.2489578563646144,
          1.0764440455008955,
          1.0325273523922898,
          1.0525025135751016,
          1.0652022157813723,
          1.0280606615670858,
          1.0521562880515238,
          5.594076796567419,
          5.111790060999298,
          4.497092402468968,
          4.657563692968835,
          5.110603206655503,
          5.256833417534175,
          4.582114909317016,
          5.166304815039217,
          1.7427968046557984,
          23.18101323792053,
          1.1238451335142596,
          1,
          0.9349290125449735,
          0.9638415487943276,
          1.0666332326890506,
          1.1752207836651785,
          3.533089416487572,
          18.16031077104148,
          1.1406665769677486,
          1.7972458664704167,
          1.2493475779670498,
          1.0087532286123038,
          1.0348528454524664,
          1.1218414260725793,
          1.0844638984296366,
          1.205718939939629,
          1.3162443954147145,
          1.3369551400903483,
          1.5088336070984933,
          35.991929718244165,
          35.615944614947736,
          36.41986235442231,
          36.214917952190085,
          35.67879990317235,
          5.686944741647506,
          24.83424907535218,
          2.5529077866486336,
          1,
          1.3000768883817708,
          2.099888779705643,
          1.1333862834474508,
          1.2616443200980725,
          9.896554843377352,
          null,
          1.3520626629436991,
          6.409521360558454,
          1.1835419506236735,
          1.309395866038937,
          1.3374912958805898,
          1.0248803537544127,
          1.683842685441785,
          1.5040249434951038,
          2.1741877223812143,
          2.076699636287384,
          2.536717651667949,
          18.216254476376307,
          18.017627136951464,
          18.05222657816531,
          18.30902260305459,
          18.632947712925148,
          7.972885402233323,
          7.57895863252188,
          0.7006661397085544,
          1,
          6.847553828594363,
          7.413208693920428,
          7.558868187129352,
          7.552934564339898,
          7.413170432644968,
          null,
          7.989348246728257,
          7.782711344954886,
          0.6068328715075619,
          0.5908122398960434,
          7.415193212525749,
          0.5942883728470919,
          0.5194287832290441,
          7.323545717584045,
          7.362421116076971,
          7.4024989997326465,
          7.445703243457097,
          7.4825469935616855,
          7.441980581832586,
          7.454023254937169,
          7.419121539063606,
          7.4451025498785715,
          1.4596684999928369,
          11.404763956347875,
          1.4921253835484085,
          1,
          1.0350896243157766,
          1.1677910745190292,
          3.270575003541222,
          3.034650575265443,
          2.898147314504135,
          4.936153957095805,
          7.522284031264658,
          6.40543745028853,
          1.0521628218242098,
          1.1348708877914029,
          1.0245766609185536,
          1.165224168310747,
          0.9708607379841642,
          0.9539939444051669,
          2.0165865368891414,
          2.125671539567515,
          2.0894314213429146,
          7.003386988069324,
          7.018600758722356,
          7.020720353347716,
          7.022069492310853,
          7.052658816045129,
          275.03997188115767,
          906.6907870110216,
          1.9110905366815079,
          1,
          4.053646490073627,
          9.65906489832332,
          528.8332748791091,
          500.11822013575807,
          787.3453848279056,
          null,
          494.60986207687176,
          782.8771026950647,
          0.32916311686693706,
          1.5182700100551227,
          532.7785261064938,
          0.3369601605831214,
          1.2803501175655305,
          480.07450533455585,
          523.3568932310937,
          531.8598943765367,
          517.9912039307004,
          546.6432776539979,
          518.2532698987466,
          558.1085629574408,
          557.4426513580171,
          531.5263234470327,
          0.12695025628966217,
          0.40277406054708376,
          0.12692570697292913,
          1,
          0.9685858067200652,
          0.9970787734700481,
          0.9880617203109968,
          1.066918486395431,
          0.9776812699526816,
          1.0001334403343116,
          1.0228201745322432,
          1.0606044642258807,
          1.0051279656341843,
          0.9748960846897631,
          0.9913171117887984,
          1.0176745999517265,
          0.9842449771506331,
          0.9956401477892995,
          0.9776097239947961,
          0.9839965647590638,
          1.004744472846476,
          1.2130782587230484,
          1.1349098793509595,
          1.2087316112477051,
          3.5727514879456232,
          3.6105010674474594,
          3.3410217038768724,
          6.225205766072367,
          1.3499393581581196,
          1,
          1.5796826030493658,
          8.699977774872306,
          4.246927587860275,
          4.170707973173804,
          16.6890995976716,
          4.246927587860275,
          4.170707973173804,
          16.6890995976716,
          1.951197699281518,
          0.7623532151900018,
          11.659940403006045,
          0.7402470498404683,
          0.7411557273842904,
          10.001826528643072,
          5.112944825962038,
          3.98036755417166,
          6.250566746518471,
          4.391716302497068,
          4.253577724072015,
          6.754233016720821,
          3.878124660205341,
          3.942319449360793,
          1.3267300302033667,
          17.03990218649483,
          1.9188065327899033,
          1,
          0.9385147565906949,
          1.0450423573193035,
          1.5920233010033615,
          2.0011667518897958,
          3.07395864909179,
          3.696189762849706,
          1.5183177651417392,
          2.1224210380566824,
          1.5030125479453837,
          1.1722396027037498,
          1.1825291023907725,
          1.1199749024647114,
          1.5511824088021056,
          1.421584716908761,
          1.9570410720189009,
          1.8464526127166303,
          1.8361235193993237,
          9.790134454248372,
          9.956652071304571,
          9.913090855387225,
          9.801132581603722,
          9.927020091148648,
          0.8760310091124571,
          1.4671470997008524,
          0.9385102721820114,
          1,
          1.0247810518502614,
          1.0148837670322104,
          1.1209608130401383,
          1.1180520548856256,
          9.030923434125645,
          1.1209608130401383,
          1.1180520548856256,
          9.030923434125645,
          0.8379986159184921,
          0.8482539452762201,
          1.0958098740245772,
          0.8426560781704701,
          0.8540054247981846,
          1.0668601752405318,
          1.240731233971476,
          1.1646092284872192,
          1.2670045847940217,
          1.1073382482614567,
          1.0930017621698782,
          1.2377660925317626,
          1.0786444954205345,
          1.056852419762367,
          5.753796744593551,
          17.851286281698254,
          1.9788073327912765,
          1,
          1.0370353697217483,
          1.6157834018421562,
          8.98229030775281,
          9.321608572941436,
          565.6546332104881,
          8.98229030775281,
          9.321608572941436,
          565.6546332104881,
          3.8188687551002287,
          1.4737426927026198,
          142.48877780663165,
          3.312080463907801,
          1.2891596448164873,
          68.15221680132852,
          13.616985943362337,
          13.532310405112957,
          27.871510548652463,
          12.696586070910762,
          12.573362484833268,
          24.665991164837827,
          15.123809118643369,
          14.112773604471004,
          0.4999296706921497,
          2.015628130539816,
          0.5244328164520277,
          1,
          1.0259110111800183,
          1.0444074677520732,
          1.0537453103498922,
          1.044566701712029,
          1.0546909434991616,
          1.0832024701312437,
          0.9979090677678097,
          1.0417981641487173,
          0.9839051162954198,
          0.9782724835188155,
          0.9954602181011862,
          0.9791248154353276,
          0.9749911346554873,
          0.9909524902824531,
          1.035941498291698,
          1.0563076394492295,
          1.0858325133397984,
          1.283771855964921,
          1.2717249955557217,
          1.2706793782920613,
          1.1916237387788318,
          1.175669109218518,
          1.5154866718230673,
          7.406966017530156,
          1.1508403657316915,
          1,
          1.0418306558939245,
          2.3975664691504437,
          1.2714615743597104,
          1.5607589669786677,
          1.5837961951855946,
          null,
          5.146460643644809,
          2.881826984056086,
          1.3684011632444535,
          1.3146821583747716,
          1.3350221683101802,
          1.3713549085947165,
          1.1942186281949843,
          1.2884430720068933,
          1.9892632383006759,
          1.8785996841925436,
          1.8344348255918104,
          4.963783546110686,
          5.348423762429151,
          4.981472637868279,
          4.829667757912774,
          5.0610088655512815,
          1.6959095915190234,
          5.953254166451886,
          1.34524585000299,
          1,
          0.8942585208036271,
          0.9904670470878644,
          1.329671788542975,
          1.3535435495871604,
          3.962328069159355,
          1.798218477513693,
          1.5990223904846261,
          3.6066923642284214,
          0.7602662259738732,
          0.9363783287904567,
          0.9229107243700515,
          0.909160271417689,
          0.9207826670822726,
          1.0067892045785316,
          1.8587114139762715,
          1.5733365608971042,
          1.8915553689606253,
          4.220665726682388,
          4.2819849369383824,
          4.27660006524328,
          4.33174195762022,
          4.286441447347359,
          1.3771481906885927,
          3.4898058573376614,
          1.5915431182050566,
          1,
          0.9271322507478139,
          1.1557459944996353,
          0.9418782539840496,
          1.0035648454264572,
          31.873229686001615,
          9.576359015457603,
          1.1252262086926614,
          6819.194202029832,
          1.0765321493038102,
          0.8714625914049042,
          7.247269609991773,
          0.8322048842141212,
          1.022766443755508,
          0.9087050845521778,
          1.6887575226212244,
          1.200284543256577,
          3.203434535127277,
          2.5437074991922195,
          2.6976142901799975,
          3.57201818945964,
          3.4816794416360657,
          3.466489349196442,
          0.48845791378667236,
          14.088636089273594,
          0.7624373595742883,
          1,
          0.9608770530393933,
          1.3832858474350567,
          0.8324183105623755,
          1.1363267377410617,
          3.6294693431697973,
          1.0224889051690729,
          0.9397170081452282,
          1.1716811483138143,
          0.8854022470013048,
          0.8147314656934194,
          0.840637142816039,
          0.9080987829369749,
          0.7818471251295958,
          0.8573077273888072,
          1.2365961786795947,
          1.252473345276192,
          1.2930100830764055,
          16.241152210542506,
          16.33408631618167,
          16.23581246601043,
          16.236191155551534,
          16.354588948846605,
          2.4145045578928217,
          16.001795255290748,
          3.364511199229087,
          1,
          0.9771791394482605,
          0.935049677474923,
          1.502463540655213,
          1.5854408260584312,
          7.984598248274227,
          1.9341426368220336,
          2.337453748026804,
          124.51817685390725,
          1.0404798285255272,
          1.21654025352225,
          1.1723519458654554,
          1.4757278441444535,
          1.2371751582041997,
          1.3418043486553954,
          2.1138346826227665,
          1.809879558721675,
          1.7211415190693917,
          11.636297490573453,
          11.915132931296847,
          12.043802070787255,
          10.777635393908113,
          10.948929521929749,
          1.238005093707006,
          25.503129531831686,
          1.8525109456238753,
          1,
          1.3131625008846601,
          1.7042425246939468,
          1.3028824246711608,
          1.624824952040601,
          4.296352707471892,
          1.2450390843740682,
          2.2823555724928157,
          1.827800554823344,
          1.1893768190945346,
          1.1031700376410156,
          1.1451807655886235,
          1.0573509686095741,
          1.246766733609641,
          1.178597943228526,
          1.4548256180455743,
          1.4203442927572194,
          1.4164031027174202,
          15.036386662773205,
          15.149836359396728,
          15.093015965187497,
          15.15682873361371,
          15.136034983984327,
          4.122145105185125,
          27.72903853773937,
          2.3313785362262225,
          1,
          1.046320749818226,
          1.1955593215276794,
          1.2768252281146042,
          1.660972147415909,
          7.5160268252981774,
          null,
          1.1286708936498644,
          2.419184259156463,
          1.1789179823558569,
          0.9451176534434016,
          1.1134456107979245,
          1.094157806313987,
          1.0281284927731063,
          1.1576296147243434,
          1.4755062633052423,
          1.5049407732177167,
          1.6074680030605184,
          22.23509053179812,
          21.9104795534311,
          21.775695990309988,
          21.563064981729333,
          21.544018374641432,
          0.6321160375040821,
          3.576670945581324,
          0.5832833933081931,
          1,
          0.6358605791399721,
          0.6676732030967004,
          0.42733932854115453,
          0.4616484410328274,
          1.2891682229694406,
          1.0798535302221286,
          0.7246907483884869,
          0.9932013557336956,
          0.36497268973623065,
          0.3451954349484904,
          0.3438560679539436,
          0.367061525734952,
          0.5026387391958597,
          0.4324200070042028,
          0.7392423609944924,
          0.5893385626617522,
          0.672260930967383,
          2.776022646551074,
          2.8205754152558207,
          2.829017490665689,
          2.7877907291099304,
          2.826011057712799,
          1.8975121206603498,
          21.47204093163051,
          1.2517296924175956,
          1,
          1.0056340737187268,
          0.9880455785668566,
          8.69366347299997,
          1.1547633796612558,
          2.80364482165874,
          9.332214620938034,
          1.2147704179700634,
          2.4864965415285054,
          1.3479847387238653,
          1.1312302618356063,
          1.150545561337238,
          1.3147616834197466,
          1.3080841917013795,
          1.4305916155108704,
          1.6778162204257063,
          1.4974823234316583,
          1.7793325939574607,
          34.177368415901476,
          34.75990635496327,
          34.963491805089035,
          34.10457867930535,
          34.743622682888706,
          1.5861627514985073,
          17.90150516641531,
          1.1467749802392924,
          1,
          1.0317620987083969,
          0.9842623388904247,
          1.077359173795322,
          1.0642601591950993,
          4.56020062740042,
          null,
          1.4162427099396402,
          2.391883120300712,
          0.9655217830516,
          0.7725138387647593,
          0.8285711180852564,
          0.9671826537360624,
          0.8636310349970219,
          0.8906612429813529,
          1.181001058242867,
          1.0914969453525816,
          1.1864282675809608,
          27.738126097262207,
          27.180542939453904,
          28.113379759830032,
          27.805847348627022,
          27.356250397599734,
          6.426516110753681,
          17.317576583825847,
          0.26620093454228916,
          1,
          20.733968266780554,
          251.95975438782074,
          8.9025311590775,
          8.905084047503916,
          2530.2548665519926,
          8.9025311590775,
          8.905084047503916,
          2530.2548665519926,
          0.36115446340815915,
          0.40368664499849505,
          1225.923263949849,
          0.3847022461718601,
          0.5701608961765743,
          857.1028298427015,
          23.039082338329347,
          23.34508562624304,
          591.4224210767974,
          29.71404784031524,
          29.765660769853856,
          602.1529276072706,
          35.47682025109272,
          35.832991101984945,
          2.076975634694941,
          3.0385279792179705,
          0.9082326595044526,
          1,
          26.98020979280293,
          1.3699519227976706,
          2.332406384303741,
          2.307100637072856,
          109.88538331090133,
          2.332406384303741,
          2.307100637072856,
          109.88538331090133,
          0.9433176221776064,
          0.9381644926675854,
          49.95419277757905,
          0.9346651861690912,
          0.9103808045082143,
          39.50870232415709,
          2.6568888968711564,
          2.670001246696627,
          12.944375442698542,
          2.494314862388461,
          2.6133735605203907,
          16.841962034593408,
          3.791945970996795,
          4.089737005649337
         ]
        }
       ],
       "layout": {
        "scene": {
         "xaxis": {
          "ticktext": [
           1,
           2,
           3,
           4,
           5,
           6,
           7,
           8,
           9,
           10,
           11,
           12,
           13,
           14,
           15,
           16,
           17,
           18,
           19,
           20,
           21,
           22,
           23,
           24,
           25,
           26
          ],
          "tickvals": [
           0,
           1,
           2,
           3,
           4,
           5,
           6,
           7,
           8,
           9,
           10,
           11,
           12,
           13,
           14,
           15,
           16,
           17,
           18,
           19,
           20,
           21,
           22,
           23,
           24,
           25
          ],
          "title": {
           "text": "Method"
          }
         },
         "yaxis": {
          "ticktext": [
           "556_analcatdata_apnea2",
           "631_fri_c1_500_5",
           "601_fri_c1_250_5",
           "519_vinnie",
           "485_analcatdata_vehicle",
           "613_fri_c3_250_5",
           "1030_ERA",
           "597_fri_c2_500_5",
           "712_chscase_geyser1",
           "1027_ESL",
           "523_analcatdata_neavote",
           "529_pollen",
           "599_fri_c2_1000_5",
           "596_fri_c2_250_5",
           "557_analcatdata_apnea1",
           "624_fri_c0_100_5",
           "663_rabe_266",
           "banana",
           "228_elusage",
           "579_fri_c0_250_5",
           "678_visualizing_environmental",
           "1096_FacultySalaries",
           "1029_LEV",
           "210_cloud",
           "594_fri_c2_100_5",
           "192_vineyard",
           "609_fri_c0_1000_5",
           "611_fri_c3_100_5",
           "649_fri_c0_500_5",
           "617_fri_c3_500_5",
           "656_fri_c1_100_5",
           "612_fri_c1_1000_5",
           "628_fri_c3_1000_5",
           "690_visualizing_galaxy",
           "687_sleuth_ex1605"
          ],
          "tickvals": [
           0,
           1,
           2,
           3,
           4,
           5,
           6,
           7,
           8,
           9,
           10,
           11,
           12,
           13,
           14,
           15,
           16,
           17,
           18,
           19,
           20,
           21,
           22,
           23,
           24,
           25,
           26,
           27,
           28,
           29,
           30,
           31,
           32,
           33,
           34
          ],
          "title": {
           "text": "Dataset"
          }
         },
         "zaxis": {
          "title": {
           "text": "Relative Min Test Loss"
          }
         }
        },
        "template": {
         "data": {
          "bar": [
           {
            "error_x": {
             "color": "#2a3f5f"
            },
            "error_y": {
             "color": "#2a3f5f"
            },
            "marker": {
             "line": {
              "color": "#E5ECF6",
              "width": 0.5
             },
             "pattern": {
              "fillmode": "overlay",
              "size": 10,
              "solidity": 0.2
             }
            },
            "type": "bar"
           }
          ],
          "barpolar": [
           {
            "marker": {
             "line": {
              "color": "#E5ECF6",
              "width": 0.5
             },
             "pattern": {
              "fillmode": "overlay",
              "size": 10,
              "solidity": 0.2
             }
            },
            "type": "barpolar"
           }
          ],
          "carpet": [
           {
            "aaxis": {
             "endlinecolor": "#2a3f5f",
             "gridcolor": "white",
             "linecolor": "white",
             "minorgridcolor": "white",
             "startlinecolor": "#2a3f5f"
            },
            "baxis": {
             "endlinecolor": "#2a3f5f",
             "gridcolor": "white",
             "linecolor": "white",
             "minorgridcolor": "white",
             "startlinecolor": "#2a3f5f"
            },
            "type": "carpet"
           }
          ],
          "choropleth": [
           {
            "colorbar": {
             "outlinewidth": 0,
             "ticks": ""
            },
            "type": "choropleth"
           }
          ],
          "contour": [
           {
            "colorbar": {
             "outlinewidth": 0,
             "ticks": ""
            },
            "colorscale": [
             [
              0,
              "#0d0887"
             ],
             [
              0.1111111111111111,
              "#46039f"
             ],
             [
              0.2222222222222222,
              "#7201a8"
             ],
             [
              0.3333333333333333,
              "#9c179e"
             ],
             [
              0.4444444444444444,
              "#bd3786"
             ],
             [
              0.5555555555555556,
              "#d8576b"
             ],
             [
              0.6666666666666666,
              "#ed7953"
             ],
             [
              0.7777777777777778,
              "#fb9f3a"
             ],
             [
              0.8888888888888888,
              "#fdca26"
             ],
             [
              1,
              "#f0f921"
             ]
            ],
            "type": "contour"
           }
          ],
          "contourcarpet": [
           {
            "colorbar": {
             "outlinewidth": 0,
             "ticks": ""
            },
            "type": "contourcarpet"
           }
          ],
          "heatmap": [
           {
            "colorbar": {
             "outlinewidth": 0,
             "ticks": ""
            },
            "colorscale": [
             [
              0,
              "#0d0887"
             ],
             [
              0.1111111111111111,
              "#46039f"
             ],
             [
              0.2222222222222222,
              "#7201a8"
             ],
             [
              0.3333333333333333,
              "#9c179e"
             ],
             [
              0.4444444444444444,
              "#bd3786"
             ],
             [
              0.5555555555555556,
              "#d8576b"
             ],
             [
              0.6666666666666666,
              "#ed7953"
             ],
             [
              0.7777777777777778,
              "#fb9f3a"
             ],
             [
              0.8888888888888888,
              "#fdca26"
             ],
             [
              1,
              "#f0f921"
             ]
            ],
            "type": "heatmap"
           }
          ],
          "heatmapgl": [
           {
            "colorbar": {
             "outlinewidth": 0,
             "ticks": ""
            },
            "colorscale": [
             [
              0,
              "#0d0887"
             ],
             [
              0.1111111111111111,
              "#46039f"
             ],
             [
              0.2222222222222222,
              "#7201a8"
             ],
             [
              0.3333333333333333,
              "#9c179e"
             ],
             [
              0.4444444444444444,
              "#bd3786"
             ],
             [
              0.5555555555555556,
              "#d8576b"
             ],
             [
              0.6666666666666666,
              "#ed7953"
             ],
             [
              0.7777777777777778,
              "#fb9f3a"
             ],
             [
              0.8888888888888888,
              "#fdca26"
             ],
             [
              1,
              "#f0f921"
             ]
            ],
            "type": "heatmapgl"
           }
          ],
          "histogram": [
           {
            "marker": {
             "pattern": {
              "fillmode": "overlay",
              "size": 10,
              "solidity": 0.2
             }
            },
            "type": "histogram"
           }
          ],
          "histogram2d": [
           {
            "colorbar": {
             "outlinewidth": 0,
             "ticks": ""
            },
            "colorscale": [
             [
              0,
              "#0d0887"
             ],
             [
              0.1111111111111111,
              "#46039f"
             ],
             [
              0.2222222222222222,
              "#7201a8"
             ],
             [
              0.3333333333333333,
              "#9c179e"
             ],
             [
              0.4444444444444444,
              "#bd3786"
             ],
             [
              0.5555555555555556,
              "#d8576b"
             ],
             [
              0.6666666666666666,
              "#ed7953"
             ],
             [
              0.7777777777777778,
              "#fb9f3a"
             ],
             [
              0.8888888888888888,
              "#fdca26"
             ],
             [
              1,
              "#f0f921"
             ]
            ],
            "type": "histogram2d"
           }
          ],
          "histogram2dcontour": [
           {
            "colorbar": {
             "outlinewidth": 0,
             "ticks": ""
            },
            "colorscale": [
             [
              0,
              "#0d0887"
             ],
             [
              0.1111111111111111,
              "#46039f"
             ],
             [
              0.2222222222222222,
              "#7201a8"
             ],
             [
              0.3333333333333333,
              "#9c179e"
             ],
             [
              0.4444444444444444,
              "#bd3786"
             ],
             [
              0.5555555555555556,
              "#d8576b"
             ],
             [
              0.6666666666666666,
              "#ed7953"
             ],
             [
              0.7777777777777778,
              "#fb9f3a"
             ],
             [
              0.8888888888888888,
              "#fdca26"
             ],
             [
              1,
              "#f0f921"
             ]
            ],
            "type": "histogram2dcontour"
           }
          ],
          "mesh3d": [
           {
            "colorbar": {
             "outlinewidth": 0,
             "ticks": ""
            },
            "type": "mesh3d"
           }
          ],
          "parcoords": [
           {
            "line": {
             "colorbar": {
              "outlinewidth": 0,
              "ticks": ""
             }
            },
            "type": "parcoords"
           }
          ],
          "pie": [
           {
            "automargin": true,
            "type": "pie"
           }
          ],
          "scatter": [
           {
            "fillpattern": {
             "fillmode": "overlay",
             "size": 10,
             "solidity": 0.2
            },
            "type": "scatter"
           }
          ],
          "scatter3d": [
           {
            "line": {
             "colorbar": {
              "outlinewidth": 0,
              "ticks": ""
             }
            },
            "marker": {
             "colorbar": {
              "outlinewidth": 0,
              "ticks": ""
             }
            },
            "type": "scatter3d"
           }
          ],
          "scattercarpet": [
           {
            "marker": {
             "colorbar": {
              "outlinewidth": 0,
              "ticks": ""
             }
            },
            "type": "scattercarpet"
           }
          ],
          "scattergeo": [
           {
            "marker": {
             "colorbar": {
              "outlinewidth": 0,
              "ticks": ""
             }
            },
            "type": "scattergeo"
           }
          ],
          "scattergl": [
           {
            "marker": {
             "colorbar": {
              "outlinewidth": 0,
              "ticks": ""
             }
            },
            "type": "scattergl"
           }
          ],
          "scattermapbox": [
           {
            "marker": {
             "colorbar": {
              "outlinewidth": 0,
              "ticks": ""
             }
            },
            "type": "scattermapbox"
           }
          ],
          "scatterpolar": [
           {
            "marker": {
             "colorbar": {
              "outlinewidth": 0,
              "ticks": ""
             }
            },
            "type": "scatterpolar"
           }
          ],
          "scatterpolargl": [
           {
            "marker": {
             "colorbar": {
              "outlinewidth": 0,
              "ticks": ""
             }
            },
            "type": "scatterpolargl"
           }
          ],
          "scatterternary": [
           {
            "marker": {
             "colorbar": {
              "outlinewidth": 0,
              "ticks": ""
             }
            },
            "type": "scatterternary"
           }
          ],
          "surface": [
           {
            "colorbar": {
             "outlinewidth": 0,
             "ticks": ""
            },
            "colorscale": [
             [
              0,
              "#0d0887"
             ],
             [
              0.1111111111111111,
              "#46039f"
             ],
             [
              0.2222222222222222,
              "#7201a8"
             ],
             [
              0.3333333333333333,
              "#9c179e"
             ],
             [
              0.4444444444444444,
              "#bd3786"
             ],
             [
              0.5555555555555556,
              "#d8576b"
             ],
             [
              0.6666666666666666,
              "#ed7953"
             ],
             [
              0.7777777777777778,
              "#fb9f3a"
             ],
             [
              0.8888888888888888,
              "#fdca26"
             ],
             [
              1,
              "#f0f921"
             ]
            ],
            "type": "surface"
           }
          ],
          "table": [
           {
            "cells": {
             "fill": {
              "color": "#EBF0F8"
             },
             "line": {
              "color": "white"
             }
            },
            "header": {
             "fill": {
              "color": "#C8D4E3"
             },
             "line": {
              "color": "white"
             }
            },
            "type": "table"
           }
          ]
         },
         "layout": {
          "annotationdefaults": {
           "arrowcolor": "#2a3f5f",
           "arrowhead": 0,
           "arrowwidth": 1
          },
          "autotypenumbers": "strict",
          "coloraxis": {
           "colorbar": {
            "outlinewidth": 0,
            "ticks": ""
           }
          },
          "colorscale": {
           "diverging": [
            [
             0,
             "#8e0152"
            ],
            [
             0.1,
             "#c51b7d"
            ],
            [
             0.2,
             "#de77ae"
            ],
            [
             0.3,
             "#f1b6da"
            ],
            [
             0.4,
             "#fde0ef"
            ],
            [
             0.5,
             "#f7f7f7"
            ],
            [
             0.6,
             "#e6f5d0"
            ],
            [
             0.7,
             "#b8e186"
            ],
            [
             0.8,
             "#7fbc41"
            ],
            [
             0.9,
             "#4d9221"
            ],
            [
             1,
             "#276419"
            ]
           ],
           "sequential": [
            [
             0,
             "#0d0887"
            ],
            [
             0.1111111111111111,
             "#46039f"
            ],
            [
             0.2222222222222222,
             "#7201a8"
            ],
            [
             0.3333333333333333,
             "#9c179e"
            ],
            [
             0.4444444444444444,
             "#bd3786"
            ],
            [
             0.5555555555555556,
             "#d8576b"
            ],
            [
             0.6666666666666666,
             "#ed7953"
            ],
            [
             0.7777777777777778,
             "#fb9f3a"
            ],
            [
             0.8888888888888888,
             "#fdca26"
            ],
            [
             1,
             "#f0f921"
            ]
           ],
           "sequentialminus": [
            [
             0,
             "#0d0887"
            ],
            [
             0.1111111111111111,
             "#46039f"
            ],
            [
             0.2222222222222222,
             "#7201a8"
            ],
            [
             0.3333333333333333,
             "#9c179e"
            ],
            [
             0.4444444444444444,
             "#bd3786"
            ],
            [
             0.5555555555555556,
             "#d8576b"
            ],
            [
             0.6666666666666666,
             "#ed7953"
            ],
            [
             0.7777777777777778,
             "#fb9f3a"
            ],
            [
             0.8888888888888888,
             "#fdca26"
            ],
            [
             1,
             "#f0f921"
            ]
           ]
          },
          "colorway": [
           "#636efa",
           "#EF553B",
           "#00cc96",
           "#ab63fa",
           "#FFA15A",
           "#19d3f3",
           "#FF6692",
           "#B6E880",
           "#FF97FF",
           "#FECB52"
          ],
          "font": {
           "color": "#2a3f5f"
          },
          "geo": {
           "bgcolor": "white",
           "lakecolor": "white",
           "landcolor": "#E5ECF6",
           "showlakes": true,
           "showland": true,
           "subunitcolor": "white"
          },
          "hoverlabel": {
           "align": "left"
          },
          "hovermode": "closest",
          "mapbox": {
           "style": "light"
          },
          "paper_bgcolor": "white",
          "plot_bgcolor": "#E5ECF6",
          "polar": {
           "angularaxis": {
            "gridcolor": "white",
            "linecolor": "white",
            "ticks": ""
           },
           "bgcolor": "#E5ECF6",
           "radialaxis": {
            "gridcolor": "white",
            "linecolor": "white",
            "ticks": ""
           }
          },
          "scene": {
           "xaxis": {
            "backgroundcolor": "#E5ECF6",
            "gridcolor": "white",
            "gridwidth": 2,
            "linecolor": "white",
            "showbackground": true,
            "ticks": "",
            "zerolinecolor": "white"
           },
           "yaxis": {
            "backgroundcolor": "#E5ECF6",
            "gridcolor": "white",
            "gridwidth": 2,
            "linecolor": "white",
            "showbackground": true,
            "ticks": "",
            "zerolinecolor": "white"
           },
           "zaxis": {
            "backgroundcolor": "#E5ECF6",
            "gridcolor": "white",
            "gridwidth": 2,
            "linecolor": "white",
            "showbackground": true,
            "ticks": "",
            "zerolinecolor": "white"
           }
          },
          "shapedefaults": {
           "line": {
            "color": "#2a3f5f"
           }
          },
          "ternary": {
           "aaxis": {
            "gridcolor": "white",
            "linecolor": "white",
            "ticks": ""
           },
           "baxis": {
            "gridcolor": "white",
            "linecolor": "white",
            "ticks": ""
           },
           "bgcolor": "#E5ECF6",
           "caxis": {
            "gridcolor": "white",
            "linecolor": "white",
            "ticks": ""
           }
          },
          "title": {
           "x": 0.05
          },
          "xaxis": {
           "automargin": true,
           "gridcolor": "white",
           "linecolor": "white",
           "ticks": "",
           "title": {
            "standoff": 15
           },
           "zerolinecolor": "white",
           "zerolinewidth": 2
          },
          "yaxis": {
           "automargin": true,
           "gridcolor": "white",
           "linecolor": "white",
           "ticks": "",
           "title": {
            "standoff": 15
           },
           "zerolinecolor": "white",
           "zerolinewidth": 2
          }
         }
        },
        "title": {
         "text": "3D Scatter Plot of Relative Min Test Loss by Method and Dataset"
        }
       }
      },
      "text/html": [
       "<div>                            <div id=\"4547d568-381b-4634-a447-52b770ba0834\" class=\"plotly-graph-div\" style=\"height:525px; width:100%;\"></div>            <script type=\"text/javascript\">                require([\"plotly\"], function(Plotly) {                    window.PLOTLYENV=window.PLOTLYENV || {};                                    if (document.getElementById(\"4547d568-381b-4634-a447-52b770ba0834\")) {                    Plotly.newPlot(                        \"4547d568-381b-4634-a447-52b770ba0834\",                        [{\"marker\":{\"color\":[3.3618152719058685,3.1741680102490912,0.39465830753113496,1.0,2.935585731690006,3.1372790393550765,3.205349977801952,3.1709927834377134,3.1110775604212084,null,3.332227585754819,3.293627537762715,0.38653062773518093,0.4522496188691751,3.118464349742837,0.4553825589835832,0.42133964529958784,3.0680041516356527,3.1126204259828776,3.161606416454777,3.1291443017478886,3.1443556057830224,3.130026401434922,3.1327818207322076,3.1520185912580176,3.1304755757404683,3.154074482590449,27.197222842038872,2.200025588723723,1.0,1.1476139389351296,1.1932973237230762,6.124090513202337,1.4389526672271176,4.615897590518111,6.79056188767193,1.3349926518570614,4.103279125180893,1.4694896366414703,1.3263302634441712,1.4039168198763277,1.1388186513997371,1.4114078860499353,1.6146166775601603,1.6212048241350951,1.8287403786319045,1.968167802820197,20.209764842188243,20.231758981810977,20.245086592219174,20.2559283726005,19.953743835545495,3.658732554143299,19.017539248643633,1.6740336293538185,1.0,1.0353761616622426,1.3446975152758982,1.0866364997594198,1.827181118112752,11.259819365185558,2.4566688566427546,1.5884877359112237,5.477891707722261,0.8710907176528302,0.8252063584378204,0.8769007858527794,0.7432576331658401,1.011857469914373,1.0645160889489083,2.0356035010614875,2.022399484453299,2.1816585699190707,14.600158377331935,14.577242245221276,14.652910844849591,14.621622316399685,14.547893323348482,1.6239762319304167,6.743121553390039,1.1007506487842746,1.0,0.9850656768393591,0.9678635635005223,4.078815685652929,4.077523404844991,6.090316477181974,4.078815685652929,4.077523404844991,6.090316477181974,0.979546032074624,0.9818312378660652,1.859335760519853,0.9841398995036855,0.9816171033825587,1.324706940589585,1.1942926708612676,1.1992588234641568,1.6505051185921003,1.6753938161364377,1.612792042912071,3.017381581115816,1.9860660522269094,2.0686753802079854,2.0537528374638168,2.9004534508350734,0.7740013999045502,1.0,0.9811196999824157,2.7227578223636937,1.7611606673783908,1.5451863125189167,1.5848284121502083,2.8240785536519417,1.8559741758557733,1.4229767489647716,1.0364956021028229,1.0329180885754141,3.618038996463731,0.9980368414990739,0.9766299942061393,2.6373460219276303,0.9808716898934349,0.9932679037898474,3.4801745442942926,1.693804308217707,1.7690194834686737,3.392319320273122,1.9233019890010068,1.8825247729242323,2.501896108597156,17.269755127240256,1.8396734221829292,1.0,0.7650811746901484,1.0433949793622492,0.811722833991418,1.095623993910577,9.226397245726073,null,0.8627434495108418,8.24895300204256,1.1348947230806707,1.0226265321130072,1.0075617084307136,1.1743651628155949,1.22979418621679,1.146196916849989,1.3186097594029833,1.2625639382714966,1.2500927342820292,12.320600041793076,12.22554426401434,12.311218185814242,12.815778231305277,12.385904825820083,0.45609542301066286,0.9657511636771711,0.4734907419641801,1.0,0.934705430219853,0.8934441583002878,0.9312552364548208,0.8957468836033613,0.9440451518583142,null,1.2554548680623703,0.9102436815583616,0.9233347511499103,0.8864825325226999,0.9146537031070924,0.9176568005222023,0.8849355551307455,0.9130759425698043,0.940731725629159,0.9470224291033952,0.9514613078667444,0.9394675214271697,0.9467319945187165,0.9548259723185555,0.9400828668727377,0.9472047470170958,3.2734356338584987,28.568604943351083,2.0187792595694733,1.0,0.9952183644281491,1.0133902217150832,6.6797249723274925,1.2714946108132292,4.460758016280198,11.520256135110822,1.5425986625766204,2.1628471152349715,1.1936197933643085,1.0776869233106403,1.2662511719659635,1.2792823153574948,1.0281514022414937,1.4736355725110464,1.6896678688480762,1.467346977676988,1.5663909950764638,22.69697420296825,22.52068741693503,22.574057273962197,22.68645048085881,22.633817347093203,4.170398298589037,7.9947784753046545,1.3674055900280047,1.0,1.2722489396271992,10.175497674018848,2.667239129649838,3.2563307439434954,76.29770459662103,null,126.45951182448923,56.812086971939124,0.9656116882285832,0.9641708229193675,2.4204028209144766,0.9902423432140461,0.9465608372503491,1.8445421768194734,1.3571144273177524,1.2844472050539169,5.156720618387429,5.977906566574238,5.538291651231357,6.047387768645203,5.656741883411743,5.30559187115792,0.9580769649873833,11.684591282526675,0.9961913333913777,1.0,0.9193176531156224,1.036914822695037,0.7796984983701194,0.7620092623619034,1.1759632982673036,null,0.9538280170192522,23.848447496755657,0.9911029635753857,0.9784498302101623,0.9983800487457699,0.9938112872061959,0.9556556582877496,0.9557984823663287,1.0473631534287002,1.0649236383790428,1.0764066722560546,5.902456488192626,6.131857790153122,5.98730730348338,5.734127732025706,5.696607405767902,2.3980110216998405,19.775752581642507,1.9572475437363521,1.0,1.0351993370919894,7.27692363357674,1.2560182204443706,1.5942809174758297,21.5224031640145,3.26876848498879,0.8452535519876313,0.8753504678227612,0.9269261231240441,1.2754782152203237,10.072012437169949,0.9441789060737029,0.8039468390393998,6.387286386234773,1.1421546119344095,1.2062083225966602,4.265993280143475,1.8564156394482298,1.6210808941973616,2.5402079100202357,1.4418653881760592,1.3883346477502698,0.15555504343168713,1.2227264341735637,0.16054580950299555,1.0,0.9962751287820001,0.8959143791000793,2.1542746778103985,1.032283065269275,5.516059426600633,null,null,1.2489578563646144,1.0764440455008955,1.0325273523922898,1.0525025135751016,1.0652022157813723,1.0280606615670858,1.0521562880515238,5.594076796567419,5.111790060999298,4.497092402468968,4.657563692968835,5.110603206655503,5.256833417534175,4.582114909317016,5.166304815039217,1.7427968046557984,23.18101323792053,1.1238451335142596,1.0,0.9349290125449735,0.9638415487943276,1.0666332326890506,1.1752207836651785,3.533089416487572,18.16031077104148,1.1406665769677486,1.7972458664704167,1.2493475779670498,1.0087532286123038,1.0348528454524664,1.1218414260725793,1.0844638984296366,1.205718939939629,1.3162443954147145,1.3369551400903483,1.5088336070984933,35.991929718244165,35.615944614947736,36.41986235442231,36.214917952190085,35.67879990317235,5.686944741647506,24.83424907535218,2.5529077866486336,1.0,1.3000768883817708,2.099888779705643,1.1333862834474508,1.2616443200980725,9.896554843377352,null,1.3520626629436991,6.409521360558454,1.1835419506236735,1.309395866038937,1.3374912958805898,1.0248803537544127,1.683842685441785,1.5040249434951038,2.1741877223812143,2.076699636287384,2.536717651667949,18.216254476376307,18.017627136951464,18.05222657816531,18.30902260305459,18.632947712925148,7.972885402233323,7.57895863252188,0.7006661397085544,1.0,6.847553828594363,7.413208693920428,7.558868187129352,7.552934564339898,7.413170432644968,null,7.989348246728257,7.782711344954886,0.6068328715075619,0.5908122398960434,7.415193212525749,0.5942883728470919,0.5194287832290441,7.323545717584045,7.362421116076971,7.4024989997326465,7.445703243457097,7.4825469935616855,7.441980581832586,7.454023254937169,7.419121539063606,7.4451025498785715,1.4596684999928369,11.404763956347875,1.4921253835484085,1.0,1.0350896243157766,1.1677910745190292,3.270575003541222,3.034650575265443,2.898147314504135,4.936153957095805,7.522284031264658,6.40543745028853,1.0521628218242098,1.1348708877914029,1.0245766609185536,1.165224168310747,0.9708607379841642,0.9539939444051669,2.0165865368891414,2.125671539567515,2.0894314213429146,7.003386988069324,7.018600758722356,7.020720353347716,7.022069492310853,7.052658816045129,275.03997188115767,906.6907870110216,1.9110905366815079,1.0,4.053646490073627,9.65906489832332,528.8332748791091,500.11822013575807,787.3453848279056,null,494.60986207687176,782.8771026950647,0.32916311686693706,1.5182700100551227,532.7785261064938,0.3369601605831214,1.2803501175655305,480.07450533455585,523.3568932310937,531.8598943765367,517.9912039307004,546.6432776539979,518.2532698987466,558.1085629574408,557.4426513580171,531.5263234470327,0.12695025628966217,0.40277406054708376,0.12692570697292913,1.0,0.9685858067200652,0.9970787734700481,0.9880617203109968,1.066918486395431,0.9776812699526816,1.0001334403343116,1.0228201745322432,1.0606044642258807,1.0051279656341843,0.9748960846897631,0.9913171117887984,1.0176745999517265,0.9842449771506331,0.9956401477892995,0.9776097239947961,0.9839965647590638,1.004744472846476,1.2130782587230484,1.1349098793509595,1.2087316112477051,3.5727514879456232,3.6105010674474594,3.3410217038768724,6.225205766072367,1.3499393581581196,1.0,1.5796826030493658,8.699977774872306,4.246927587860275,4.170707973173804,16.6890995976716,4.246927587860275,4.170707973173804,16.6890995976716,1.951197699281518,0.7623532151900018,11.659940403006045,0.7402470498404683,0.7411557273842904,10.001826528643072,5.112944825962038,3.98036755417166,6.250566746518471,4.391716302497068,4.253577724072015,6.754233016720821,3.878124660205341,3.942319449360793,1.3267300302033667,17.03990218649483,1.9188065327899033,1.0,0.9385147565906949,1.0450423573193035,1.5920233010033615,2.0011667518897958,3.07395864909179,3.696189762849706,1.5183177651417392,2.1224210380566824,1.5030125479453837,1.1722396027037498,1.1825291023907725,1.1199749024647114,1.5511824088021056,1.421584716908761,1.9570410720189009,1.8464526127166303,1.8361235193993237,9.790134454248372,9.956652071304571,9.913090855387225,9.801132581603722,9.927020091148648,0.8760310091124571,1.4671470997008524,0.9385102721820114,1.0,1.0247810518502614,1.0148837670322104,1.1209608130401383,1.1180520548856256,9.030923434125645,1.1209608130401383,1.1180520548856256,9.030923434125645,0.8379986159184921,0.8482539452762201,1.0958098740245772,0.8426560781704701,0.8540054247981846,1.0668601752405318,1.240731233971476,1.1646092284872192,1.2670045847940217,1.1073382482614567,1.0930017621698782,1.2377660925317626,1.0786444954205345,1.056852419762367,5.753796744593551,17.851286281698254,1.9788073327912765,1.0,1.0370353697217483,1.6157834018421562,8.98229030775281,9.321608572941436,565.6546332104881,8.98229030775281,9.321608572941436,565.6546332104881,3.8188687551002287,1.4737426927026198,142.48877780663165,3.312080463907801,1.2891596448164873,68.15221680132852,13.616985943362337,13.532310405112957,27.871510548652463,12.696586070910762,12.573362484833268,24.665991164837827,15.123809118643369,14.112773604471004,0.4999296706921497,2.015628130539816,0.5244328164520277,1.0,1.0259110111800183,1.0444074677520732,1.0537453103498922,1.044566701712029,1.0546909434991616,1.0832024701312437,0.9979090677678097,1.0417981641487173,0.9839051162954198,0.9782724835188155,0.9954602181011862,0.9791248154353276,0.9749911346554873,0.9909524902824531,1.035941498291698,1.0563076394492295,1.0858325133397984,1.283771855964921,1.2717249955557217,1.2706793782920613,1.1916237387788318,1.175669109218518,1.5154866718230673,7.406966017530156,1.1508403657316915,1.0,1.0418306558939245,2.3975664691504437,1.2714615743597104,1.5607589669786677,1.5837961951855946,null,5.146460643644809,2.881826984056086,1.3684011632444535,1.3146821583747716,1.3350221683101802,1.3713549085947165,1.1942186281949843,1.2884430720068933,1.9892632383006759,1.8785996841925436,1.8344348255918104,4.963783546110686,5.348423762429151,4.981472637868279,4.829667757912774,5.0610088655512815,1.6959095915190234,5.953254166451886,1.34524585000299,1.0,0.8942585208036271,0.9904670470878644,1.329671788542975,1.3535435495871604,3.962328069159355,1.798218477513693,1.5990223904846261,3.6066923642284214,0.7602662259738732,0.9363783287904567,0.9229107243700515,0.909160271417689,0.9207826670822726,1.0067892045785316,1.8587114139762715,1.5733365608971042,1.8915553689606253,4.220665726682388,4.2819849369383824,4.27660006524328,4.33174195762022,4.286441447347359,1.3771481906885927,3.4898058573376614,1.5915431182050566,1.0,0.9271322507478139,1.1557459944996353,0.9418782539840496,1.0035648454264572,31.873229686001615,9.576359015457603,1.1252262086926614,6819.194202029832,1.0765321493038102,0.8714625914049042,7.247269609991773,0.8322048842141212,1.022766443755508,0.9087050845521778,1.6887575226212244,1.200284543256577,3.203434535127277,2.5437074991922195,2.6976142901799975,3.57201818945964,3.4816794416360657,3.466489349196442,0.48845791378667236,14.088636089273594,0.7624373595742883,1.0,0.9608770530393933,1.3832858474350567,0.8324183105623755,1.1363267377410617,3.6294693431697973,1.0224889051690729,0.9397170081452282,1.1716811483138143,0.8854022470013048,0.8147314656934194,0.840637142816039,0.9080987829369749,0.7818471251295958,0.8573077273888072,1.2365961786795947,1.252473345276192,1.2930100830764055,16.241152210542506,16.33408631618167,16.23581246601043,16.236191155551534,16.354588948846605,2.4145045578928217,16.001795255290748,3.364511199229087,1.0,0.9771791394482605,0.935049677474923,1.502463540655213,1.5854408260584312,7.984598248274227,1.9341426368220336,2.337453748026804,124.51817685390725,1.0404798285255272,1.21654025352225,1.1723519458654554,1.4757278441444535,1.2371751582041997,1.3418043486553954,2.1138346826227665,1.809879558721675,1.7211415190693917,11.636297490573453,11.915132931296847,12.043802070787255,10.777635393908113,10.948929521929749,1.238005093707006,25.503129531831686,1.8525109456238753,1.0,1.3131625008846601,1.7042425246939468,1.3028824246711608,1.624824952040601,4.296352707471892,1.2450390843740682,2.2823555724928157,1.827800554823344,1.1893768190945346,1.1031700376410156,1.1451807655886235,1.0573509686095741,1.246766733609641,1.178597943228526,1.4548256180455743,1.4203442927572194,1.4164031027174202,15.036386662773205,15.149836359396728,15.093015965187497,15.15682873361371,15.136034983984327,4.122145105185125,27.72903853773937,2.3313785362262225,1.0,1.046320749818226,1.1955593215276794,1.2768252281146042,1.660972147415909,7.5160268252981774,null,1.1286708936498644,2.419184259156463,1.1789179823558569,0.9451176534434016,1.1134456107979245,1.094157806313987,1.0281284927731063,1.1576296147243434,1.4755062633052423,1.5049407732177167,1.6074680030605184,22.23509053179812,21.9104795534311,21.775695990309988,21.563064981729333,21.544018374641432,0.6321160375040821,3.576670945581324,0.5832833933081931,1.0,0.6358605791399721,0.6676732030967004,0.42733932854115453,0.4616484410328274,1.2891682229694406,1.0798535302221286,0.7246907483884869,0.9932013557336956,0.36497268973623065,0.3451954349484904,0.3438560679539436,0.367061525734952,0.5026387391958597,0.4324200070042028,0.7392423609944924,0.5893385626617522,0.672260930967383,2.776022646551074,2.8205754152558207,2.829017490665689,2.7877907291099304,2.826011057712799,1.8975121206603498,21.47204093163051,1.2517296924175956,1.0,1.0056340737187268,0.9880455785668566,8.69366347299997,1.1547633796612558,2.80364482165874,9.332214620938034,1.2147704179700634,2.4864965415285054,1.3479847387238653,1.1312302618356063,1.150545561337238,1.3147616834197466,1.3080841917013795,1.4305916155108704,1.6778162204257063,1.4974823234316583,1.7793325939574607,34.177368415901476,34.75990635496327,34.963491805089035,34.10457867930535,34.743622682888706,1.5861627514985073,17.90150516641531,1.1467749802392924,1.0,1.0317620987083969,0.9842623388904247,1.077359173795322,1.0642601591950993,4.56020062740042,null,1.4162427099396402,2.391883120300712,0.9655217830516,0.7725138387647593,0.8285711180852564,0.9671826537360624,0.8636310349970219,0.8906612429813529,1.181001058242867,1.0914969453525816,1.1864282675809608,27.738126097262207,27.180542939453904,28.113379759830032,27.805847348627022,27.356250397599734,6.426516110753681,17.317576583825847,0.26620093454228916,1.0,20.733968266780554,251.95975438782074,8.9025311590775,8.905084047503916,2530.2548665519926,8.9025311590775,8.905084047503916,2530.2548665519926,0.36115446340815915,0.40368664499849505,1225.923263949849,0.3847022461718601,0.5701608961765743,857.1028298427015,23.039082338329347,23.34508562624304,591.4224210767974,29.71404784031524,29.765660769853856,602.1529276072706,35.47682025109272,35.832991101984945,2.076975634694941,3.0385279792179705,0.9082326595044526,1.0,26.98020979280293,1.3699519227976706,2.332406384303741,2.307100637072856,109.88538331090133,2.332406384303741,2.307100637072856,109.88538331090133,0.9433176221776064,0.9381644926675854,49.95419277757905,0.9346651861690912,0.9103808045082143,39.50870232415709,2.6568888968711564,2.670001246696627,12.944375442698542,2.494314862388461,2.6133735605203907,16.841962034593408,3.791945970996795,4.089737005649337],\"colorbar\":{\"title\":{\"text\":\"Test Loss\"}},\"colorscale\":[[0.0,\"#440154\"],[0.1111111111111111,\"#482878\"],[0.2222222222222222,\"#3e4989\"],[0.3333333333333333,\"#31688e\"],[0.4444444444444444,\"#26828e\"],[0.5555555555555556,\"#1f9e89\"],[0.6666666666666666,\"#35b779\"],[0.7777777777777778,\"#6ece58\"],[0.8888888888888888,\"#b5de2b\"],[1.0,\"#fde725\"]],\"opacity\":0.8,\"size\":5},\"mode\":\"markers\",\"x\":[0,1,2,3,4,5,6,7,8,9,10,11,12,13,14,15,16,17,18,19,20,21,22,23,24,25,0,1,2,3,4,5,6,7,8,9,10,11,12,13,14,15,16,17,18,19,20,21,22,23,24,25,0,1,2,3,4,5,6,7,8,9,10,11,12,13,14,15,16,17,18,19,20,21,22,23,24,25,0,1,2,3,4,5,6,7,8,9,10,11,12,13,14,15,16,17,18,19,20,21,22,23,24,25,0,1,2,3,4,5,6,7,8,9,10,11,12,13,14,15,16,17,18,19,20,21,22,23,24,25,0,1,2,3,4,5,6,7,8,9,10,11,12,13,14,15,16,17,18,19,20,21,22,23,24,25,0,1,2,3,4,5,6,7,8,9,10,11,12,13,14,15,16,17,18,19,20,21,22,23,24,25,0,1,2,3,4,5,6,7,8,9,10,11,12,13,14,15,16,17,18,19,20,21,22,23,24,25,0,1,2,3,4,5,6,7,8,9,10,11,12,13,14,15,16,17,18,19,20,21,22,23,24,25,0,1,2,3,4,5,6,7,8,9,10,11,12,13,14,15,16,17,18,19,20,21,22,23,24,25,0,1,2,3,4,5,6,7,8,9,10,11,12,13,14,15,16,17,18,19,20,21,22,23,24,25,0,1,2,3,4,5,6,7,8,9,10,11,12,13,14,15,16,17,18,19,20,21,22,23,24,25,0,1,2,3,4,5,6,7,8,9,10,11,12,13,14,15,16,17,18,19,20,21,22,23,24,25,0,1,2,3,4,5,6,7,8,9,10,11,12,13,14,15,16,17,18,19,20,21,22,23,24,25,0,1,2,3,4,5,6,7,8,9,10,11,12,13,14,15,16,17,18,19,20,21,22,23,24,25,0,1,2,3,4,5,6,7,8,9,10,11,12,13,14,15,16,17,18,19,20,21,22,23,24,25,0,1,2,3,4,5,6,7,8,9,10,11,12,13,14,15,16,17,18,19,20,21,22,23,24,25,0,1,2,3,4,5,6,7,8,9,10,11,12,13,14,15,16,17,18,19,20,21,22,23,24,25,0,1,2,3,4,5,6,7,8,9,10,11,12,13,14,15,16,17,18,19,20,21,22,23,24,25,0,1,2,3,4,5,6,7,8,9,10,11,12,13,14,15,16,17,18,19,20,21,22,23,24,25,0,1,2,3,4,5,6,7,8,9,10,11,12,13,14,15,16,17,18,19,20,21,22,23,24,25,0,1,2,3,4,5,6,7,8,9,10,11,12,13,14,15,16,17,18,19,20,21,22,23,24,25,0,1,2,3,4,5,6,7,8,9,10,11,12,13,14,15,16,17,18,19,20,21,22,23,24,25,0,1,2,3,4,5,6,7,8,9,10,11,12,13,14,15,16,17,18,19,20,21,22,23,24,25,0,1,2,3,4,5,6,7,8,9,10,11,12,13,14,15,16,17,18,19,20,21,22,23,24,25,0,1,2,3,4,5,6,7,8,9,10,11,12,13,14,15,16,17,18,19,20,21,22,23,24,25,0,1,2,3,4,5,6,7,8,9,10,11,12,13,14,15,16,17,18,19,20,21,22,23,24,25,0,1,2,3,4,5,6,7,8,9,10,11,12,13,14,15,16,17,18,19,20,21,22,23,24,25,0,1,2,3,4,5,6,7,8,9,10,11,12,13,14,15,16,17,18,19,20,21,22,23,24,25,0,1,2,3,4,5,6,7,8,9,10,11,12,13,14,15,16,17,18,19,20,21,22,23,24,25,0,1,2,3,4,5,6,7,8,9,10,11,12,13,14,15,16,17,18,19,20,21,22,23,24,25,0,1,2,3,4,5,6,7,8,9,10,11,12,13,14,15,16,17,18,19,20,21,22,23,24,25,0,1,2,3,4,5,6,7,8,9,10,11,12,13,14,15,16,17,18,19,20,21,22,23,24,25,0,1,2,3,4,5,6,7,8,9,10,11,12,13,14,15,16,17,18,19,20,21,22,23,24,25,0,1,2,3,4,5,6,7,8,9,10,11,12,13,14,15,16,17,18,19,20,21,22,23,24,25],\"y\":[0,0,0,0,0,0,0,0,0,0,0,0,0,0,0,0,0,0,0,0,0,0,0,0,0,0,1,1,1,1,1,1,1,1,1,1,1,1,1,1,1,1,1,1,1,1,1,1,1,1,1,1,2,2,2,2,2,2,2,2,2,2,2,2,2,2,2,2,2,2,2,2,2,2,2,2,2,2,3,3,3,3,3,3,3,3,3,3,3,3,3,3,3,3,3,3,3,3,3,3,3,3,3,3,4,4,4,4,4,4,4,4,4,4,4,4,4,4,4,4,4,4,4,4,4,4,4,4,4,4,5,5,5,5,5,5,5,5,5,5,5,5,5,5,5,5,5,5,5,5,5,5,5,5,5,5,6,6,6,6,6,6,6,6,6,6,6,6,6,6,6,6,6,6,6,6,6,6,6,6,6,6,7,7,7,7,7,7,7,7,7,7,7,7,7,7,7,7,7,7,7,7,7,7,7,7,7,7,8,8,8,8,8,8,8,8,8,8,8,8,8,8,8,8,8,8,8,8,8,8,8,8,8,8,9,9,9,9,9,9,9,9,9,9,9,9,9,9,9,9,9,9,9,9,9,9,9,9,9,9,10,10,10,10,10,10,10,10,10,10,10,10,10,10,10,10,10,10,10,10,10,10,10,10,10,10,11,11,11,11,11,11,11,11,11,11,11,11,11,11,11,11,11,11,11,11,11,11,11,11,11,11,12,12,12,12,12,12,12,12,12,12,12,12,12,12,12,12,12,12,12,12,12,12,12,12,12,12,13,13,13,13,13,13,13,13,13,13,13,13,13,13,13,13,13,13,13,13,13,13,13,13,13,13,14,14,14,14,14,14,14,14,14,14,14,14,14,14,14,14,14,14,14,14,14,14,14,14,14,14,15,15,15,15,15,15,15,15,15,15,15,15,15,15,15,15,15,15,15,15,15,15,15,15,15,15,16,16,16,16,16,16,16,16,16,16,16,16,16,16,16,16,16,16,16,16,16,16,16,16,16,16,17,17,17,17,17,17,17,17,17,17,17,17,17,17,17,17,17,17,17,17,17,17,17,17,17,17,18,18,18,18,18,18,18,18,18,18,18,18,18,18,18,18,18,18,18,18,18,18,18,18,18,18,19,19,19,19,19,19,19,19,19,19,19,19,19,19,19,19,19,19,19,19,19,19,19,19,19,19,20,20,20,20,20,20,20,20,20,20,20,20,20,20,20,20,20,20,20,20,20,20,20,20,20,20,21,21,21,21,21,21,21,21,21,21,21,21,21,21,21,21,21,21,21,21,21,21,21,21,21,21,22,22,22,22,22,22,22,22,22,22,22,22,22,22,22,22,22,22,22,22,22,22,22,22,22,22,23,23,23,23,23,23,23,23,23,23,23,23,23,23,23,23,23,23,23,23,23,23,23,23,23,23,24,24,24,24,24,24,24,24,24,24,24,24,24,24,24,24,24,24,24,24,24,24,24,24,24,24,25,25,25,25,25,25,25,25,25,25,25,25,25,25,25,25,25,25,25,25,25,25,25,25,25,25,26,26,26,26,26,26,26,26,26,26,26,26,26,26,26,26,26,26,26,26,26,26,26,26,26,26,27,27,27,27,27,27,27,27,27,27,27,27,27,27,27,27,27,27,27,27,27,27,27,27,27,27,28,28,28,28,28,28,28,28,28,28,28,28,28,28,28,28,28,28,28,28,28,28,28,28,28,28,29,29,29,29,29,29,29,29,29,29,29,29,29,29,29,29,29,29,29,29,29,29,29,29,29,29,30,30,30,30,30,30,30,30,30,30,30,30,30,30,30,30,30,30,30,30,30,30,30,30,30,30,31,31,31,31,31,31,31,31,31,31,31,31,31,31,31,31,31,31,31,31,31,31,31,31,31,31,32,32,32,32,32,32,32,32,32,32,32,32,32,32,32,32,32,32,32,32,32,32,32,32,32,32,33,33,33,33,33,33,33,33,33,33,33,33,33,33,33,33,33,33,33,33,33,33,33,33,33,33,34,34,34,34,34,34,34,34,34,34,34,34,34,34,34,34,34,34,34,34,34,34,34,34,34,34],\"z\":[3.3618152719058685,3.1741680102490912,0.39465830753113496,1.0,2.935585731690006,3.1372790393550765,3.205349977801952,3.1709927834377134,3.1110775604212084,null,3.332227585754819,3.293627537762715,0.38653062773518093,0.4522496188691751,3.118464349742837,0.4553825589835832,0.42133964529958784,3.0680041516356527,3.1126204259828776,3.161606416454777,3.1291443017478886,3.1443556057830224,3.130026401434922,3.1327818207322076,3.1520185912580176,3.1304755757404683,3.154074482590449,27.197222842038872,2.200025588723723,1.0,1.1476139389351296,1.1932973237230762,6.124090513202337,1.4389526672271176,4.615897590518111,6.79056188767193,1.3349926518570614,4.103279125180893,1.4694896366414703,1.3263302634441712,1.4039168198763277,1.1388186513997371,1.4114078860499353,1.6146166775601603,1.6212048241350951,1.8287403786319045,1.968167802820197,20.209764842188243,20.231758981810977,20.245086592219174,20.2559283726005,19.953743835545495,3.658732554143299,19.017539248643633,1.6740336293538185,1.0,1.0353761616622426,1.3446975152758982,1.0866364997594198,1.827181118112752,11.259819365185558,2.4566688566427546,1.5884877359112237,5.477891707722261,0.8710907176528302,0.8252063584378204,0.8769007858527794,0.7432576331658401,1.011857469914373,1.0645160889489083,2.0356035010614875,2.022399484453299,2.1816585699190707,14.600158377331935,14.577242245221276,14.652910844849591,14.621622316399685,14.547893323348482,1.6239762319304167,6.743121553390039,1.1007506487842746,1.0,0.9850656768393591,0.9678635635005223,4.078815685652929,4.077523404844991,6.090316477181974,4.078815685652929,4.077523404844991,6.090316477181974,0.979546032074624,0.9818312378660652,1.859335760519853,0.9841398995036855,0.9816171033825587,1.324706940589585,1.1942926708612676,1.1992588234641568,1.6505051185921003,1.6753938161364377,1.612792042912071,3.017381581115816,1.9860660522269094,2.0686753802079854,2.0537528374638168,2.9004534508350734,0.7740013999045502,1.0,0.9811196999824157,2.7227578223636937,1.7611606673783908,1.5451863125189167,1.5848284121502083,2.8240785536519417,1.8559741758557733,1.4229767489647716,1.0364956021028229,1.0329180885754141,3.618038996463731,0.9980368414990739,0.9766299942061393,2.6373460219276303,0.9808716898934349,0.9932679037898474,3.4801745442942926,1.693804308217707,1.7690194834686737,3.392319320273122,1.9233019890010068,1.8825247729242323,2.501896108597156,17.269755127240256,1.8396734221829292,1.0,0.7650811746901484,1.0433949793622492,0.811722833991418,1.095623993910577,9.226397245726073,null,0.8627434495108418,8.24895300204256,1.1348947230806707,1.0226265321130072,1.0075617084307136,1.1743651628155949,1.22979418621679,1.146196916849989,1.3186097594029833,1.2625639382714966,1.2500927342820292,12.320600041793076,12.22554426401434,12.311218185814242,12.815778231305277,12.385904825820083,0.45609542301066286,0.9657511636771711,0.4734907419641801,1.0,0.934705430219853,0.8934441583002878,0.9312552364548208,0.8957468836033613,0.9440451518583142,null,1.2554548680623703,0.9102436815583616,0.9233347511499103,0.8864825325226999,0.9146537031070924,0.9176568005222023,0.8849355551307455,0.9130759425698043,0.940731725629159,0.9470224291033952,0.9514613078667444,0.9394675214271697,0.9467319945187165,0.9548259723185555,0.9400828668727377,0.9472047470170958,3.2734356338584987,28.568604943351083,2.0187792595694733,1.0,0.9952183644281491,1.0133902217150832,6.6797249723274925,1.2714946108132292,4.460758016280198,11.520256135110822,1.5425986625766204,2.1628471152349715,1.1936197933643085,1.0776869233106403,1.2662511719659635,1.2792823153574948,1.0281514022414937,1.4736355725110464,1.6896678688480762,1.467346977676988,1.5663909950764638,22.69697420296825,22.52068741693503,22.574057273962197,22.68645048085881,22.633817347093203,4.170398298589037,7.9947784753046545,1.3674055900280047,1.0,1.2722489396271992,10.175497674018848,2.667239129649838,3.2563307439434954,76.29770459662103,null,126.45951182448923,56.812086971939124,0.9656116882285832,0.9641708229193675,2.4204028209144766,0.9902423432140461,0.9465608372503491,1.8445421768194734,1.3571144273177524,1.2844472050539169,5.156720618387429,5.977906566574238,5.538291651231357,6.047387768645203,5.656741883411743,5.30559187115792,0.9580769649873833,11.684591282526675,0.9961913333913777,1.0,0.9193176531156224,1.036914822695037,0.7796984983701194,0.7620092623619034,1.1759632982673036,null,0.9538280170192522,23.848447496755657,0.9911029635753857,0.9784498302101623,0.9983800487457699,0.9938112872061959,0.9556556582877496,0.9557984823663287,1.0473631534287002,1.0649236383790428,1.0764066722560546,5.902456488192626,6.131857790153122,5.98730730348338,5.734127732025706,5.696607405767902,2.3980110216998405,19.775752581642507,1.9572475437363521,1.0,1.0351993370919894,7.27692363357674,1.2560182204443706,1.5942809174758297,21.5224031640145,3.26876848498879,0.8452535519876313,0.8753504678227612,0.9269261231240441,1.2754782152203237,10.072012437169949,0.9441789060737029,0.8039468390393998,6.387286386234773,1.1421546119344095,1.2062083225966602,4.265993280143475,1.8564156394482298,1.6210808941973616,2.5402079100202357,1.4418653881760592,1.3883346477502698,0.15555504343168713,1.2227264341735637,0.16054580950299555,1.0,0.9962751287820001,0.8959143791000793,2.1542746778103985,1.032283065269275,5.516059426600633,null,null,1.2489578563646144,1.0764440455008955,1.0325273523922898,1.0525025135751016,1.0652022157813723,1.0280606615670858,1.0521562880515238,5.594076796567419,5.111790060999298,4.497092402468968,4.657563692968835,5.110603206655503,5.256833417534175,4.582114909317016,5.166304815039217,1.7427968046557984,23.18101323792053,1.1238451335142596,1.0,0.9349290125449735,0.9638415487943276,1.0666332326890506,1.1752207836651785,3.533089416487572,18.16031077104148,1.1406665769677486,1.7972458664704167,1.2493475779670498,1.0087532286123038,1.0348528454524664,1.1218414260725793,1.0844638984296366,1.205718939939629,1.3162443954147145,1.3369551400903483,1.5088336070984933,35.991929718244165,35.615944614947736,36.41986235442231,36.214917952190085,35.67879990317235,5.686944741647506,24.83424907535218,2.5529077866486336,1.0,1.3000768883817708,2.099888779705643,1.1333862834474508,1.2616443200980725,9.896554843377352,null,1.3520626629436991,6.409521360558454,1.1835419506236735,1.309395866038937,1.3374912958805898,1.0248803537544127,1.683842685441785,1.5040249434951038,2.1741877223812143,2.076699636287384,2.536717651667949,18.216254476376307,18.017627136951464,18.05222657816531,18.30902260305459,18.632947712925148,7.972885402233323,7.57895863252188,0.7006661397085544,1.0,6.847553828594363,7.413208693920428,7.558868187129352,7.552934564339898,7.413170432644968,null,7.989348246728257,7.782711344954886,0.6068328715075619,0.5908122398960434,7.415193212525749,0.5942883728470919,0.5194287832290441,7.323545717584045,7.362421116076971,7.4024989997326465,7.445703243457097,7.4825469935616855,7.441980581832586,7.454023254937169,7.419121539063606,7.4451025498785715,1.4596684999928369,11.404763956347875,1.4921253835484085,1.0,1.0350896243157766,1.1677910745190292,3.270575003541222,3.034650575265443,2.898147314504135,4.936153957095805,7.522284031264658,6.40543745028853,1.0521628218242098,1.1348708877914029,1.0245766609185536,1.165224168310747,0.9708607379841642,0.9539939444051669,2.0165865368891414,2.125671539567515,2.0894314213429146,7.003386988069324,7.018600758722356,7.020720353347716,7.022069492310853,7.052658816045129,275.03997188115767,906.6907870110216,1.9110905366815079,1.0,4.053646490073627,9.65906489832332,528.8332748791091,500.11822013575807,787.3453848279056,null,494.60986207687176,782.8771026950647,0.32916311686693706,1.5182700100551227,532.7785261064938,0.3369601605831214,1.2803501175655305,480.07450533455585,523.3568932310937,531.8598943765367,517.9912039307004,546.6432776539979,518.2532698987466,558.1085629574408,557.4426513580171,531.5263234470327,0.12695025628966217,0.40277406054708376,0.12692570697292913,1.0,0.9685858067200652,0.9970787734700481,0.9880617203109968,1.066918486395431,0.9776812699526816,1.0001334403343116,1.0228201745322432,1.0606044642258807,1.0051279656341843,0.9748960846897631,0.9913171117887984,1.0176745999517265,0.9842449771506331,0.9956401477892995,0.9776097239947961,0.9839965647590638,1.004744472846476,1.2130782587230484,1.1349098793509595,1.2087316112477051,3.5727514879456232,3.6105010674474594,3.3410217038768724,6.225205766072367,1.3499393581581196,1.0,1.5796826030493658,8.699977774872306,4.246927587860275,4.170707973173804,16.6890995976716,4.246927587860275,4.170707973173804,16.6890995976716,1.951197699281518,0.7623532151900018,11.659940403006045,0.7402470498404683,0.7411557273842904,10.001826528643072,5.112944825962038,3.98036755417166,6.250566746518471,4.391716302497068,4.253577724072015,6.754233016720821,3.878124660205341,3.942319449360793,1.3267300302033667,17.03990218649483,1.9188065327899033,1.0,0.9385147565906949,1.0450423573193035,1.5920233010033615,2.0011667518897958,3.07395864909179,3.696189762849706,1.5183177651417392,2.1224210380566824,1.5030125479453837,1.1722396027037498,1.1825291023907725,1.1199749024647114,1.5511824088021056,1.421584716908761,1.9570410720189009,1.8464526127166303,1.8361235193993237,9.790134454248372,9.956652071304571,9.913090855387225,9.801132581603722,9.927020091148648,0.8760310091124571,1.4671470997008524,0.9385102721820114,1.0,1.0247810518502614,1.0148837670322104,1.1209608130401383,1.1180520548856256,9.030923434125645,1.1209608130401383,1.1180520548856256,9.030923434125645,0.8379986159184921,0.8482539452762201,1.0958098740245772,0.8426560781704701,0.8540054247981846,1.0668601752405318,1.240731233971476,1.1646092284872192,1.2670045847940217,1.1073382482614567,1.0930017621698782,1.2377660925317626,1.0786444954205345,1.056852419762367,5.753796744593551,17.851286281698254,1.9788073327912765,1.0,1.0370353697217483,1.6157834018421562,8.98229030775281,9.321608572941436,565.6546332104881,8.98229030775281,9.321608572941436,565.6546332104881,3.8188687551002287,1.4737426927026198,142.48877780663165,3.312080463907801,1.2891596448164873,68.15221680132852,13.616985943362337,13.532310405112957,27.871510548652463,12.696586070910762,12.573362484833268,24.665991164837827,15.123809118643369,14.112773604471004,0.4999296706921497,2.015628130539816,0.5244328164520277,1.0,1.0259110111800183,1.0444074677520732,1.0537453103498922,1.044566701712029,1.0546909434991616,1.0832024701312437,0.9979090677678097,1.0417981641487173,0.9839051162954198,0.9782724835188155,0.9954602181011862,0.9791248154353276,0.9749911346554873,0.9909524902824531,1.035941498291698,1.0563076394492295,1.0858325133397984,1.283771855964921,1.2717249955557217,1.2706793782920613,1.1916237387788318,1.175669109218518,1.5154866718230673,7.406966017530156,1.1508403657316915,1.0,1.0418306558939245,2.3975664691504437,1.2714615743597104,1.5607589669786677,1.5837961951855946,null,5.146460643644809,2.881826984056086,1.3684011632444535,1.3146821583747716,1.3350221683101802,1.3713549085947165,1.1942186281949843,1.2884430720068933,1.9892632383006759,1.8785996841925436,1.8344348255918104,4.963783546110686,5.348423762429151,4.981472637868279,4.829667757912774,5.0610088655512815,1.6959095915190234,5.953254166451886,1.34524585000299,1.0,0.8942585208036271,0.9904670470878644,1.329671788542975,1.3535435495871604,3.962328069159355,1.798218477513693,1.5990223904846261,3.6066923642284214,0.7602662259738732,0.9363783287904567,0.9229107243700515,0.909160271417689,0.9207826670822726,1.0067892045785316,1.8587114139762715,1.5733365608971042,1.8915553689606253,4.220665726682388,4.2819849369383824,4.27660006524328,4.33174195762022,4.286441447347359,1.3771481906885927,3.4898058573376614,1.5915431182050566,1.0,0.9271322507478139,1.1557459944996353,0.9418782539840496,1.0035648454264572,31.873229686001615,9.576359015457603,1.1252262086926614,6819.194202029832,1.0765321493038102,0.8714625914049042,7.247269609991773,0.8322048842141212,1.022766443755508,0.9087050845521778,1.6887575226212244,1.200284543256577,3.203434535127277,2.5437074991922195,2.6976142901799975,3.57201818945964,3.4816794416360657,3.466489349196442,0.48845791378667236,14.088636089273594,0.7624373595742883,1.0,0.9608770530393933,1.3832858474350567,0.8324183105623755,1.1363267377410617,3.6294693431697973,1.0224889051690729,0.9397170081452282,1.1716811483138143,0.8854022470013048,0.8147314656934194,0.840637142816039,0.9080987829369749,0.7818471251295958,0.8573077273888072,1.2365961786795947,1.252473345276192,1.2930100830764055,16.241152210542506,16.33408631618167,16.23581246601043,16.236191155551534,16.354588948846605,2.4145045578928217,16.001795255290748,3.364511199229087,1.0,0.9771791394482605,0.935049677474923,1.502463540655213,1.5854408260584312,7.984598248274227,1.9341426368220336,2.337453748026804,124.51817685390725,1.0404798285255272,1.21654025352225,1.1723519458654554,1.4757278441444535,1.2371751582041997,1.3418043486553954,2.1138346826227665,1.809879558721675,1.7211415190693917,11.636297490573453,11.915132931296847,12.043802070787255,10.777635393908113,10.948929521929749,1.238005093707006,25.503129531831686,1.8525109456238753,1.0,1.3131625008846601,1.7042425246939468,1.3028824246711608,1.624824952040601,4.296352707471892,1.2450390843740682,2.2823555724928157,1.827800554823344,1.1893768190945346,1.1031700376410156,1.1451807655886235,1.0573509686095741,1.246766733609641,1.178597943228526,1.4548256180455743,1.4203442927572194,1.4164031027174202,15.036386662773205,15.149836359396728,15.093015965187497,15.15682873361371,15.136034983984327,4.122145105185125,27.72903853773937,2.3313785362262225,1.0,1.046320749818226,1.1955593215276794,1.2768252281146042,1.660972147415909,7.5160268252981774,null,1.1286708936498644,2.419184259156463,1.1789179823558569,0.9451176534434016,1.1134456107979245,1.094157806313987,1.0281284927731063,1.1576296147243434,1.4755062633052423,1.5049407732177167,1.6074680030605184,22.23509053179812,21.9104795534311,21.775695990309988,21.563064981729333,21.544018374641432,0.6321160375040821,3.576670945581324,0.5832833933081931,1.0,0.6358605791399721,0.6676732030967004,0.42733932854115453,0.4616484410328274,1.2891682229694406,1.0798535302221286,0.7246907483884869,0.9932013557336956,0.36497268973623065,0.3451954349484904,0.3438560679539436,0.367061525734952,0.5026387391958597,0.4324200070042028,0.7392423609944924,0.5893385626617522,0.672260930967383,2.776022646551074,2.8205754152558207,2.829017490665689,2.7877907291099304,2.826011057712799,1.8975121206603498,21.47204093163051,1.2517296924175956,1.0,1.0056340737187268,0.9880455785668566,8.69366347299997,1.1547633796612558,2.80364482165874,9.332214620938034,1.2147704179700634,2.4864965415285054,1.3479847387238653,1.1312302618356063,1.150545561337238,1.3147616834197466,1.3080841917013795,1.4305916155108704,1.6778162204257063,1.4974823234316583,1.7793325939574607,34.177368415901476,34.75990635496327,34.963491805089035,34.10457867930535,34.743622682888706,1.5861627514985073,17.90150516641531,1.1467749802392924,1.0,1.0317620987083969,0.9842623388904247,1.077359173795322,1.0642601591950993,4.56020062740042,null,1.4162427099396402,2.391883120300712,0.9655217830516,0.7725138387647593,0.8285711180852564,0.9671826537360624,0.8636310349970219,0.8906612429813529,1.181001058242867,1.0914969453525816,1.1864282675809608,27.738126097262207,27.180542939453904,28.113379759830032,27.805847348627022,27.356250397599734,6.426516110753681,17.317576583825847,0.26620093454228916,1.0,20.733968266780554,251.95975438782074,8.9025311590775,8.905084047503916,2530.2548665519926,8.9025311590775,8.905084047503916,2530.2548665519926,0.36115446340815915,0.40368664499849505,1225.923263949849,0.3847022461718601,0.5701608961765743,857.1028298427015,23.039082338329347,23.34508562624304,591.4224210767974,29.71404784031524,29.765660769853856,602.1529276072706,35.47682025109272,35.832991101984945,2.076975634694941,3.0385279792179705,0.9082326595044526,1.0,26.98020979280293,1.3699519227976706,2.332406384303741,2.307100637072856,109.88538331090133,2.332406384303741,2.307100637072856,109.88538331090133,0.9433176221776064,0.9381644926675854,49.95419277757905,0.9346651861690912,0.9103808045082143,39.50870232415709,2.6568888968711564,2.670001246696627,12.944375442698542,2.494314862388461,2.6133735605203907,16.841962034593408,3.791945970996795,4.089737005649337],\"type\":\"scatter3d\"}],                        {\"template\":{\"data\":{\"histogram2dcontour\":[{\"type\":\"histogram2dcontour\",\"colorbar\":{\"outlinewidth\":0,\"ticks\":\"\"},\"colorscale\":[[0.0,\"#0d0887\"],[0.1111111111111111,\"#46039f\"],[0.2222222222222222,\"#7201a8\"],[0.3333333333333333,\"#9c179e\"],[0.4444444444444444,\"#bd3786\"],[0.5555555555555556,\"#d8576b\"],[0.6666666666666666,\"#ed7953\"],[0.7777777777777778,\"#fb9f3a\"],[0.8888888888888888,\"#fdca26\"],[1.0,\"#f0f921\"]]}],\"choropleth\":[{\"type\":\"choropleth\",\"colorbar\":{\"outlinewidth\":0,\"ticks\":\"\"}}],\"histogram2d\":[{\"type\":\"histogram2d\",\"colorbar\":{\"outlinewidth\":0,\"ticks\":\"\"},\"colorscale\":[[0.0,\"#0d0887\"],[0.1111111111111111,\"#46039f\"],[0.2222222222222222,\"#7201a8\"],[0.3333333333333333,\"#9c179e\"],[0.4444444444444444,\"#bd3786\"],[0.5555555555555556,\"#d8576b\"],[0.6666666666666666,\"#ed7953\"],[0.7777777777777778,\"#fb9f3a\"],[0.8888888888888888,\"#fdca26\"],[1.0,\"#f0f921\"]]}],\"heatmap\":[{\"type\":\"heatmap\",\"colorbar\":{\"outlinewidth\":0,\"ticks\":\"\"},\"colorscale\":[[0.0,\"#0d0887\"],[0.1111111111111111,\"#46039f\"],[0.2222222222222222,\"#7201a8\"],[0.3333333333333333,\"#9c179e\"],[0.4444444444444444,\"#bd3786\"],[0.5555555555555556,\"#d8576b\"],[0.6666666666666666,\"#ed7953\"],[0.7777777777777778,\"#fb9f3a\"],[0.8888888888888888,\"#fdca26\"],[1.0,\"#f0f921\"]]}],\"heatmapgl\":[{\"type\":\"heatmapgl\",\"colorbar\":{\"outlinewidth\":0,\"ticks\":\"\"},\"colorscale\":[[0.0,\"#0d0887\"],[0.1111111111111111,\"#46039f\"],[0.2222222222222222,\"#7201a8\"],[0.3333333333333333,\"#9c179e\"],[0.4444444444444444,\"#bd3786\"],[0.5555555555555556,\"#d8576b\"],[0.6666666666666666,\"#ed7953\"],[0.7777777777777778,\"#fb9f3a\"],[0.8888888888888888,\"#fdca26\"],[1.0,\"#f0f921\"]]}],\"contourcarpet\":[{\"type\":\"contourcarpet\",\"colorbar\":{\"outlinewidth\":0,\"ticks\":\"\"}}],\"contour\":[{\"type\":\"contour\",\"colorbar\":{\"outlinewidth\":0,\"ticks\":\"\"},\"colorscale\":[[0.0,\"#0d0887\"],[0.1111111111111111,\"#46039f\"],[0.2222222222222222,\"#7201a8\"],[0.3333333333333333,\"#9c179e\"],[0.4444444444444444,\"#bd3786\"],[0.5555555555555556,\"#d8576b\"],[0.6666666666666666,\"#ed7953\"],[0.7777777777777778,\"#fb9f3a\"],[0.8888888888888888,\"#fdca26\"],[1.0,\"#f0f921\"]]}],\"surface\":[{\"type\":\"surface\",\"colorbar\":{\"outlinewidth\":0,\"ticks\":\"\"},\"colorscale\":[[0.0,\"#0d0887\"],[0.1111111111111111,\"#46039f\"],[0.2222222222222222,\"#7201a8\"],[0.3333333333333333,\"#9c179e\"],[0.4444444444444444,\"#bd3786\"],[0.5555555555555556,\"#d8576b\"],[0.6666666666666666,\"#ed7953\"],[0.7777777777777778,\"#fb9f3a\"],[0.8888888888888888,\"#fdca26\"],[1.0,\"#f0f921\"]]}],\"mesh3d\":[{\"type\":\"mesh3d\",\"colorbar\":{\"outlinewidth\":0,\"ticks\":\"\"}}],\"scatter\":[{\"fillpattern\":{\"fillmode\":\"overlay\",\"size\":10,\"solidity\":0.2},\"type\":\"scatter\"}],\"parcoords\":[{\"type\":\"parcoords\",\"line\":{\"colorbar\":{\"outlinewidth\":0,\"ticks\":\"\"}}}],\"scatterpolargl\":[{\"type\":\"scatterpolargl\",\"marker\":{\"colorbar\":{\"outlinewidth\":0,\"ticks\":\"\"}}}],\"bar\":[{\"error_x\":{\"color\":\"#2a3f5f\"},\"error_y\":{\"color\":\"#2a3f5f\"},\"marker\":{\"line\":{\"color\":\"#E5ECF6\",\"width\":0.5},\"pattern\":{\"fillmode\":\"overlay\",\"size\":10,\"solidity\":0.2}},\"type\":\"bar\"}],\"scattergeo\":[{\"type\":\"scattergeo\",\"marker\":{\"colorbar\":{\"outlinewidth\":0,\"ticks\":\"\"}}}],\"scatterpolar\":[{\"type\":\"scatterpolar\",\"marker\":{\"colorbar\":{\"outlinewidth\":0,\"ticks\":\"\"}}}],\"histogram\":[{\"marker\":{\"pattern\":{\"fillmode\":\"overlay\",\"size\":10,\"solidity\":0.2}},\"type\":\"histogram\"}],\"scattergl\":[{\"type\":\"scattergl\",\"marker\":{\"colorbar\":{\"outlinewidth\":0,\"ticks\":\"\"}}}],\"scatter3d\":[{\"type\":\"scatter3d\",\"line\":{\"colorbar\":{\"outlinewidth\":0,\"ticks\":\"\"}},\"marker\":{\"colorbar\":{\"outlinewidth\":0,\"ticks\":\"\"}}}],\"scattermapbox\":[{\"type\":\"scattermapbox\",\"marker\":{\"colorbar\":{\"outlinewidth\":0,\"ticks\":\"\"}}}],\"scatterternary\":[{\"type\":\"scatterternary\",\"marker\":{\"colorbar\":{\"outlinewidth\":0,\"ticks\":\"\"}}}],\"scattercarpet\":[{\"type\":\"scattercarpet\",\"marker\":{\"colorbar\":{\"outlinewidth\":0,\"ticks\":\"\"}}}],\"carpet\":[{\"aaxis\":{\"endlinecolor\":\"#2a3f5f\",\"gridcolor\":\"white\",\"linecolor\":\"white\",\"minorgridcolor\":\"white\",\"startlinecolor\":\"#2a3f5f\"},\"baxis\":{\"endlinecolor\":\"#2a3f5f\",\"gridcolor\":\"white\",\"linecolor\":\"white\",\"minorgridcolor\":\"white\",\"startlinecolor\":\"#2a3f5f\"},\"type\":\"carpet\"}],\"table\":[{\"cells\":{\"fill\":{\"color\":\"#EBF0F8\"},\"line\":{\"color\":\"white\"}},\"header\":{\"fill\":{\"color\":\"#C8D4E3\"},\"line\":{\"color\":\"white\"}},\"type\":\"table\"}],\"barpolar\":[{\"marker\":{\"line\":{\"color\":\"#E5ECF6\",\"width\":0.5},\"pattern\":{\"fillmode\":\"overlay\",\"size\":10,\"solidity\":0.2}},\"type\":\"barpolar\"}],\"pie\":[{\"automargin\":true,\"type\":\"pie\"}]},\"layout\":{\"autotypenumbers\":\"strict\",\"colorway\":[\"#636efa\",\"#EF553B\",\"#00cc96\",\"#ab63fa\",\"#FFA15A\",\"#19d3f3\",\"#FF6692\",\"#B6E880\",\"#FF97FF\",\"#FECB52\"],\"font\":{\"color\":\"#2a3f5f\"},\"hovermode\":\"closest\",\"hoverlabel\":{\"align\":\"left\"},\"paper_bgcolor\":\"white\",\"plot_bgcolor\":\"#E5ECF6\",\"polar\":{\"bgcolor\":\"#E5ECF6\",\"angularaxis\":{\"gridcolor\":\"white\",\"linecolor\":\"white\",\"ticks\":\"\"},\"radialaxis\":{\"gridcolor\":\"white\",\"linecolor\":\"white\",\"ticks\":\"\"}},\"ternary\":{\"bgcolor\":\"#E5ECF6\",\"aaxis\":{\"gridcolor\":\"white\",\"linecolor\":\"white\",\"ticks\":\"\"},\"baxis\":{\"gridcolor\":\"white\",\"linecolor\":\"white\",\"ticks\":\"\"},\"caxis\":{\"gridcolor\":\"white\",\"linecolor\":\"white\",\"ticks\":\"\"}},\"coloraxis\":{\"colorbar\":{\"outlinewidth\":0,\"ticks\":\"\"}},\"colorscale\":{\"sequential\":[[0.0,\"#0d0887\"],[0.1111111111111111,\"#46039f\"],[0.2222222222222222,\"#7201a8\"],[0.3333333333333333,\"#9c179e\"],[0.4444444444444444,\"#bd3786\"],[0.5555555555555556,\"#d8576b\"],[0.6666666666666666,\"#ed7953\"],[0.7777777777777778,\"#fb9f3a\"],[0.8888888888888888,\"#fdca26\"],[1.0,\"#f0f921\"]],\"sequentialminus\":[[0.0,\"#0d0887\"],[0.1111111111111111,\"#46039f\"],[0.2222222222222222,\"#7201a8\"],[0.3333333333333333,\"#9c179e\"],[0.4444444444444444,\"#bd3786\"],[0.5555555555555556,\"#d8576b\"],[0.6666666666666666,\"#ed7953\"],[0.7777777777777778,\"#fb9f3a\"],[0.8888888888888888,\"#fdca26\"],[1.0,\"#f0f921\"]],\"diverging\":[[0,\"#8e0152\"],[0.1,\"#c51b7d\"],[0.2,\"#de77ae\"],[0.3,\"#f1b6da\"],[0.4,\"#fde0ef\"],[0.5,\"#f7f7f7\"],[0.6,\"#e6f5d0\"],[0.7,\"#b8e186\"],[0.8,\"#7fbc41\"],[0.9,\"#4d9221\"],[1,\"#276419\"]]},\"xaxis\":{\"gridcolor\":\"white\",\"linecolor\":\"white\",\"ticks\":\"\",\"title\":{\"standoff\":15},\"zerolinecolor\":\"white\",\"automargin\":true,\"zerolinewidth\":2},\"yaxis\":{\"gridcolor\":\"white\",\"linecolor\":\"white\",\"ticks\":\"\",\"title\":{\"standoff\":15},\"zerolinecolor\":\"white\",\"automargin\":true,\"zerolinewidth\":2},\"scene\":{\"xaxis\":{\"backgroundcolor\":\"#E5ECF6\",\"gridcolor\":\"white\",\"linecolor\":\"white\",\"showbackground\":true,\"ticks\":\"\",\"zerolinecolor\":\"white\",\"gridwidth\":2},\"yaxis\":{\"backgroundcolor\":\"#E5ECF6\",\"gridcolor\":\"white\",\"linecolor\":\"white\",\"showbackground\":true,\"ticks\":\"\",\"zerolinecolor\":\"white\",\"gridwidth\":2},\"zaxis\":{\"backgroundcolor\":\"#E5ECF6\",\"gridcolor\":\"white\",\"linecolor\":\"white\",\"showbackground\":true,\"ticks\":\"\",\"zerolinecolor\":\"white\",\"gridwidth\":2}},\"shapedefaults\":{\"line\":{\"color\":\"#2a3f5f\"}},\"annotationdefaults\":{\"arrowcolor\":\"#2a3f5f\",\"arrowhead\":0,\"arrowwidth\":1},\"geo\":{\"bgcolor\":\"white\",\"landcolor\":\"#E5ECF6\",\"subunitcolor\":\"white\",\"showland\":true,\"showlakes\":true,\"lakecolor\":\"white\"},\"title\":{\"x\":0.05},\"mapbox\":{\"style\":\"light\"}}},\"scene\":{\"xaxis\":{\"title\":{\"text\":\"Method\"},\"tickvals\":[0,1,2,3,4,5,6,7,8,9,10,11,12,13,14,15,16,17,18,19,20,21,22,23,24,25],\"ticktext\":[1,2,3,4,5,6,7,8,9,10,11,12,13,14,15,16,17,18,19,20,21,22,23,24,25,26]},\"yaxis\":{\"title\":{\"text\":\"Dataset\"},\"tickvals\":[0,1,2,3,4,5,6,7,8,9,10,11,12,13,14,15,16,17,18,19,20,21,22,23,24,25,26,27,28,29,30,31,32,33,34],\"ticktext\":[\"556_analcatdata_apnea2\",\"631_fri_c1_500_5\",\"601_fri_c1_250_5\",\"519_vinnie\",\"485_analcatdata_vehicle\",\"613_fri_c3_250_5\",\"1030_ERA\",\"597_fri_c2_500_5\",\"712_chscase_geyser1\",\"1027_ESL\",\"523_analcatdata_neavote\",\"529_pollen\",\"599_fri_c2_1000_5\",\"596_fri_c2_250_5\",\"557_analcatdata_apnea1\",\"624_fri_c0_100_5\",\"663_rabe_266\",\"banana\",\"228_elusage\",\"579_fri_c0_250_5\",\"678_visualizing_environmental\",\"1096_FacultySalaries\",\"1029_LEV\",\"210_cloud\",\"594_fri_c2_100_5\",\"192_vineyard\",\"609_fri_c0_1000_5\",\"611_fri_c3_100_5\",\"649_fri_c0_500_5\",\"617_fri_c3_500_5\",\"656_fri_c1_100_5\",\"612_fri_c1_1000_5\",\"628_fri_c3_1000_5\",\"690_visualizing_galaxy\",\"687_sleuth_ex1605\"]},\"zaxis\":{\"title\":{\"text\":\"Relative Min Test Loss\"}}},\"title\":{\"text\":\"3D Scatter Plot of Relative Min Test Loss by Method and Dataset\"}},                        {\"responsive\": true}                    ).then(function(){\n",
       "                            \n",
       "var gd = document.getElementById('4547d568-381b-4634-a447-52b770ba0834');\n",
       "var x = new MutationObserver(function (mutations, observer) {{\n",
       "        var display = window.getComputedStyle(gd).display;\n",
       "        if (!display || display === 'none') {{\n",
       "            console.log([gd, 'removed!']);\n",
       "            Plotly.purge(gd);\n",
       "            observer.disconnect();\n",
       "        }}\n",
       "}});\n",
       "\n",
       "// Listen for the removal of the full notebook cells\n",
       "var notebookContainer = gd.closest('#notebook-container');\n",
       "if (notebookContainer) {{\n",
       "    x.observe(notebookContainer, {childList: true});\n",
       "}}\n",
       "\n",
       "// Listen for the clearing of the current output cell\n",
       "var outputEl = gd.closest('.output');\n",
       "if (outputEl) {{\n",
       "    x.observe(outputEl, {childList: true});\n",
       "}}\n",
       "\n",
       "                        })                };                });            </script>        </div>"
      ]
     },
     "metadata": {},
     "output_type": "display_data"
    }
   ],
   "source": [
    "import plotly.graph_objects as go\n",
    "\n",
    "# Assuming 'relative_min_val_test_loss' and 'dataset_names' are defined as before\n",
    "dataset_names = list(relative_min_val_test_loss.keys())\n",
    "\n",
    "# Finding methods across all datasets\n",
    "methods = list(set([method for dataset_vals in relative_min_val_test_loss.values() for method in dataset_vals.keys()]))\n",
    "\n",
    "# Initialize x, y, z for 3D scatter plot locations and test losses for color scale\n",
    "x, y, z, test_losses = [], [], [], []\n",
    "\n",
    "for i, dataset in enumerate(dataset_names):\n",
    "    for j, method in enumerate(methods):\n",
    "        loss = relative_min_val_test_loss[dataset].get(method)\n",
    "        if loss is not None:\n",
    "            x.append(j)  # method index\n",
    "            y.append(i)  # dataset index\n",
    "            z.append(loss)  # test loss\n",
    "            test_losses.append(loss)\n",
    "\n",
    "# Create 3D scatter plot with a continuous color scale\n",
    "fig = go.Figure(data=[go.Scatter3d(\n",
    "    x=x,\n",
    "    y=y,\n",
    "    z=z,\n",
    "    mode='markers',\n",
    "    marker=dict(\n",
    "        size=5,\n",
    "        color=test_losses,  # Assign color based on test loss\n",
    "        colorscale='Viridis',  # Choose a color scale\n",
    "        colorbar=dict(title='Test Loss'),\n",
    "        opacity=0.8\n",
    "    )\n",
    ")])\n",
    "\n",
    "# Customize layout\n",
    "fig.update_layout(\n",
    "    scene=dict(\n",
    "        xaxis=dict(title='Method', tickvals=list(range(len(methods))), ticktext=methods),\n",
    "        yaxis=dict(title='Dataset', tickvals=list(range(len(dataset_names))), ticktext=dataset_names),\n",
    "        zaxis=dict(title='Relative Min Test Loss')\n",
    "    ),\n",
    "    title='3D Scatter Plot of Relative Min Test Loss by Method and Dataset'\n",
    ")\n",
    "\n",
    "# Show the plot\n",
    "fig.show()\n",
    "\n",
    "\n"
   ]
  }
 ],
 "metadata": {
  "kernelspec": {
   "display_name": "Python 3 (ipykernel)",
   "language": "python",
   "name": "python3"
  },
  "language_info": {
   "codemirror_mode": {
    "name": "ipython",
    "version": 3
   },
   "file_extension": ".py",
   "mimetype": "text/x-python",
   "name": "python",
   "nbconvert_exporter": "python",
   "pygments_lexer": "ipython3",
   "version": "3.11.6"
  }
 },
 "nbformat": 4,
 "nbformat_minor": 4
}
