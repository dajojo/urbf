{
 "cells": [
  {
   "cell_type": "markdown",
   "id": "8caf1037",
   "metadata": {},
   "source": [
    "## Simple URBF Layer indicates good performance"
   ]
  },
  {
   "cell_type": "code",
   "execution_count": 15,
   "id": "3e669681",
   "metadata": {
    "code_folding": [],
    "scrolled": true
   },
   "outputs": [
    {
     "name": "stderr",
     "output_type": "stream",
     "text": [
      "/opt/homebrew/lib/python3.11/site-packages/ipywidgets/widgets/widget.py:438: DeprecationWarning:\n",
      "\n",
      "The `ipykernel.comm.Comm` class has been deprecated. Please use the `comm` module instead.For creating comms, use the function `from comm import create_comm`.\n",
      "\n",
      "/opt/homebrew/lib/python3.11/site-packages/ipywidgets/widgets/widget.py:438: DeprecationWarning:\n",
      "\n",
      "The `ipykernel.comm.Comm` class has been deprecated. Please use the `comm` module instead.For creating comms, use the function `from comm import create_comm`.\n",
      "\n"
     ]
    },
    {
     "data": {
      "application/vnd.jupyter.widget-view+json": {
       "model_id": "d7a9dffa6e1c43b0a2b4ba08858cc3d1",
       "version_major": 2,
       "version_minor": 0
      },
      "text/plain": [
       "ExperimentDataLoaderWidget(children=(Box(children=(Button(description='Update Descriptions', layout=Layout(hei…"
      ]
     },
     "metadata": {},
     "output_type": "display_data"
    },
    {
     "name": "stderr",
     "output_type": "stream",
     "text": [
      "/opt/homebrew/lib/python3.11/site-packages/exputils/data/loading.py:185: UserWarning:\n",
      "\n",
      "Could not find data for repetition 0 of experiment '000011' ('01_gaussians_regression/experiments/experiment_000011'). Skipped ...\n",
      "\n",
      "/opt/homebrew/lib/python3.11/site-packages/exputils/data/loading.py:185: UserWarning:\n",
      "\n",
      "Could not find data for repetition 1 of experiment '000011' ('01_gaussians_regression/experiments/experiment_000011'). Skipped ...\n",
      "\n",
      "/opt/homebrew/lib/python3.11/site-packages/exputils/data/loading.py:185: UserWarning:\n",
      "\n",
      "Could not find data for repetition 2 of experiment '000011' ('01_gaussians_regression/experiments/experiment_000011'). Skipped ...\n",
      "\n",
      "/opt/homebrew/lib/python3.11/site-packages/exputils/data/loading.py:185: UserWarning:\n",
      "\n",
      "Could not find data for repetition 3 of experiment '000011' ('01_gaussians_regression/experiments/experiment_000011'). Skipped ...\n",
      "\n",
      "/opt/homebrew/lib/python3.11/site-packages/exputils/data/loading.py:185: UserWarning:\n",
      "\n",
      "Could not find data for repetition 0 of experiment '000012' ('01_gaussians_regression/experiments/experiment_000012'). Skipped ...\n",
      "\n",
      "/opt/homebrew/lib/python3.11/site-packages/exputils/data/loading.py:185: UserWarning:\n",
      "\n",
      "Could not find data for repetition 1 of experiment '000012' ('01_gaussians_regression/experiments/experiment_000012'). Skipped ...\n",
      "\n",
      "/opt/homebrew/lib/python3.11/site-packages/exputils/data/loading.py:185: UserWarning:\n",
      "\n",
      "Could not find data for repetition 2 of experiment '000012' ('01_gaussians_regression/experiments/experiment_000012'). Skipped ...\n",
      "\n",
      "/opt/homebrew/lib/python3.11/site-packages/exputils/data/loading.py:185: UserWarning:\n",
      "\n",
      "Could not find data for repetition 3 of experiment '000012' ('01_gaussians_regression/experiments/experiment_000012'). Skipped ...\n",
      "\n",
      "/opt/homebrew/lib/python3.11/site-packages/exputils/data/loading.py:185: UserWarning:\n",
      "\n",
      "Could not find data for repetition 0 of experiment '000013' ('01_gaussians_regression/experiments/experiment_000013'). Skipped ...\n",
      "\n",
      "/opt/homebrew/lib/python3.11/site-packages/exputils/data/loading.py:185: UserWarning:\n",
      "\n",
      "Could not find data for repetition 1 of experiment '000013' ('01_gaussians_regression/experiments/experiment_000013'). Skipped ...\n",
      "\n",
      "/opt/homebrew/lib/python3.11/site-packages/exputils/data/loading.py:185: UserWarning:\n",
      "\n",
      "Could not find data for repetition 2 of experiment '000013' ('01_gaussians_regression/experiments/experiment_000013'). Skipped ...\n",
      "\n",
      "/opt/homebrew/lib/python3.11/site-packages/exputils/data/loading.py:185: UserWarning:\n",
      "\n",
      "Could not find data for repetition 3 of experiment '000013' ('01_gaussians_regression/experiments/experiment_000013'). Skipped ...\n",
      "\n",
      "/opt/homebrew/lib/python3.11/site-packages/exputils/data/loading.py:185: UserWarning:\n",
      "\n",
      "Could not find data for repetition 0 of experiment '000014' ('01_gaussians_regression/experiments/experiment_000014'). Skipped ...\n",
      "\n",
      "/opt/homebrew/lib/python3.11/site-packages/exputils/data/loading.py:185: UserWarning:\n",
      "\n",
      "Could not find data for repetition 1 of experiment '000014' ('01_gaussians_regression/experiments/experiment_000014'). Skipped ...\n",
      "\n",
      "/opt/homebrew/lib/python3.11/site-packages/exputils/data/loading.py:185: UserWarning:\n",
      "\n",
      "Could not find data for repetition 2 of experiment '000014' ('01_gaussians_regression/experiments/experiment_000014'). Skipped ...\n",
      "\n",
      "/opt/homebrew/lib/python3.11/site-packages/exputils/data/loading.py:185: UserWarning:\n",
      "\n",
      "Could not find data for repetition 3 of experiment '000014' ('01_gaussians_regression/experiments/experiment_000014'). Skipped ...\n",
      "\n",
      "/opt/homebrew/lib/python3.11/site-packages/exputils/data/loading.py:185: UserWarning:\n",
      "\n",
      "Could not find data for repetition 0 of experiment '000015' ('01_gaussians_regression/experiments/experiment_000015'). Skipped ...\n",
      "\n",
      "/opt/homebrew/lib/python3.11/site-packages/exputils/data/loading.py:185: UserWarning:\n",
      "\n",
      "Could not find data for repetition 1 of experiment '000015' ('01_gaussians_regression/experiments/experiment_000015'). Skipped ...\n",
      "\n",
      "/opt/homebrew/lib/python3.11/site-packages/exputils/data/loading.py:185: UserWarning:\n",
      "\n",
      "Could not find data for repetition 2 of experiment '000015' ('01_gaussians_regression/experiments/experiment_000015'). Skipped ...\n",
      "\n",
      "/opt/homebrew/lib/python3.11/site-packages/exputils/data/loading.py:185: UserWarning:\n",
      "\n",
      "Could not find data for repetition 3 of experiment '000015' ('01_gaussians_regression/experiments/experiment_000015'). Skipped ...\n",
      "\n",
      "/opt/homebrew/lib/python3.11/site-packages/exputils/data/loading.py:185: UserWarning:\n",
      "\n",
      "Could not find data for repetition 0 of experiment '000016' ('01_gaussians_regression/experiments/experiment_000016'). Skipped ...\n",
      "\n",
      "/opt/homebrew/lib/python3.11/site-packages/exputils/data/loading.py:185: UserWarning:\n",
      "\n",
      "Could not find data for repetition 1 of experiment '000016' ('01_gaussians_regression/experiments/experiment_000016'). Skipped ...\n",
      "\n",
      "/opt/homebrew/lib/python3.11/site-packages/exputils/data/loading.py:185: UserWarning:\n",
      "\n",
      "Could not find data for repetition 2 of experiment '000016' ('01_gaussians_regression/experiments/experiment_000016'). Skipped ...\n",
      "\n",
      "/opt/homebrew/lib/python3.11/site-packages/exputils/data/loading.py:185: UserWarning:\n",
      "\n",
      "Could not find data for repetition 3 of experiment '000016' ('01_gaussians_regression/experiments/experiment_000016'). Skipped ...\n",
      "\n"
     ]
    }
   ],
   "source": [
    "# Load 01 Experiment Data\n",
    "import exputils as eu\n",
    "import numpy as np\n",
    "import os\n",
    "\n",
    "\n",
    "config = eu.AttrDict(\n",
    "    experiments_directory=os.path.join(\"01_gaussians_regression/\", eu.DEFAULT_EXPERIMENTS_DIRECTORY)\n",
    ")\n",
    "experiment_data_loader = eu.gui.jupyter.ExperimentDataLoaderWidget(config=config)\n",
    "display(experiment_data_loader)\n",
    "experiment_data_loader.load_data()"
   ]
  },
  {
   "cell_type": "code",
   "execution_count": 7,
   "id": "c292ac76",
   "metadata": {
    "code_folding": [],
    "scrolled": false
   },
   "outputs": [
    {
     "data": {
      "application/vnd.jupyter.widget-view+json": {
       "model_id": "b9e516ad17f94ed2a35a7204a8d6d184",
       "version_major": 2,
       "version_minor": 0
      },
      "text/plain": [
       "ExperimentDataPlotSelectionWidget(children=(HBox(children=(Label(value='Data Sources:', layout=Layout(min_widt…"
      ]
     },
     "metadata": {},
     "output_type": "display_data"
    },
    {
     "data": {
      "application/vnd.jupyter.widget-view+json": {
       "model_id": "eeebe7c3497b4f2f85813f68a67bc83c",
       "version_major": 2,
       "version_minor": 0
      },
      "text/plain": [
       "Output()"
      ]
     },
     "metadata": {},
     "output_type": "display_data"
    }
   ],
   "source": [
    "# experiment data selection plotter that takes as input the data loader to plot its loaded data\n",
    "experiment_data_plotter = eu.gui.jupyter.ExperimentDataPlotSelectionWidget(experiment_data_loader)\n",
    "display(experiment_data_plotter)"
   ]
  },
  {
   "cell_type": "markdown",
   "id": "eeb2e758",
   "metadata": {},
   "source": [
    "## Polynomial Regression"
   ]
  },
  {
   "cell_type": "code",
   "execution_count": 21,
   "id": "0d7734a0",
   "metadata": {},
   "outputs": [
    {
     "name": "stdout",
     "output_type": "stream",
     "text": [
      "experiments\n",
      "True\n",
      "./10_polynomial_regression_few_samples/experiments\n"
     ]
    },
    {
     "name": "stderr",
     "output_type": "stream",
     "text": [
      "/opt/homebrew/lib/python3.11/site-packages/ipywidgets/widgets/widget.py:438: DeprecationWarning:\n",
      "\n",
      "The `ipykernel.comm.Comm` class has been deprecated. Please use the `comm` module instead.For creating comms, use the function `from comm import create_comm`.\n",
      "\n",
      "/opt/homebrew/lib/python3.11/site-packages/ipywidgets/widgets/widget.py:438: DeprecationWarning:\n",
      "\n",
      "The `ipykernel.comm.Comm` class has been deprecated. Please use the `comm` module instead.For creating comms, use the function `from comm import create_comm`.\n",
      "\n"
     ]
    },
    {
     "data": {
      "application/vnd.jupyter.widget-view+json": {
       "model_id": "4ed225a8901645abba838aaacb31a714",
       "version_major": 2,
       "version_minor": 0
      },
      "text/plain": [
       "ExperimentDataLoaderWidget(children=(Box(children=(Button(description='Update Descriptions', layout=Layout(hei…"
      ]
     },
     "metadata": {},
     "output_type": "display_data"
    }
   ],
   "source": [
    "import exputils as eu\n",
    "import numpy as np\n",
    "import os\n",
    "\n",
    "print(eu.DEFAULT_EXPERIMENTS_DIRECTORY)\n",
    "exp_dir = os.path.join(\"./10_polynomial_regression_few_samples/\", eu.DEFAULT_EXPERIMENTS_DIRECTORY)\n",
    "\n",
    "print(os.path.exists(exp_dir))\n",
    "\n",
    "print(exp_dir)\n",
    "config = eu.AttrDict(\n",
    "    experiments_directory=exp_dir\n",
    ")\n",
    "poly_experiment_data_loader = eu.gui.jupyter.ExperimentDataLoaderWidget(config=config)\n",
    "display(poly_experiment_data_loader)\n",
    "poly_experiment_data_loader.load_data()"
   ]
  },
  {
   "cell_type": "code",
   "execution_count": null,
   "id": "90ea901b",
   "metadata": {},
   "outputs": [],
   "source": []
  },
  {
   "cell_type": "code",
   "execution_count": 13,
   "id": "d70956ad",
   "metadata": {},
   "outputs": [
    {
     "name": "stderr",
     "output_type": "stream",
     "text": [
      "/opt/homebrew/lib/python3.11/site-packages/ipywidgets/widgets/widget.py:412: DeprecationWarning:\n",
      "\n",
      "Passing unrecognized arguments to super(CodeProducerWidget).__init__(cildren=[]).\n",
      "object.__init__() takes exactly one argument (the instance to initialize)\n",
      "This is deprecated in traitlets 4.2.This error will be raised in a future release of traitlets.\n",
      "\n"
     ]
    },
    {
     "data": {
      "application/vnd.jupyter.widget-view+json": {
       "model_id": "094b0bdac7b6477f8e551636f76957ac",
       "version_major": 2,
       "version_minor": 0
      },
      "text/plain": [
       "ExperimentDataPlotSelectionWidget(children=(HBox(children=(Label(value='Data Sources:', layout=Layout(min_widt…"
      ]
     },
     "metadata": {},
     "output_type": "display_data"
    },
    {
     "data": {
      "application/vnd.jupyter.widget-view+json": {
       "model_id": "4322c625e3414be78420f3949442eda9",
       "version_major": 2,
       "version_minor": 0
      },
      "text/plain": [
       "Output()"
      ]
     },
     "metadata": {},
     "output_type": "display_data"
    }
   ],
   "source": [
    "# experiment data selection plotter that takes as input the data loader to plot its loaded data\n",
    "experiment_data_plotter = eu.gui.jupyter.ExperimentDataPlotSelectionWidget(poly_experiment_data_loader)\n",
    "display(experiment_data_plotter)"
   ]
  },
  {
   "cell_type": "markdown",
   "id": "bf4b9471",
   "metadata": {},
   "source": [
    "## Michelewicz Regression\n",
    "![https://www.sfu.ca/~ssurjano/michal.png](https://www.sfu.ca/~ssurjano/michal.png)"
   ]
  },
  {
   "cell_type": "code",
   "execution_count": null,
   "id": "fccd4fea",
   "metadata": {},
   "outputs": [],
   "source": []
  },
  {
   "cell_type": "code",
   "execution_count": null,
   "id": "15e49b0a",
   "metadata": {},
   "outputs": [],
   "source": []
  }
 ],
 "metadata": {
  "kernelspec": {
   "display_name": "Python 3 (ipykernel)",
   "language": "python",
   "name": "python3"
  },
  "language_info": {
   "codemirror_mode": {
    "name": "ipython",
    "version": 3
   },
   "file_extension": ".py",
   "mimetype": "text/x-python",
   "name": "python",
   "nbconvert_exporter": "python",
   "pygments_lexer": "ipython3",
   "version": "3.11.6"
  }
 },
 "nbformat": 4,
 "nbformat_minor": 5
}
