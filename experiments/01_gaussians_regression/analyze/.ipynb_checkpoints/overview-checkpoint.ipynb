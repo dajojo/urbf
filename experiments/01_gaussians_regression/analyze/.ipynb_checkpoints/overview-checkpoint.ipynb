{
 "cells": [
  {
   "cell_type": "markdown",
   "metadata": {},
   "source": [
    "# Loading the Data"
   ]
  },
  {
   "cell_type": "markdown",
   "metadata": {},
   "source": [
    "Loading the data with help of the `ExperimentDataLoaderWidget`. \n",
    "\n",
    "You can select which experiments to load, define a different name (the 'name' field, not the 'short name' field) and resort the data. The name and the order of the experiments influence the legends of the plots.\n",
    "\n",
    "Here we also compute an extra statistic, the total reward of each experiment / repetition, using the custom `cal_total_reward` function.\n",
    "\n",
    "You have to press the 'Load Data' button to load the data.\n",
    "\n",
    "If you don't see a table with the experiments, then you might not have installed the required qgrid widget. Please see the installation instructions on the main page of the exputils. "
   ]
  },
  {
   "cell_type": "code",
   "execution_count": 1,
   "metadata": {
    "code_folding": []
   },
   "outputs": [
    {
     "data": {
      "application/vnd.jupyter.widget-view+json": {
       "model_id": "13d2fbc3e193451b964f8d3a74d1b15c",
       "version_major": 2,
       "version_minor": 0
      },
      "text/plain": [
       "ExperimentDataLoaderWidget(children=(Box(children=(Button(description='Update Descriptions', layout=Layout(hei…"
      ]
     },
     "metadata": {},
     "output_type": "display_data"
    },
    {
     "name": "stderr",
     "output_type": "stream",
     "text": [
      "/opt/homebrew/lib/python3.11/site-packages/exputils/data/loading.py:185: UserWarning: Could not find data for repetition 0 of experiment '000001' ('../experiments/experiment_000001'). Skipped ...\n",
      "  warnings.warn('Could not find data for repetition {} of experiment {!r} ({!r}). Skipped ...'.format(rep_id, exp_id, exp_descr['directory']))\n",
      "/opt/homebrew/lib/python3.11/site-packages/exputils/data/loading.py:185: UserWarning: Could not find data for repetition 1 of experiment '000001' ('../experiments/experiment_000001'). Skipped ...\n",
      "  warnings.warn('Could not find data for repetition {} of experiment {!r} ({!r}). Skipped ...'.format(rep_id, exp_id, exp_descr['directory']))\n",
      "/opt/homebrew/lib/python3.11/site-packages/exputils/data/loading.py:185: UserWarning: Could not find data for repetition 2 of experiment '000001' ('../experiments/experiment_000001'). Skipped ...\n",
      "  warnings.warn('Could not find data for repetition {} of experiment {!r} ({!r}). Skipped ...'.format(rep_id, exp_id, exp_descr['directory']))\n",
      "/opt/homebrew/lib/python3.11/site-packages/exputils/data/loading.py:185: UserWarning: Could not find data for repetition 3 of experiment '000001' ('../experiments/experiment_000001'). Skipped ...\n",
      "  warnings.warn('Could not find data for repetition {} of experiment {!r} ({!r}). Skipped ...'.format(rep_id, exp_id, exp_descr['directory']))\n",
      "/opt/homebrew/lib/python3.11/site-packages/exputils/data/loading.py:185: UserWarning: Could not find data for repetition 4 of experiment '000001' ('../experiments/experiment_000001'). Skipped ...\n",
      "  warnings.warn('Could not find data for repetition {} of experiment {!r} ({!r}). Skipped ...'.format(rep_id, exp_id, exp_descr['directory']))\n",
      "/opt/homebrew/lib/python3.11/site-packages/exputils/data/loading.py:185: UserWarning: Could not find data for repetition 5 of experiment '000001' ('../experiments/experiment_000001'). Skipped ...\n",
      "  warnings.warn('Could not find data for repetition {} of experiment {!r} ({!r}). Skipped ...'.format(rep_id, exp_id, exp_descr['directory']))\n",
      "/opt/homebrew/lib/python3.11/site-packages/exputils/data/loading.py:185: UserWarning: Could not find data for repetition 6 of experiment '000001' ('../experiments/experiment_000001'). Skipped ...\n",
      "  warnings.warn('Could not find data for repetition {} of experiment {!r} ({!r}). Skipped ...'.format(rep_id, exp_id, exp_descr['directory']))\n",
      "/opt/homebrew/lib/python3.11/site-packages/exputils/data/loading.py:185: UserWarning: Could not find data for repetition 7 of experiment '000001' ('../experiments/experiment_000001'). Skipped ...\n",
      "  warnings.warn('Could not find data for repetition {} of experiment {!r} ({!r}). Skipped ...'.format(rep_id, exp_id, exp_descr['directory']))\n",
      "/opt/homebrew/lib/python3.11/site-packages/exputils/data/loading.py:185: UserWarning: Could not find data for repetition 8 of experiment '000001' ('../experiments/experiment_000001'). Skipped ...\n",
      "  warnings.warn('Could not find data for repetition {} of experiment {!r} ({!r}). Skipped ...'.format(rep_id, exp_id, exp_descr['directory']))\n",
      "/opt/homebrew/lib/python3.11/site-packages/exputils/data/loading.py:185: UserWarning: Could not find data for repetition 9 of experiment '000001' ('../experiments/experiment_000001'). Skipped ...\n",
      "  warnings.warn('Could not find data for repetition {} of experiment {!r} ({!r}). Skipped ...'.format(rep_id, exp_id, exp_descr['directory']))\n",
      "/opt/homebrew/lib/python3.11/site-packages/exputils/data/loading.py:185: UserWarning: Could not find data for repetition 0 of experiment '000002' ('../experiments/experiment_000002'). Skipped ...\n",
      "  warnings.warn('Could not find data for repetition {} of experiment {!r} ({!r}). Skipped ...'.format(rep_id, exp_id, exp_descr['directory']))\n",
      "/opt/homebrew/lib/python3.11/site-packages/exputils/data/loading.py:185: UserWarning: Could not find data for repetition 1 of experiment '000002' ('../experiments/experiment_000002'). Skipped ...\n",
      "  warnings.warn('Could not find data for repetition {} of experiment {!r} ({!r}). Skipped ...'.format(rep_id, exp_id, exp_descr['directory']))\n",
      "/opt/homebrew/lib/python3.11/site-packages/exputils/data/loading.py:185: UserWarning: Could not find data for repetition 2 of experiment '000002' ('../experiments/experiment_000002'). Skipped ...\n",
      "  warnings.warn('Could not find data for repetition {} of experiment {!r} ({!r}). Skipped ...'.format(rep_id, exp_id, exp_descr['directory']))\n",
      "/opt/homebrew/lib/python3.11/site-packages/exputils/data/loading.py:185: UserWarning: Could not find data for repetition 3 of experiment '000002' ('../experiments/experiment_000002'). Skipped ...\n",
      "  warnings.warn('Could not find data for repetition {} of experiment {!r} ({!r}). Skipped ...'.format(rep_id, exp_id, exp_descr['directory']))\n",
      "/opt/homebrew/lib/python3.11/site-packages/exputils/data/loading.py:185: UserWarning: Could not find data for repetition 4 of experiment '000002' ('../experiments/experiment_000002'). Skipped ...\n",
      "  warnings.warn('Could not find data for repetition {} of experiment {!r} ({!r}). Skipped ...'.format(rep_id, exp_id, exp_descr['directory']))\n",
      "/opt/homebrew/lib/python3.11/site-packages/exputils/data/loading.py:185: UserWarning: Could not find data for repetition 5 of experiment '000002' ('../experiments/experiment_000002'). Skipped ...\n",
      "  warnings.warn('Could not find data for repetition {} of experiment {!r} ({!r}). Skipped ...'.format(rep_id, exp_id, exp_descr['directory']))\n",
      "/opt/homebrew/lib/python3.11/site-packages/exputils/data/loading.py:185: UserWarning: Could not find data for repetition 6 of experiment '000002' ('../experiments/experiment_000002'). Skipped ...\n",
      "  warnings.warn('Could not find data for repetition {} of experiment {!r} ({!r}). Skipped ...'.format(rep_id, exp_id, exp_descr['directory']))\n",
      "/opt/homebrew/lib/python3.11/site-packages/exputils/data/loading.py:185: UserWarning: Could not find data for repetition 7 of experiment '000002' ('../experiments/experiment_000002'). Skipped ...\n",
      "  warnings.warn('Could not find data for repetition {} of experiment {!r} ({!r}). Skipped ...'.format(rep_id, exp_id, exp_descr['directory']))\n",
      "/opt/homebrew/lib/python3.11/site-packages/exputils/data/loading.py:185: UserWarning: Could not find data for repetition 8 of experiment '000002' ('../experiments/experiment_000002'). Skipped ...\n",
      "  warnings.warn('Could not find data for repetition {} of experiment {!r} ({!r}). Skipped ...'.format(rep_id, exp_id, exp_descr['directory']))\n",
      "/opt/homebrew/lib/python3.11/site-packages/exputils/data/loading.py:185: UserWarning: Could not find data for repetition 9 of experiment '000002' ('../experiments/experiment_000002'). Skipped ...\n",
      "  warnings.warn('Could not find data for repetition {} of experiment {!r} ({!r}). Skipped ...'.format(rep_id, exp_id, exp_descr['directory']))\n"
     ]
    }
   ],
   "source": [
    "# load data\n",
    "\n",
    "# import the experiment utilities package\n",
    "import exputils as eu\n",
    "import numpy as np\n",
    "\n",
    "def cal_total_reward(event_descr):\n",
    "    \n",
    "    experiment_data = event_descr['owner'].experiment_data\n",
    "    \n",
    "    for single_exp_data in experiment_data.values():\n",
    "        for single_rep_data in single_exp_data.repetition_data.values():\n",
    "            \n",
    "            single_rep_data.total_reward = np.nansum(single_rep_data.reward_per_episode)     \n",
    "\n",
    "\n",
    "\n",
    "# create an experiment data loader, by default it will load data from '../experiments'\n",
    "experiment_data_loader = eu.gui.jupyter.ExperimentDataLoaderWidget()\n",
    "\n",
    "# add calculatation of extra statistics \n",
    "experiment_data_loader.on_experiment_data_loaded(cal_total_reward)\n",
    "\n",
    "display(experiment_data_loader)\n",
    "experiment_data_loader.load_data()"
   ]
  },
  {
   "cell_type": "markdown",
   "metadata": {},
   "source": [
    "We can access the data via the `experiment_data` property of the `ExperimentDataLoaderWidget`.\n",
    "\n",
    "The data is composed of dictionaries that hold the individual data for each repetition."
   ]
  },
  {
   "cell_type": "code",
   "execution_count": null,
   "metadata": {},
   "outputs": [],
   "source": [
    "print(experiment_data_loader.experiment_data)"
   ]
  },
  {
   "cell_type": "markdown",
   "metadata": {},
   "source": [
    "# Plotting the Data"
   ]
  },
  {
   "cell_type": "markdown",
   "metadata": {},
   "source": [
    "The exputils have several builtin plotting functions. These can be accessed via the `ExperimentDataPlotSelectionWidget`.\n",
    "\n",
    "Write in the 'Data Sources' field which data you would like to plot. Then you can select a plotting function and change its configuration.\n",
    "\n",
    "Examples: \n",
    " * plotting the 'reward_per_episode' with the 'plotly_meanstd_scatter' plotter shows the performance of each experiment in a line graph\n",
    " * plotting the 'total_reward' with the 'plotly_box' or 'plotly_meanstd_bar' compares the total reward that was collected during each reward\n",
    " \n",
    "If you want to 'save' a plot, to use it later again, then use the code production to generate a cell below the `ExperimentDataPlotSelectionWidget` that has the code to plot the figure again. The cells in the subchapters 'Total Reward' and 'Reward per Episode' at the end of this notebook were generated by this method. After saving the jupyter notebook all your configurations will be saved."
   ]
  },
  {
   "cell_type": "code",
   "execution_count": null,
   "metadata": {
    "code_folding": [],
    "scrolled": false
   },
   "outputs": [],
   "source": [
    "# experiment data selection plotter that takes as input the data loader to plot its loaded data\n",
    "experiment_data_plotter = eu.gui.jupyter.ExperimentDataPlotSelectionWidget(experiment_data_loader)\n",
    "display(experiment_data_plotter)"
   ]
  },
  {
   "cell_type": "markdown",
   "metadata": {},
   "source": [
    "## Total Reward"
   ]
  },
  {
   "cell_type": "code",
   "execution_count": null,
   "metadata": {
    "code_folding": [
     0,
     5
    ]
   },
   "outputs": [],
   "source": [
    "# Plotting of ['total_reward'] \n",
    "import exputils as eu\n",
    "from exputils.gui.jupyter.plotly_box import plotly_box\n",
    "\n",
    "plot_config = eu.AttrDict(\n",
    "layout = dict(\n",
    "    xaxis = dict(\n",
    "        title = '', \n",
    "        range = [None, None]\n",
    "        ),\n",
    "    yaxis = dict(\n",
    "        title = 'reward', \n",
    "        range = [None,None]\n",
    "        )\n",
    "    ))\n",
    "\n",
    "selection_widget = eu.gui.jupyter.ExperimentDataPlotSelectionWidget(experiment_data_loader, datasources=['total_reward'], experiment_ids='all', repetition_ids='all', output_format=('S', 'E', 'D'), data_filter='', plot_function=plotly_box, plot_function_config=plot_config, state_backup_name='state_backup_29019497', state_backup_variable_filter=['experiment_ids', 'repetition_ids'], is_datasources_selection=False, is_output_format_selection=False, is_data_filter_selection=False, is_plot_function_selection=False, is_plot_function_config_editor=False, is_code_producer=False)\n",
    "display(selection_widget)\n",
    "selection_widget.plot_data()"
   ]
  },
  {
   "cell_type": "markdown",
   "metadata": {},
   "source": [
    "## Reward per Episode "
   ]
  },
  {
   "cell_type": "code",
   "execution_count": null,
   "metadata": {
    "code_folding": [
     0
    ]
   },
   "outputs": [],
   "source": [
    "# Plotting of ['reward_per_episode'] \n",
    "import exputils as eu\n",
    "from exputils.gui.jupyter.plotly_meanstd_scatter import plotly_meanstd_scatter\n",
    "\n",
    "plot_config = eu.AttrDict(\n",
    "layout = dict(\n",
    "    xaxis = dict(\n",
    "        title = 'episode', \n",
    "        range = [None, None]),\n",
    "    yaxis = dict(\n",
    "        title = 'reward', \n",
    "        range = [None, None]),\n",
    "    ),\n",
    "    moving_average = dict(\n",
    "        n=1),\n",
    "    default_group_label = 'rep <group_idx>')\n",
    "\n",
    "selection_widget = eu.gui.jupyter.ExperimentDataPlotSelectionWidget(experiment_data_loader, datasources=['reward_per_episode'], experiment_ids='all', repetition_ids='all', output_format=('S', 'E', 'D'), data_filter='', plot_function=plotly_meanstd_scatter, plot_function_config=plot_config, state_backup_name='state_backup_35894867', state_backup_variable_filter=['experiment_ids', 'repetition_ids'], is_datasources_selection=False, is_output_format_selection=False, is_data_filter_selection=False, is_plot_function_selection=False, is_plot_function_config_editor=False, is_code_producer=False)\n",
    "display(selection_widget)\n",
    "selection_widget.plot_data()"
   ]
  }
 ],
 "metadata": {
  "kernelspec": {
   "display_name": "Python 3 (ipykernel)",
   "language": "python",
   "name": "python3"
  },
  "language_info": {
   "codemirror_mode": {
    "name": "ipython",
    "version": 3
   },
   "file_extension": ".py",
   "mimetype": "text/x-python",
   "name": "python",
   "nbconvert_exporter": "python",
   "pygments_lexer": "ipython3",
   "version": "3.11.6"
  }
 },
 "nbformat": 4,
 "nbformat_minor": 4
}
