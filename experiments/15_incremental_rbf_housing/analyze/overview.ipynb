{
 "cells": [
  {
   "cell_type": "markdown",
   "metadata": {},
   "source": [
    "# Loading the Data"
   ]
  },
  {
   "cell_type": "code",
   "execution_count": 1,
   "metadata": {
    "code_folding": [],
    "scrolled": false
   },
   "outputs": [
    {
     "data": {
      "application/vnd.jupyter.widget-view+json": {
       "model_id": "a4db68c4673b4d1ea31d4e6b24201f30",
       "version_major": 2,
       "version_minor": 0
      },
      "text/plain": [
       "ExperimentDataLoaderWidget(children=(Box(children=(Button(description='Update Descriptions', layout=Layout(hei…"
      ]
     },
     "metadata": {},
     "output_type": "display_data"
    },
    {
     "data": {
      "application/vnd.jupyter.widget-view+json": {
       "model_id": "ca399f51d0924b3283f5bb9cdbfbb5e6",
       "version_major": 2,
       "version_minor": 0
      },
      "text/plain": [
       "Output()"
      ]
     },
     "metadata": {},
     "output_type": "display_data"
    }
   ],
   "source": [
    "#### load data\n",
    "\n",
    "\n",
    "\n",
    "# import the experiment utilities package\n",
    "import exputils as eu\n",
    "import numpy as np\n",
    "\n",
    "\n",
    "# create an experiment data loader, by default it will load data from '../experiments'\n",
    "experiment_data_loader = eu.gui.jupyter.ExperimentDataLoaderWidget()\n",
    "\n",
    "\n",
    "display(experiment_data_loader)\n",
    "experiment_data_loader.load_data()"
   ]
  },
  {
   "cell_type": "markdown",
   "metadata": {},
   "source": [
    "# Plotting the Data"
   ]
  },
  {
   "cell_type": "code",
   "execution_count": 2,
   "metadata": {
    "code_folding": [],
    "scrolled": false
   },
   "outputs": [
    {
     "data": {
      "application/vnd.jupyter.widget-view+json": {
       "model_id": "d5c9bce43bd84aedaaddc90578cd0e07",
       "version_major": 2,
       "version_minor": 0
      },
      "text/plain": [
       "ExperimentDataPlotSelectionWidget(children=(HBox(children=(Label(value='Data Sources:', layout=Layout(min_widt…"
      ]
     },
     "metadata": {},
     "output_type": "display_data"
    },
    {
     "data": {
      "application/vnd.jupyter.widget-view+json": {
       "model_id": "2bea1e8b8afc4ee9b6d102816d0fc9bd",
       "version_major": 2,
       "version_minor": 0
      },
      "text/plain": [
       "Output()"
      ]
     },
     "metadata": {},
     "output_type": "display_data"
    }
   ],
   "source": [
    "# experiment data selection plotter that takes as input the data loader to plot its loaded data\n",
    "experiment_data_plotter = eu.gui.jupyter.ExperimentDataPlotSelectionWidget(experiment_data_loader)\n",
    "display(experiment_data_plotter)"
   ]
  },
  {
   "cell_type": "markdown",
   "metadata": {},
   "source": [
    "# Test Loss"
   ]
  },
  {
   "cell_type": "code",
   "execution_count": 5,
   "metadata": {
    "code_folding": [
     0
    ]
   },
   "outputs": [
    {
     "data": {
      "application/vnd.jupyter.widget-view+json": {
       "model_id": "c3a192c43c914fc9bc4d10b62c60f665",
       "version_major": 2,
       "version_minor": 0
      },
      "text/plain": [
       "ExperimentDataPlotSelectionWidget(children=(HBox(children=(Label(value='Experiments:', layout=Layout(min_width…"
      ]
     },
     "metadata": {},
     "output_type": "display_data"
    },
    {
     "data": {
      "application/vnd.jupyter.widget-view+json": {
       "model_id": "7d183753a21a4a8ca96de81a932a1f3b",
       "version_major": 2,
       "version_minor": 0
      },
      "text/plain": [
       "Output()"
      ]
     },
     "metadata": {},
     "output_type": "display_data"
    }
   ],
   "source": [
    "# Plotting of ['test_loss'] \n",
    "import exputils as eu\n",
    "from exputils.gui.jupyter.plotly_meanstd_scatter import plotly_meanstd_scatter\n",
    "\n",
    "plot_config = eu.AttrDict(\n",
    "layout = dict(\n",
    "    xaxis = dict(\n",
    "        title = '', \n",
    "        range = [None, None]),\n",
    "    yaxis = dict(\n",
    "        title = '', \n",
    "        range = [None, None]),\n",
    "),\n",
    "moving_average = dict(\n",
    "    n = 1\n",
    "),\n",
    "data_filter = dict(\n",
    "    every_nth_step = dict(\n",
    "        step = 1,\n",
    "        include_final_step = False\n",
    "    ),\n",
    "),        \n",
    "default_group_label = 'rep <group_idx>')\n",
    "\n",
    "selection_widget = eu.gui.jupyter.ExperimentDataPlotSelectionWidget(\n",
    "    experiment_data_loader,\n",
    "    datasources=['test_loss'],\n",
    "    experiment_ids='all',\n",
    "    repetition_ids='all',\n",
    "    output_format=('S', 'E', 'D'),\n",
    "    data_filter='',\n",
    "    plot_function=plotly_meanstd_scatter,\n",
    "    plot_function_config=plot_config,\n",
    "    state_backup_name='state_backup_127577033',\n",
    "    state_backup_variable_filter=['experiment_ids', 'repetition_ids'],  # only save these variables as backup\n",
    "    is_datasources_selection=False,\n",
    "    is_output_format_selection=False,\n",
    "    is_data_filter_selection=False,\n",
    "    is_plot_function_selection=False,\n",
    "    is_plot_function_config_editor=False,\n",
    "    is_code_producer=False) \n",
    "display(selection_widget)\n",
    "selection_widget.plot_data()"
   ]
  },
  {
   "cell_type": "code",
   "execution_count": 17,
   "metadata": {},
   "outputs": [
    {
     "name": "stdout",
     "output_type": "stream",
     "text": [
      "mlp_0.01: 2945\n",
      "mlp_0.001: 2945\n",
      "mlp_0.0001: 2945\n",
      "full_0.01: 3137\n",
      "full_0.001: 3137\n",
      "full_0.0001: 3137\n",
      "diag_0.01: 3009\n",
      "diag_0.001: 3009\n",
      "diag_0.0001: 3009\n",
      "scalar_0.01: 2945\n",
      "scalar_0.001: 2945\n",
      "scalar_0.0001: 2945\n",
      "univ_0.01: 2881\n",
      "univ_0.001: 2881\n",
      "univ_0.001: 2881\n",
      "mlp_0.01: 2945\n",
      "mlp_0.001: 2945\n",
      "mlp_0.0001: 2945\n",
      "full_0.01: 3137\n",
      "full_0.001: 3137\n",
      "full_0.0001: 3137\n",
      "diag_0.01: 3009\n",
      "diag_0.001: 3009\n",
      "diag_0.0001: 3009\n",
      "scalar_0.01: 2945\n",
      "scalar_0.001: 2945\n",
      "scalar_0.0001: 2945\n",
      "univ_0.01: 2881\n",
      "univ_0.001: 2881\n",
      "univ_0.001: 2881\n"
     ]
    }
   ],
   "source": [
    "experiment_data = experiment_data_loader.experiment_data\n",
    "experiment_data.keys()\n",
    "\n",
    "\n",
    "names = [\"mlp_0.01\",\"mlp_0.001\",\"mlp_0.0001\",\"full_0.01\",\"full_0.001\",\"full_0.0001\",\"diag_0.01\",\"diag_0.001\",\"diag_0.0001\",\"scalar_0.01\",\"scalar_0.001\",\"scalar_0.0001\",\"univ_0.01\",\"univ_0.001\",\"univ_0.001\"]*2\n",
    "\n",
    "\n",
    "\n",
    "for idx,(key, val) in enumerate(experiment_data.items()):\n",
    "    print(names[idx] +\": \"+str(val['repetition_data'][0]['params'][0]))\n"
   ]
  }
 ],
 "metadata": {
  "kernelspec": {
   "display_name": "Python 3 (ipykernel)",
   "language": "python",
   "name": "python3"
  },
  "language_info": {
   "codemirror_mode": {
    "name": "ipython",
    "version": 3
   },
   "file_extension": ".py",
   "mimetype": "text/x-python",
   "name": "python",
   "nbconvert_exporter": "python",
   "pygments_lexer": "ipython3",
   "version": "3.11.6"
  }
 },
 "nbformat": 4,
 "nbformat_minor": 4
}
